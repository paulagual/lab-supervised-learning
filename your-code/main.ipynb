{
 "cells": [
  {
   "cell_type": "markdown",
   "metadata": {},
   "source": [
    "# Before your start:\n",
    "- Read the README.md file\n",
    "- Comment as much as you can and use the resources in the README.md file\n",
    "- Happy learning!"
   ]
  },
  {
   "cell_type": "code",
   "execution_count": 1,
   "metadata": {},
   "outputs": [],
   "source": [
    "# Import your libraries:\n",
    "\n",
    "import seaborn as sns\n",
    "\n",
    "import matplotlib as mpl\n",
    "import matplotlib.pyplot as plt\n",
    "\n",
    "%matplotlib inline\n",
    "\n",
    "import numpy as np\n",
    "import pandas as pd\n",
    "\n",
    "\n",
    "pd.set_option('display.max_columns', None)\n",
    "pd.set_option('display.max_rows', None)"
   ]
  },
  {
   "cell_type": "markdown",
   "metadata": {},
   "source": [
    "In this lab, we will explore a dataset that describes websites with different features and labels them either benign or malicious . We will use supervised learning algorithms to figure out what feature patterns malicious websites are likely to have and use our model to predict malicious websites.\n",
    "\n",
    "# Challenge 1 - Explore The Dataset\n",
    "\n",
    "Let's start by exploring the dataset. First load the data file:"
   ]
  },
  {
   "cell_type": "code",
   "execution_count": 2,
   "metadata": {},
   "outputs": [],
   "source": [
    "websites = pd.read_csv('../data/website.csv')"
   ]
  },
  {
   "cell_type": "markdown",
   "metadata": {},
   "source": [
    "#### Explore the data from an bird's-eye view.\n",
    "\n",
    "You should already been very familiar with the procedures now so we won't provide the instructions step by step. Reflect on what you did in the previous labs and explore the dataset.\n",
    "\n",
    "Things you'll be looking for:\n",
    "\n",
    "* What the dataset looks like?\n",
    "* What are the data types?\n",
    "* Which columns contain the features of the websites?\n",
    "* Which column contains the feature we will predict? What is the code standing for benign vs malicious websites?\n",
    "* Do we need to transform any of the columns from categorical to ordinal values? If so what are these columns?\n",
    "\n",
    "Feel free to add additional cells for your explorations. Make sure to comment what you find out."
   ]
  },
  {
   "cell_type": "markdown",
   "metadata": {},
   "source": [
    "<font color='blue'>* The head and tail of the dataset\n",
    "</font>"
   ]
  },
  {
   "cell_type": "code",
   "execution_count": 3,
   "metadata": {},
   "outputs": [
    {
     "data": {
      "text/html": [
       "<div>\n",
       "<style scoped>\n",
       "    .dataframe tbody tr th:only-of-type {\n",
       "        vertical-align: middle;\n",
       "    }\n",
       "\n",
       "    .dataframe tbody tr th {\n",
       "        vertical-align: top;\n",
       "    }\n",
       "\n",
       "    .dataframe thead th {\n",
       "        text-align: right;\n",
       "    }\n",
       "</style>\n",
       "<table border=\"1\" class=\"dataframe\">\n",
       "  <thead>\n",
       "    <tr style=\"text-align: right;\">\n",
       "      <th></th>\n",
       "      <th>URL</th>\n",
       "      <th>URL_LENGTH</th>\n",
       "      <th>NUMBER_SPECIAL_CHARACTERS</th>\n",
       "      <th>CHARSET</th>\n",
       "      <th>SERVER</th>\n",
       "      <th>CONTENT_LENGTH</th>\n",
       "      <th>WHOIS_COUNTRY</th>\n",
       "      <th>WHOIS_STATEPRO</th>\n",
       "      <th>WHOIS_REGDATE</th>\n",
       "      <th>WHOIS_UPDATED_DATE</th>\n",
       "      <th>TCP_CONVERSATION_EXCHANGE</th>\n",
       "      <th>DIST_REMOTE_TCP_PORT</th>\n",
       "      <th>REMOTE_IPS</th>\n",
       "      <th>APP_BYTES</th>\n",
       "      <th>SOURCE_APP_PACKETS</th>\n",
       "      <th>REMOTE_APP_PACKETS</th>\n",
       "      <th>SOURCE_APP_BYTES</th>\n",
       "      <th>REMOTE_APP_BYTES</th>\n",
       "      <th>APP_PACKETS</th>\n",
       "      <th>DNS_QUERY_TIMES</th>\n",
       "      <th>Type</th>\n",
       "    </tr>\n",
       "  </thead>\n",
       "  <tbody>\n",
       "    <tr>\n",
       "      <th>0</th>\n",
       "      <td>M0_109</td>\n",
       "      <td>16</td>\n",
       "      <td>7</td>\n",
       "      <td>iso-8859-1</td>\n",
       "      <td>nginx</td>\n",
       "      <td>263.0</td>\n",
       "      <td>None</td>\n",
       "      <td>None</td>\n",
       "      <td>10/10/2015 18:21</td>\n",
       "      <td>None</td>\n",
       "      <td>7</td>\n",
       "      <td>0</td>\n",
       "      <td>2</td>\n",
       "      <td>700</td>\n",
       "      <td>9</td>\n",
       "      <td>10</td>\n",
       "      <td>1153</td>\n",
       "      <td>832</td>\n",
       "      <td>9</td>\n",
       "      <td>2.0</td>\n",
       "      <td>1</td>\n",
       "    </tr>\n",
       "    <tr>\n",
       "      <th>1</th>\n",
       "      <td>B0_2314</td>\n",
       "      <td>16</td>\n",
       "      <td>6</td>\n",
       "      <td>UTF-8</td>\n",
       "      <td>Apache/2.4.10</td>\n",
       "      <td>15087.0</td>\n",
       "      <td>None</td>\n",
       "      <td>None</td>\n",
       "      <td>None</td>\n",
       "      <td>None</td>\n",
       "      <td>17</td>\n",
       "      <td>7</td>\n",
       "      <td>4</td>\n",
       "      <td>1230</td>\n",
       "      <td>17</td>\n",
       "      <td>19</td>\n",
       "      <td>1265</td>\n",
       "      <td>1230</td>\n",
       "      <td>17</td>\n",
       "      <td>0.0</td>\n",
       "      <td>0</td>\n",
       "    </tr>\n",
       "    <tr>\n",
       "      <th>2</th>\n",
       "      <td>B0_911</td>\n",
       "      <td>16</td>\n",
       "      <td>6</td>\n",
       "      <td>us-ascii</td>\n",
       "      <td>Microsoft-HTTPAPI/2.0</td>\n",
       "      <td>324.0</td>\n",
       "      <td>None</td>\n",
       "      <td>None</td>\n",
       "      <td>None</td>\n",
       "      <td>None</td>\n",
       "      <td>0</td>\n",
       "      <td>0</td>\n",
       "      <td>0</td>\n",
       "      <td>0</td>\n",
       "      <td>0</td>\n",
       "      <td>0</td>\n",
       "      <td>0</td>\n",
       "      <td>0</td>\n",
       "      <td>0</td>\n",
       "      <td>0.0</td>\n",
       "      <td>0</td>\n",
       "    </tr>\n",
       "    <tr>\n",
       "      <th>3</th>\n",
       "      <td>B0_113</td>\n",
       "      <td>17</td>\n",
       "      <td>6</td>\n",
       "      <td>ISO-8859-1</td>\n",
       "      <td>nginx</td>\n",
       "      <td>162.0</td>\n",
       "      <td>US</td>\n",
       "      <td>AK</td>\n",
       "      <td>7/10/1997 4:00</td>\n",
       "      <td>12/09/2013 0:45</td>\n",
       "      <td>31</td>\n",
       "      <td>22</td>\n",
       "      <td>3</td>\n",
       "      <td>3812</td>\n",
       "      <td>39</td>\n",
       "      <td>37</td>\n",
       "      <td>18784</td>\n",
       "      <td>4380</td>\n",
       "      <td>39</td>\n",
       "      <td>8.0</td>\n",
       "      <td>0</td>\n",
       "    </tr>\n",
       "    <tr>\n",
       "      <th>4</th>\n",
       "      <td>B0_403</td>\n",
       "      <td>17</td>\n",
       "      <td>6</td>\n",
       "      <td>UTF-8</td>\n",
       "      <td>None</td>\n",
       "      <td>124140.0</td>\n",
       "      <td>US</td>\n",
       "      <td>TX</td>\n",
       "      <td>12/05/1996 0:00</td>\n",
       "      <td>11/04/2017 0:00</td>\n",
       "      <td>57</td>\n",
       "      <td>2</td>\n",
       "      <td>5</td>\n",
       "      <td>4278</td>\n",
       "      <td>61</td>\n",
       "      <td>62</td>\n",
       "      <td>129889</td>\n",
       "      <td>4586</td>\n",
       "      <td>61</td>\n",
       "      <td>4.0</td>\n",
       "      <td>0</td>\n",
       "    </tr>\n",
       "  </tbody>\n",
       "</table>\n",
       "</div>"
      ],
      "text/plain": [
       "       URL  URL_LENGTH  NUMBER_SPECIAL_CHARACTERS     CHARSET  \\\n",
       "0   M0_109          16                          7  iso-8859-1   \n",
       "1  B0_2314          16                          6       UTF-8   \n",
       "2   B0_911          16                          6    us-ascii   \n",
       "3   B0_113          17                          6  ISO-8859-1   \n",
       "4   B0_403          17                          6       UTF-8   \n",
       "\n",
       "                  SERVER  CONTENT_LENGTH WHOIS_COUNTRY WHOIS_STATEPRO  \\\n",
       "0                  nginx           263.0          None           None   \n",
       "1          Apache/2.4.10         15087.0          None           None   \n",
       "2  Microsoft-HTTPAPI/2.0           324.0          None           None   \n",
       "3                  nginx           162.0            US             AK   \n",
       "4                   None        124140.0            US             TX   \n",
       "\n",
       "      WHOIS_REGDATE WHOIS_UPDATED_DATE  TCP_CONVERSATION_EXCHANGE  \\\n",
       "0  10/10/2015 18:21               None                          7   \n",
       "1              None               None                         17   \n",
       "2              None               None                          0   \n",
       "3    7/10/1997 4:00    12/09/2013 0:45                         31   \n",
       "4   12/05/1996 0:00    11/04/2017 0:00                         57   \n",
       "\n",
       "   DIST_REMOTE_TCP_PORT  REMOTE_IPS  APP_BYTES  SOURCE_APP_PACKETS  \\\n",
       "0                     0           2        700                   9   \n",
       "1                     7           4       1230                  17   \n",
       "2                     0           0          0                   0   \n",
       "3                    22           3       3812                  39   \n",
       "4                     2           5       4278                  61   \n",
       "\n",
       "   REMOTE_APP_PACKETS  SOURCE_APP_BYTES  REMOTE_APP_BYTES  APP_PACKETS  \\\n",
       "0                  10              1153               832            9   \n",
       "1                  19              1265              1230           17   \n",
       "2                   0                 0                 0            0   \n",
       "3                  37             18784              4380           39   \n",
       "4                  62            129889              4586           61   \n",
       "\n",
       "   DNS_QUERY_TIMES  Type  \n",
       "0              2.0     1  \n",
       "1              0.0     0  \n",
       "2              0.0     0  \n",
       "3              8.0     0  \n",
       "4              4.0     0  "
      ]
     },
     "execution_count": 3,
     "metadata": {},
     "output_type": "execute_result"
    }
   ],
   "source": [
    "websites.head()"
   ]
  },
  {
   "cell_type": "code",
   "execution_count": 4,
   "metadata": {},
   "outputs": [
    {
     "data": {
      "text/html": [
       "<div>\n",
       "<style scoped>\n",
       "    .dataframe tbody tr th:only-of-type {\n",
       "        vertical-align: middle;\n",
       "    }\n",
       "\n",
       "    .dataframe tbody tr th {\n",
       "        vertical-align: top;\n",
       "    }\n",
       "\n",
       "    .dataframe thead th {\n",
       "        text-align: right;\n",
       "    }\n",
       "</style>\n",
       "<table border=\"1\" class=\"dataframe\">\n",
       "  <thead>\n",
       "    <tr style=\"text-align: right;\">\n",
       "      <th></th>\n",
       "      <th>URL</th>\n",
       "      <th>URL_LENGTH</th>\n",
       "      <th>NUMBER_SPECIAL_CHARACTERS</th>\n",
       "      <th>CHARSET</th>\n",
       "      <th>SERVER</th>\n",
       "      <th>CONTENT_LENGTH</th>\n",
       "      <th>WHOIS_COUNTRY</th>\n",
       "      <th>WHOIS_STATEPRO</th>\n",
       "      <th>WHOIS_REGDATE</th>\n",
       "      <th>WHOIS_UPDATED_DATE</th>\n",
       "      <th>TCP_CONVERSATION_EXCHANGE</th>\n",
       "      <th>DIST_REMOTE_TCP_PORT</th>\n",
       "      <th>REMOTE_IPS</th>\n",
       "      <th>APP_BYTES</th>\n",
       "      <th>SOURCE_APP_PACKETS</th>\n",
       "      <th>REMOTE_APP_PACKETS</th>\n",
       "      <th>SOURCE_APP_BYTES</th>\n",
       "      <th>REMOTE_APP_BYTES</th>\n",
       "      <th>APP_PACKETS</th>\n",
       "      <th>DNS_QUERY_TIMES</th>\n",
       "      <th>Type</th>\n",
       "    </tr>\n",
       "  </thead>\n",
       "  <tbody>\n",
       "    <tr>\n",
       "      <th>1776</th>\n",
       "      <td>M4_48</td>\n",
       "      <td>194</td>\n",
       "      <td>16</td>\n",
       "      <td>UTF-8</td>\n",
       "      <td>Apache</td>\n",
       "      <td>NaN</td>\n",
       "      <td>ES</td>\n",
       "      <td>Barcelona</td>\n",
       "      <td>17/09/2008 0:00</td>\n",
       "      <td>2/09/2016 0:00</td>\n",
       "      <td>0</td>\n",
       "      <td>0</td>\n",
       "      <td>0</td>\n",
       "      <td>0</td>\n",
       "      <td>0</td>\n",
       "      <td>3</td>\n",
       "      <td>186</td>\n",
       "      <td>0</td>\n",
       "      <td>0</td>\n",
       "      <td>0.0</td>\n",
       "      <td>1</td>\n",
       "    </tr>\n",
       "    <tr>\n",
       "      <th>1777</th>\n",
       "      <td>M4_41</td>\n",
       "      <td>198</td>\n",
       "      <td>17</td>\n",
       "      <td>UTF-8</td>\n",
       "      <td>Apache</td>\n",
       "      <td>NaN</td>\n",
       "      <td>ES</td>\n",
       "      <td>Barcelona</td>\n",
       "      <td>17/09/2008 0:00</td>\n",
       "      <td>2/09/2016 0:00</td>\n",
       "      <td>0</td>\n",
       "      <td>0</td>\n",
       "      <td>0</td>\n",
       "      <td>0</td>\n",
       "      <td>0</td>\n",
       "      <td>2</td>\n",
       "      <td>124</td>\n",
       "      <td>0</td>\n",
       "      <td>0</td>\n",
       "      <td>0.0</td>\n",
       "      <td>1</td>\n",
       "    </tr>\n",
       "    <tr>\n",
       "      <th>1778</th>\n",
       "      <td>B0_162</td>\n",
       "      <td>201</td>\n",
       "      <td>34</td>\n",
       "      <td>utf-8</td>\n",
       "      <td>Apache/2.2.16 (Debian)</td>\n",
       "      <td>8904.0</td>\n",
       "      <td>US</td>\n",
       "      <td>FL</td>\n",
       "      <td>15/02/1999 0:00</td>\n",
       "      <td>15/07/2015 0:00</td>\n",
       "      <td>83</td>\n",
       "      <td>2</td>\n",
       "      <td>6</td>\n",
       "      <td>6631</td>\n",
       "      <td>87</td>\n",
       "      <td>89</td>\n",
       "      <td>132181</td>\n",
       "      <td>6945</td>\n",
       "      <td>87</td>\n",
       "      <td>4.0</td>\n",
       "      <td>0</td>\n",
       "    </tr>\n",
       "    <tr>\n",
       "      <th>1779</th>\n",
       "      <td>B0_1152</td>\n",
       "      <td>234</td>\n",
       "      <td>34</td>\n",
       "      <td>ISO-8859-1</td>\n",
       "      <td>cloudflare-nginx</td>\n",
       "      <td>NaN</td>\n",
       "      <td>US</td>\n",
       "      <td>CA</td>\n",
       "      <td>1/04/1998 0:00</td>\n",
       "      <td>9/12/2016 0:00</td>\n",
       "      <td>0</td>\n",
       "      <td>0</td>\n",
       "      <td>0</td>\n",
       "      <td>0</td>\n",
       "      <td>0</td>\n",
       "      <td>0</td>\n",
       "      <td>0</td>\n",
       "      <td>0</td>\n",
       "      <td>0</td>\n",
       "      <td>0.0</td>\n",
       "      <td>0</td>\n",
       "    </tr>\n",
       "    <tr>\n",
       "      <th>1780</th>\n",
       "      <td>B0_676</td>\n",
       "      <td>249</td>\n",
       "      <td>40</td>\n",
       "      <td>utf-8</td>\n",
       "      <td>Microsoft-IIS/8.5</td>\n",
       "      <td>24435.0</td>\n",
       "      <td>US</td>\n",
       "      <td>Wisconsin</td>\n",
       "      <td>14/11/2008 0:00</td>\n",
       "      <td>20/11/2013 0:00</td>\n",
       "      <td>19</td>\n",
       "      <td>6</td>\n",
       "      <td>11</td>\n",
       "      <td>2314</td>\n",
       "      <td>25</td>\n",
       "      <td>28</td>\n",
       "      <td>3039</td>\n",
       "      <td>2776</td>\n",
       "      <td>25</td>\n",
       "      <td>6.0</td>\n",
       "      <td>0</td>\n",
       "    </tr>\n",
       "  </tbody>\n",
       "</table>\n",
       "</div>"
      ],
      "text/plain": [
       "          URL  URL_LENGTH  NUMBER_SPECIAL_CHARACTERS     CHARSET  \\\n",
       "1776    M4_48         194                         16       UTF-8   \n",
       "1777    M4_41         198                         17       UTF-8   \n",
       "1778   B0_162         201                         34       utf-8   \n",
       "1779  B0_1152         234                         34  ISO-8859-1   \n",
       "1780   B0_676         249                         40       utf-8   \n",
       "\n",
       "                      SERVER  CONTENT_LENGTH WHOIS_COUNTRY WHOIS_STATEPRO  \\\n",
       "1776                  Apache             NaN            ES      Barcelona   \n",
       "1777                  Apache             NaN            ES      Barcelona   \n",
       "1778  Apache/2.2.16 (Debian)          8904.0            US             FL   \n",
       "1779        cloudflare-nginx             NaN            US             CA   \n",
       "1780       Microsoft-IIS/8.5         24435.0            US      Wisconsin   \n",
       "\n",
       "        WHOIS_REGDATE WHOIS_UPDATED_DATE  TCP_CONVERSATION_EXCHANGE  \\\n",
       "1776  17/09/2008 0:00     2/09/2016 0:00                          0   \n",
       "1777  17/09/2008 0:00     2/09/2016 0:00                          0   \n",
       "1778  15/02/1999 0:00    15/07/2015 0:00                         83   \n",
       "1779   1/04/1998 0:00     9/12/2016 0:00                          0   \n",
       "1780  14/11/2008 0:00    20/11/2013 0:00                         19   \n",
       "\n",
       "      DIST_REMOTE_TCP_PORT  REMOTE_IPS  APP_BYTES  SOURCE_APP_PACKETS  \\\n",
       "1776                     0           0          0                   0   \n",
       "1777                     0           0          0                   0   \n",
       "1778                     2           6       6631                  87   \n",
       "1779                     0           0          0                   0   \n",
       "1780                     6          11       2314                  25   \n",
       "\n",
       "      REMOTE_APP_PACKETS  SOURCE_APP_BYTES  REMOTE_APP_BYTES  APP_PACKETS  \\\n",
       "1776                   3               186                 0            0   \n",
       "1777                   2               124                 0            0   \n",
       "1778                  89            132181              6945           87   \n",
       "1779                   0                 0                 0            0   \n",
       "1780                  28              3039              2776           25   \n",
       "\n",
       "      DNS_QUERY_TIMES  Type  \n",
       "1776              0.0     1  \n",
       "1777              0.0     1  \n",
       "1778              4.0     0  \n",
       "1779              0.0     0  \n",
       "1780              6.0     0  "
      ]
     },
     "execution_count": 4,
     "metadata": {},
     "output_type": "execute_result"
    }
   ],
   "source": [
    "websites.tail()"
   ]
  },
  {
   "cell_type": "markdown",
   "metadata": {},
   "source": [
    "<font color='blue'>* The shape of the dataset:\n",
    "</font>"
   ]
  },
  {
   "cell_type": "code",
   "execution_count": 5,
   "metadata": {},
   "outputs": [
    {
     "data": {
      "text/plain": [
       "(1781, 21)"
      ]
     },
     "execution_count": 5,
     "metadata": {},
     "output_type": "execute_result"
    }
   ],
   "source": [
    "websites.shape"
   ]
  },
  {
   "cell_type": "markdown",
   "metadata": {},
   "source": [
    "<font color='blue'> We have 1781 rows and 21 columns</font>"
   ]
  },
  {
   "cell_type": "markdown",
   "metadata": {},
   "source": [
    "<font color='blue'>* The types of each column:\n",
    "</font>"
   ]
  },
  {
   "cell_type": "code",
   "execution_count": 6,
   "metadata": {},
   "outputs": [
    {
     "data": {
      "text/plain": [
       "URL                           object\n",
       "URL_LENGTH                     int64\n",
       "NUMBER_SPECIAL_CHARACTERS      int64\n",
       "CHARSET                       object\n",
       "SERVER                        object\n",
       "CONTENT_LENGTH               float64\n",
       "WHOIS_COUNTRY                 object\n",
       "WHOIS_STATEPRO                object\n",
       "WHOIS_REGDATE                 object\n",
       "WHOIS_UPDATED_DATE            object\n",
       "TCP_CONVERSATION_EXCHANGE      int64\n",
       "DIST_REMOTE_TCP_PORT           int64\n",
       "REMOTE_IPS                     int64\n",
       "APP_BYTES                      int64\n",
       "SOURCE_APP_PACKETS             int64\n",
       "REMOTE_APP_PACKETS             int64\n",
       "SOURCE_APP_BYTES               int64\n",
       "REMOTE_APP_BYTES               int64\n",
       "APP_PACKETS                    int64\n",
       "DNS_QUERY_TIMES              float64\n",
       "Type                           int64\n",
       "dtype: object"
      ]
     },
     "execution_count": 6,
     "metadata": {},
     "output_type": "execute_result"
    }
   ],
   "source": [
    "websites.dtypes"
   ]
  },
  {
   "cell_type": "markdown",
   "metadata": {},
   "source": [
    "<font color='blue'>There are 14 numerical vars and 3 categorical vars.\n",
    "</font> "
   ]
  },
  {
   "cell_type": "markdown",
   "metadata": {},
   "source": [
    "<font color='blue'>* Check the nulls per column:\n",
    "</font>"
   ]
  },
  {
   "cell_type": "code",
   "execution_count": 7,
   "metadata": {},
   "outputs": [
    {
     "data": {
      "text/plain": [
       "URL                            0\n",
       "URL_LENGTH                     0\n",
       "NUMBER_SPECIAL_CHARACTERS      0\n",
       "CHARSET                        0\n",
       "SERVER                         1\n",
       "CONTENT_LENGTH               812\n",
       "WHOIS_COUNTRY                  0\n",
       "WHOIS_STATEPRO                 0\n",
       "WHOIS_REGDATE                  0\n",
       "WHOIS_UPDATED_DATE             0\n",
       "TCP_CONVERSATION_EXCHANGE      0\n",
       "DIST_REMOTE_TCP_PORT           0\n",
       "REMOTE_IPS                     0\n",
       "APP_BYTES                      0\n",
       "SOURCE_APP_PACKETS             0\n",
       "REMOTE_APP_PACKETS             0\n",
       "SOURCE_APP_BYTES               0\n",
       "REMOTE_APP_BYTES               0\n",
       "APP_PACKETS                    0\n",
       "DNS_QUERY_TIMES                1\n",
       "Type                           0\n",
       "dtype: int64"
      ]
     },
     "execution_count": 7,
     "metadata": {},
     "output_type": "execute_result"
    }
   ],
   "source": [
    "websites.isnull().sum()"
   ]
  },
  {
   "cell_type": "markdown",
   "metadata": {},
   "source": [
    "<font color='blue'>Content Leght has almost 50% of the rows without a value.\n",
    "</font>"
   ]
  },
  {
   "cell_type": "markdown",
   "metadata": {},
   "source": [
    "<font color='blue'>* Check the numerical vars details:\n",
    "</font>"
   ]
  },
  {
   "cell_type": "code",
   "execution_count": 8,
   "metadata": {},
   "outputs": [
    {
     "data": {
      "text/html": [
       "<div>\n",
       "<style scoped>\n",
       "    .dataframe tbody tr th:only-of-type {\n",
       "        vertical-align: middle;\n",
       "    }\n",
       "\n",
       "    .dataframe tbody tr th {\n",
       "        vertical-align: top;\n",
       "    }\n",
       "\n",
       "    .dataframe thead th {\n",
       "        text-align: right;\n",
       "    }\n",
       "</style>\n",
       "<table border=\"1\" class=\"dataframe\">\n",
       "  <thead>\n",
       "    <tr style=\"text-align: right;\">\n",
       "      <th></th>\n",
       "      <th>count</th>\n",
       "      <th>mean</th>\n",
       "      <th>std</th>\n",
       "      <th>min</th>\n",
       "      <th>25%</th>\n",
       "      <th>50%</th>\n",
       "      <th>75%</th>\n",
       "      <th>max</th>\n",
       "    </tr>\n",
       "  </thead>\n",
       "  <tbody>\n",
       "    <tr>\n",
       "      <th>URL_LENGTH</th>\n",
       "      <td>1781.0</td>\n",
       "      <td>56.961258</td>\n",
       "      <td>27.555586</td>\n",
       "      <td>16.0</td>\n",
       "      <td>39.0</td>\n",
       "      <td>49.0</td>\n",
       "      <td>68.0</td>\n",
       "      <td>249.0</td>\n",
       "    </tr>\n",
       "    <tr>\n",
       "      <th>NUMBER_SPECIAL_CHARACTERS</th>\n",
       "      <td>1781.0</td>\n",
       "      <td>11.111735</td>\n",
       "      <td>4.549896</td>\n",
       "      <td>5.0</td>\n",
       "      <td>8.0</td>\n",
       "      <td>10.0</td>\n",
       "      <td>13.0</td>\n",
       "      <td>43.0</td>\n",
       "    </tr>\n",
       "    <tr>\n",
       "      <th>CONTENT_LENGTH</th>\n",
       "      <td>969.0</td>\n",
       "      <td>11726.927761</td>\n",
       "      <td>36391.809051</td>\n",
       "      <td>0.0</td>\n",
       "      <td>324.0</td>\n",
       "      <td>1853.0</td>\n",
       "      <td>11323.0</td>\n",
       "      <td>649263.0</td>\n",
       "    </tr>\n",
       "    <tr>\n",
       "      <th>TCP_CONVERSATION_EXCHANGE</th>\n",
       "      <td>1781.0</td>\n",
       "      <td>16.261089</td>\n",
       "      <td>40.500975</td>\n",
       "      <td>0.0</td>\n",
       "      <td>0.0</td>\n",
       "      <td>7.0</td>\n",
       "      <td>22.0</td>\n",
       "      <td>1194.0</td>\n",
       "    </tr>\n",
       "    <tr>\n",
       "      <th>DIST_REMOTE_TCP_PORT</th>\n",
       "      <td>1781.0</td>\n",
       "      <td>5.472768</td>\n",
       "      <td>21.807327</td>\n",
       "      <td>0.0</td>\n",
       "      <td>0.0</td>\n",
       "      <td>0.0</td>\n",
       "      <td>5.0</td>\n",
       "      <td>708.0</td>\n",
       "    </tr>\n",
       "    <tr>\n",
       "      <th>REMOTE_IPS</th>\n",
       "      <td>1781.0</td>\n",
       "      <td>3.060640</td>\n",
       "      <td>3.386975</td>\n",
       "      <td>0.0</td>\n",
       "      <td>0.0</td>\n",
       "      <td>2.0</td>\n",
       "      <td>5.0</td>\n",
       "      <td>17.0</td>\n",
       "    </tr>\n",
       "    <tr>\n",
       "      <th>APP_BYTES</th>\n",
       "      <td>1781.0</td>\n",
       "      <td>2982.339135</td>\n",
       "      <td>56050.574748</td>\n",
       "      <td>0.0</td>\n",
       "      <td>0.0</td>\n",
       "      <td>672.0</td>\n",
       "      <td>2328.0</td>\n",
       "      <td>2362906.0</td>\n",
       "    </tr>\n",
       "    <tr>\n",
       "      <th>SOURCE_APP_PACKETS</th>\n",
       "      <td>1781.0</td>\n",
       "      <td>18.540146</td>\n",
       "      <td>41.627173</td>\n",
       "      <td>0.0</td>\n",
       "      <td>0.0</td>\n",
       "      <td>8.0</td>\n",
       "      <td>26.0</td>\n",
       "      <td>1198.0</td>\n",
       "    </tr>\n",
       "    <tr>\n",
       "      <th>REMOTE_APP_PACKETS</th>\n",
       "      <td>1781.0</td>\n",
       "      <td>18.746210</td>\n",
       "      <td>46.397969</td>\n",
       "      <td>0.0</td>\n",
       "      <td>0.0</td>\n",
       "      <td>9.0</td>\n",
       "      <td>25.0</td>\n",
       "      <td>1284.0</td>\n",
       "    </tr>\n",
       "    <tr>\n",
       "      <th>SOURCE_APP_BYTES</th>\n",
       "      <td>1781.0</td>\n",
       "      <td>15892.545761</td>\n",
       "      <td>69861.929888</td>\n",
       "      <td>0.0</td>\n",
       "      <td>0.0</td>\n",
       "      <td>579.0</td>\n",
       "      <td>9806.0</td>\n",
       "      <td>2060012.0</td>\n",
       "    </tr>\n",
       "    <tr>\n",
       "      <th>REMOTE_APP_BYTES</th>\n",
       "      <td>1781.0</td>\n",
       "      <td>3155.598540</td>\n",
       "      <td>56053.780246</td>\n",
       "      <td>0.0</td>\n",
       "      <td>0.0</td>\n",
       "      <td>735.0</td>\n",
       "      <td>2701.0</td>\n",
       "      <td>2362906.0</td>\n",
       "    </tr>\n",
       "    <tr>\n",
       "      <th>APP_PACKETS</th>\n",
       "      <td>1781.0</td>\n",
       "      <td>18.540146</td>\n",
       "      <td>41.627173</td>\n",
       "      <td>0.0</td>\n",
       "      <td>0.0</td>\n",
       "      <td>8.0</td>\n",
       "      <td>26.0</td>\n",
       "      <td>1198.0</td>\n",
       "    </tr>\n",
       "    <tr>\n",
       "      <th>DNS_QUERY_TIMES</th>\n",
       "      <td>1780.0</td>\n",
       "      <td>2.263483</td>\n",
       "      <td>2.930853</td>\n",
       "      <td>0.0</td>\n",
       "      <td>0.0</td>\n",
       "      <td>0.0</td>\n",
       "      <td>4.0</td>\n",
       "      <td>20.0</td>\n",
       "    </tr>\n",
       "    <tr>\n",
       "      <th>Type</th>\n",
       "      <td>1781.0</td>\n",
       "      <td>0.121280</td>\n",
       "      <td>0.326544</td>\n",
       "      <td>0.0</td>\n",
       "      <td>0.0</td>\n",
       "      <td>0.0</td>\n",
       "      <td>0.0</td>\n",
       "      <td>1.0</td>\n",
       "    </tr>\n",
       "  </tbody>\n",
       "</table>\n",
       "</div>"
      ],
      "text/plain": [
       "                            count          mean           std   min    25%  \\\n",
       "URL_LENGTH                 1781.0     56.961258     27.555586  16.0   39.0   \n",
       "NUMBER_SPECIAL_CHARACTERS  1781.0     11.111735      4.549896   5.0    8.0   \n",
       "CONTENT_LENGTH              969.0  11726.927761  36391.809051   0.0  324.0   \n",
       "TCP_CONVERSATION_EXCHANGE  1781.0     16.261089     40.500975   0.0    0.0   \n",
       "DIST_REMOTE_TCP_PORT       1781.0      5.472768     21.807327   0.0    0.0   \n",
       "REMOTE_IPS                 1781.0      3.060640      3.386975   0.0    0.0   \n",
       "APP_BYTES                  1781.0   2982.339135  56050.574748   0.0    0.0   \n",
       "SOURCE_APP_PACKETS         1781.0     18.540146     41.627173   0.0    0.0   \n",
       "REMOTE_APP_PACKETS         1781.0     18.746210     46.397969   0.0    0.0   \n",
       "SOURCE_APP_BYTES           1781.0  15892.545761  69861.929888   0.0    0.0   \n",
       "REMOTE_APP_BYTES           1781.0   3155.598540  56053.780246   0.0    0.0   \n",
       "APP_PACKETS                1781.0     18.540146     41.627173   0.0    0.0   \n",
       "DNS_QUERY_TIMES            1780.0      2.263483      2.930853   0.0    0.0   \n",
       "Type                       1781.0      0.121280      0.326544   0.0    0.0   \n",
       "\n",
       "                              50%      75%        max  \n",
       "URL_LENGTH                   49.0     68.0      249.0  \n",
       "NUMBER_SPECIAL_CHARACTERS    10.0     13.0       43.0  \n",
       "CONTENT_LENGTH             1853.0  11323.0   649263.0  \n",
       "TCP_CONVERSATION_EXCHANGE     7.0     22.0     1194.0  \n",
       "DIST_REMOTE_TCP_PORT          0.0      5.0      708.0  \n",
       "REMOTE_IPS                    2.0      5.0       17.0  \n",
       "APP_BYTES                   672.0   2328.0  2362906.0  \n",
       "SOURCE_APP_PACKETS            8.0     26.0     1198.0  \n",
       "REMOTE_APP_PACKETS            9.0     25.0     1284.0  \n",
       "SOURCE_APP_BYTES            579.0   9806.0  2060012.0  \n",
       "REMOTE_APP_BYTES            735.0   2701.0  2362906.0  \n",
       "APP_PACKETS                   8.0     26.0     1198.0  \n",
       "DNS_QUERY_TIMES               0.0      4.0       20.0  \n",
       "Type                          0.0      0.0        1.0  "
      ]
     },
     "execution_count": 8,
     "metadata": {},
     "output_type": "execute_result"
    }
   ],
   "source": [
    "websites.describe().T"
   ]
  },
  {
   "cell_type": "markdown",
   "metadata": {},
   "source": [
    "<font color='blue'>**Type** seems to be boolean as it only has values 0 an 1. Let's check it\n",
    "</font>"
   ]
  },
  {
   "cell_type": "code",
   "execution_count": 9,
   "metadata": {},
   "outputs": [
    {
     "data": {
      "text/plain": [
       "array([1, 0])"
      ]
     },
     "execution_count": 9,
     "metadata": {},
     "output_type": "execute_result"
    }
   ],
   "source": [
    "websites.Type.unique()"
   ]
  },
  {
   "cell_type": "markdown",
   "metadata": {},
   "source": [
    "<font color='blue'>Let's check the categorical vars:\n",
    "</font>"
   ]
  },
  {
   "cell_type": "code",
   "execution_count": 10,
   "metadata": {},
   "outputs": [
    {
     "data": {
      "text/html": [
       "<div>\n",
       "<style scoped>\n",
       "    .dataframe tbody tr th:only-of-type {\n",
       "        vertical-align: middle;\n",
       "    }\n",
       "\n",
       "    .dataframe tbody tr th {\n",
       "        vertical-align: top;\n",
       "    }\n",
       "\n",
       "    .dataframe thead th {\n",
       "        text-align: right;\n",
       "    }\n",
       "</style>\n",
       "<table border=\"1\" class=\"dataframe\">\n",
       "  <thead>\n",
       "    <tr style=\"text-align: right;\">\n",
       "      <th></th>\n",
       "      <th>count</th>\n",
       "      <th>unique</th>\n",
       "      <th>top</th>\n",
       "      <th>freq</th>\n",
       "    </tr>\n",
       "  </thead>\n",
       "  <tbody>\n",
       "    <tr>\n",
       "      <th>URL</th>\n",
       "      <td>1781</td>\n",
       "      <td>1781</td>\n",
       "      <td>B0_435</td>\n",
       "      <td>1</td>\n",
       "    </tr>\n",
       "    <tr>\n",
       "      <th>CHARSET</th>\n",
       "      <td>1781</td>\n",
       "      <td>9</td>\n",
       "      <td>UTF-8</td>\n",
       "      <td>676</td>\n",
       "    </tr>\n",
       "    <tr>\n",
       "      <th>SERVER</th>\n",
       "      <td>1780</td>\n",
       "      <td>239</td>\n",
       "      <td>Apache</td>\n",
       "      <td>386</td>\n",
       "    </tr>\n",
       "    <tr>\n",
       "      <th>WHOIS_COUNTRY</th>\n",
       "      <td>1781</td>\n",
       "      <td>49</td>\n",
       "      <td>US</td>\n",
       "      <td>1103</td>\n",
       "    </tr>\n",
       "    <tr>\n",
       "      <th>WHOIS_STATEPRO</th>\n",
       "      <td>1781</td>\n",
       "      <td>182</td>\n",
       "      <td>CA</td>\n",
       "      <td>372</td>\n",
       "    </tr>\n",
       "    <tr>\n",
       "      <th>WHOIS_REGDATE</th>\n",
       "      <td>1781</td>\n",
       "      <td>891</td>\n",
       "      <td>None</td>\n",
       "      <td>127</td>\n",
       "    </tr>\n",
       "    <tr>\n",
       "      <th>WHOIS_UPDATED_DATE</th>\n",
       "      <td>1781</td>\n",
       "      <td>594</td>\n",
       "      <td>None</td>\n",
       "      <td>139</td>\n",
       "    </tr>\n",
       "  </tbody>\n",
       "</table>\n",
       "</div>"
      ],
      "text/plain": [
       "                   count unique     top  freq\n",
       "URL                 1781   1781  B0_435     1\n",
       "CHARSET             1781      9   UTF-8   676\n",
       "SERVER              1780    239  Apache   386\n",
       "WHOIS_COUNTRY       1781     49      US  1103\n",
       "WHOIS_STATEPRO      1781    182      CA   372\n",
       "WHOIS_REGDATE       1781    891    None   127\n",
       "WHOIS_UPDATED_DATE  1781    594    None   139"
      ]
     },
     "execution_count": 10,
     "metadata": {},
     "output_type": "execute_result"
    }
   ],
   "source": [
    "websites.describe(include='O').T"
   ]
  },
  {
   "cell_type": "markdown",
   "metadata": {},
   "source": [
    "<font color='blue'>\n",
    "- The URL var seems to be a unique value for each row. <br>\n",
    "- The WHOIS_REGDATE and WHOIS_UPDATED_DATE seems to have a very common value None, than has to be treated as a NaN, that is arround the 7-8% of the values.\n",
    "</font>"
   ]
  },
  {
   "cell_type": "markdown",
   "metadata": {},
   "source": [
    "<font color='blue'>* Let's check the unique values for each column:\n",
    "</font>"
   ]
  },
  {
   "cell_type": "code",
   "execution_count": 11,
   "metadata": {},
   "outputs": [
    {
     "name": "stdout",
     "output_type": "stream",
     "text": [
      "URL\n",
      "['M0_109' 'B0_2314' 'B0_911' ... 'B0_162' 'B0_1152' 'B0_676']\n",
      "----------------------------------------\n",
      "URL_LENGTH\n",
      "[ 16  17  18  19  20  21  22  23  24  25  26  27  28  29  30  31  32  33\n",
      "  34  35  36  37  38  39  40  41  42  43  44  45  46  47  48  49  50  51\n",
      "  52  53  54  55  56  57  58  59  60  61  62  63  64  65  66  67  68  69\n",
      "  70  71  72  73  74  75  76  77  78  79  80  81  82  83  84  85  86  87\n",
      "  88  89  90  91  92  93  94  95  96  97  98  99 100 101 102 103 104 105\n",
      " 106 107 108 109 110 111 112 113 114 115 116 117 118 120 122 123 124 125\n",
      " 126 128 129 131 132 134 135 136 137 139 140 141 142 143 144 145 146 149\n",
      " 150 151 154 156 160 161 169 170 173 178 183 194 198 201 234 249]\n",
      "----------------------------------------\n",
      "NUMBER_SPECIAL_CHARACTERS\n",
      "[ 7  6  5  8  9 11 10 13 12 14 15 16 17 18 21 19 20 22 23 28 24 25 36 26\n",
      " 27 43 30 29 31 34 40]\n",
      "----------------------------------------\n",
      "CHARSET\n",
      "['iso-8859-1' 'UTF-8' 'us-ascii' 'ISO-8859-1' 'utf-8' 'None'\n",
      " 'windows-1251' 'ISO-8859' 'windows-1252']\n",
      "----------------------------------------\n",
      "SERVER\n",
      "['nginx' 'Apache/2.4.10' 'Microsoft-HTTPAPI/2.0' 'None' 'Apache/2'\n",
      " 'nginx/1.10.1' 'Apache' 'Apache/2.2.15 (Red Hat)'\n",
      " 'Apache/2.4.23 (Unix) OpenSSL/1.0.1e-fips mod_bwlimited/1.4'\n",
      " 'openresty/1.11.2.1' 'Apache/2.2.22' 'Apache/2.4.7 (Ubuntu)'\n",
      " 'nginx/1.12.0'\n",
      " 'Apache/2.4.12 (Unix) OpenSSL/1.0.1e-fips mod_bwlimited/1.4'\n",
      " 'Oracle-iPlanet-Web-Server/7.0' 'cloudflare-nginx' 'nginx/1.6.2'\n",
      " 'openresty' 'Heptu web server' 'Pepyaka/1.11.3' 'nginx/1.8.0'\n",
      " 'nginx/1.10.1 + Phusion Passenger 5.0.30' 'Apache/2.2.29 (Amazon)'\n",
      " 'Microsoft-IIS/7.5' 'LiteSpeed'\n",
      " 'Apache/2.4.25 (cPanel) OpenSSL/1.0.1e-fips mod_bwlimited/1.4' 'tsa_c'\n",
      " 'Apache/2.2.0 (Fedora)' 'Apache/2.2.22 (Debian)' 'Apache/2.2.15 (CentOS)'\n",
      " 'Apache/2.4.25' 'Apache/2.4.25 (Amazon) PHP/7.0.14' 'GSE'\n",
      " 'Apache/2.4.23 (Unix) OpenSSL/0.9.8e-fips-rhel5 mod_bwlimited/1.4'\n",
      " 'Apache/2.4.25 (Amazon) OpenSSL/1.0.1k-fips' 'Apache/2.2.22 (Ubuntu)'\n",
      " 'Tengine'\n",
      " 'Apache/2.4.18 (Unix) OpenSSL/0.9.8e-fips-rhel5 mod_bwlimited/1.4'\n",
      " 'Apache/2.4.10 (Debian)' 'Apache/2.4.6 (CentOS) PHP/5.6.8'\n",
      " 'Sun-ONE-Web-Server/6.1'\n",
      " 'Apache/2.4.18 (Unix) OpenSSL/1.0.2e Communique/4.1.10' 'AmazonS3'\n",
      " 'Apache/1.3.37 (Unix) mod_perl/1.29 mod_ssl/2.8.28 OpenSSL/0.9.7e-p1'\n",
      " 'ATS' 'Apache/2.2.27 (CentOS)'\n",
      " 'Apache/2.2.29 (Unix) mod_ssl/2.2.29 OpenSSL/1.0.1e-fips DAV/2 mod_bwlimited/1.4'\n",
      " 'CherryPy/3.6.0' 'Server' 'KHL'\n",
      " 'Apache/2.4.6 (CentOS) OpenSSL/1.0.1e-fips mod_fcgid/2.3.9 PHP/5.4.16 mod_jk/1.2.40'\n",
      " 'Apache/2.2.3 (CentOS)' 'Apache/2.4'\n",
      " 'Apache/1.3.27 (Unix)  (Red-Hat/Linux) mod_perl/1.26 PHP/4.3.3 FrontPage/5.0.2 mod_ssl/2.8.12 OpenSSL/0.9.6b'\n",
      " 'mw2114.codfw.wmnet'\n",
      " 'Apache/2.2.31 (Unix) mod_ssl/2.2.31 OpenSSL/1.0.1e-fips mod_bwlimited/1.4 mod_perl/2.0.8 Perl/v5.10.1'\n",
      " 'Apache/1.3.34 (Unix) PHP/4.4.4' 'Apache/2.2.31 (Amazon)'\n",
      " 'Jetty(9.0.z-SNAPSHOT)' 'Apache/2.2.31 (CentOS)' 'Apache/2.4.12 (Ubuntu)'\n",
      " 'HTTPDaemon'\n",
      " 'Apache/2.2.29 (Unix) mod_ssl/2.2.29 OpenSSL/1.0.1e-fips mod_bwlimited/1.4'\n",
      " 'MediaFire' 'DOSarrest' 'mw2232.codfw.wmnet' 'Sucuri/Cloudproxy'\n",
      " 'Apache/2.4.23 (Unix)' 'nginx/0.7.65' 'mw2260.codfw.wmnet'\n",
      " 'Apache/2.2.32' 'mw2239.codfw.wmnet' 'DPS/1.1.8'\n",
      " 'Apache/2.0.52 (Red Hat)'\n",
      " 'Apache/2.2.25 (Unix) mod_ssl/2.2.25 OpenSSL/0.9.8e-fips-rhel5 mod_bwlimited/1.4'\n",
      " 'Apache/1.3.31 (Unix) PHP/4.3.9 mod_perl/1.29 rus/PL30.20'\n",
      " 'Apache/2.2.13 (Unix) mod_ssl/2.2.13 OpenSSL/0.9.8e-fips-rhel5 mod_auth_passthrough/2.1 mod_bwlimited/1.4 PHP/5.2.10'\n",
      " 'nginx/1.1.19' 'ATS/5.3.0' 'Apache/2.2.3 (Red Hat)' 'nginx/1.4.3'\n",
      " 'Apache/2.2.29 (Unix) mod_ssl/2.2.29 OpenSSL/1.0.1e-fips mod_bwlimited/1.4 PHP/5.4.35'\n",
      " 'Apache/2.2.14 (FreeBSD) mod_ssl/2.2.14 OpenSSL/0.9.8y DAV/2 PHP/5.2.12 with Suhosin-Patch'\n",
      " 'Apache/2.2.14 (Unix) mod_ssl/2.2.14 OpenSSL/0.9.8e-fips-rhel5'\n",
      " 'Apache/1.3.39 (Unix) PHP/5.2.5 mod_auth_passthrough/1.8 mod_bwlimited/1.4 mod_log_bytes/1.2 mod_gzip/1.3.26.1a FrontPage/5.0.2.2635 DAV/1.0.3 mod_ssl/2.8.30 OpenSSL/0.9.7a'\n",
      " 'SSWS' 'Microsoft-IIS/8.0' 'Apache/2.4.18 (Ubuntu)'\n",
      " 'Apache/2.4.6 (CentOS) OpenSSL/1.0.1e-fips PHP/5.4.16 mod_apreq2-20090110/2.8.0 mod_perl/2.0.10 Perl/v5.24.1'\n",
      " 'Apache/2.2.20 (Unix)' 'YouTubeFrontEnd' 'nginx/1.11.3' 'nginx/1.11.2'\n",
      " 'nginx/1.10.0 (Ubuntu)' 'nginx/1.8.1' 'nginx/1.11.10'\n",
      " 'Squeegit/1.2.5 (3_sir)'\n",
      " 'Virtuoso/07.20.3217 (Linux) i686-generic-linux-glibc212-64  VDB'\n",
      " 'Apache-Coyote/1.1' 'Yippee-Ki-Yay' 'mw2165.codfw.wmnet'\n",
      " 'mw2192.codfw.wmnet' 'Apache/2.2.23 (Amazon)' 'nginx/1.4.6 (Ubuntu)'\n",
      " 'nginx + Phusion Passenger' 'Proxy Pandeiro UOL' 'mw2231.codfw.wmnet'\n",
      " 'openresty/1.11.2.2' 'mw2109.codfw.wmnet' 'nginx/0.8.54' 'Apache/2.4.6'\n",
      " 'mw2225.codfw.wmnet' 'Apache/1.3.27 (Unix) PHP/4.4.1'\n",
      " 'mw2236.codfw.wmnet' 'mw2101.codfw.wmnet' 'Varnish' 'Resin/3.1.8'\n",
      " 'mw2164.codfw.wmnet' 'Microsoft-IIS/8.5' 'mw2242.codfw.wmnet'\n",
      " 'Apache/2.4.6 (CentOS) OpenSSL/1.0.1e-fips PHP/5.5.38'\n",
      " 'mw2175.codfw.wmnet' 'mw2107.codfw.wmnet' 'mw2190.codfw.wmnet'\n",
      " 'Apache/2.4.6 (CentOS)' 'nginx/1.13.0' 'barista/5.1.3'\n",
      " 'mw2103.codfw.wmnet' 'Apache/2.4.25 (Debian)' 'ECD (fll/0790)'\n",
      " 'Pagely Gateway/1.5.1' 'nginx/1.10.3'\n",
      " 'Apache/2.4.25 (FreeBSD) OpenSSL/1.0.1s-freebsd PHP/5.6.30'\n",
      " 'mw2097.codfw.wmnet' 'mw2233.codfw.wmnet' 'fbs' 'mw2199.codfw.wmnet'\n",
      " 'mw2255.codfw.wmnet' 'mw2228.codfw.wmnet'\n",
      " 'Apache/2.2.31 (Unix) mod_ssl/2.2.31 OpenSSL/1.0.1e-fips mod_bwlimited/1.4 mod_fcgid/2.3.9'\n",
      " 'gunicorn/19.7.1'\n",
      " 'Apache/2.2.31 (Unix) mod_ssl/2.2.31 OpenSSL/0.9.8e-fips-rhel5 mod_bwlimited/1.4'\n",
      " 'Apache/2.4.6 (CentOS) OpenSSL/1.0.1e-fips PHP/5.4.16'\n",
      " 'mw2241.codfw.wmnet'\n",
      " 'Apache/1.3.33 (Unix) mod_ssl/2.8.24 OpenSSL/0.9.7e-p1 PHP/4.4.8'\n",
      " 'lighttpd' 'mw2230.codfw.wmnet'\n",
      " 'Apache/2.4.6 (CentOS) OpenSSL/1.0.1e-fips' 'AkamaiGHost'\n",
      " 'mw2240.codfw.wmnet' 'nginx/1.10.2' 'PWS/8.2.0.7' 'nginx/1.2.1' 'nxfps'\n",
      " 'Apache/2.2.16 (Unix) mod_ssl/2.2.16 OpenSSL/0.9.8e-fips-rhel5 mod_auth_passthrough/2.1 mod_bwlimited/1.4'\n",
      " 'Play' 'mw2185.codfw.wmnet' 'Apache/2.4.10 (Unix) OpenSSL/1.0.1k'\n",
      " 'Apache/Not telling (Unix) AuthTDS/1.1' 'Apache/2.2.11 (Unix) PHP/5.2.6'\n",
      " 'Scratch Web Server' 'marrakesh 1.12.2' 'nginx/0.8.35'\n",
      " 'mw2182.codfw.wmnet' 'squid/3.3.8' 'nginx/1.10.0' 'Nginx (OpenBSD)'\n",
      " 'Zope/(2.13.16; python 2.6.8; linux2) ZServer/1.1'\n",
      " 'Apache/2.2.26 (Unix) mod_ssl/2.2.26 OpenSSL/0.9.8e-fips-rhel5 mod_bwlimited/1.4 PHP/5.4.26'\n",
      " 'Apache/2.2.21 (Unix) mod_ssl/2.2.21 OpenSSL/0.9.8e-fips-rhel5 PHP/5.3.10'\n",
      " 'Apache/2.2.27 (Unix) OpenAM Web Agent/4.0.1-1 mod_ssl/2.2.27 OpenSSL/1.0.1p PHP/5.3.28'\n",
      " 'mw2104.codfw.wmnet' '.V01 Apache' 'mw2110.codfw.wmnet'\n",
      " 'Apache/2.4.6 (Unix) mod_jk/1.2.37 PHP/5.5.1 OpenSSL/1.0.1g mod_fcgid/2.3.9'\n",
      " 'mw2176.codfw.wmnet' 'mw2187.codfw.wmnet' 'mw2106.codfw.wmnet'\n",
      " 'Microsoft-IIS/7.0'\n",
      " 'Apache/1.3.42 Ben-SSL/1.60 (Unix) mod_gzip/1.3.26.1a mod_fastcgi/2.4.6 mod_throttle/3.1.2 Chili!Soft-ASP/3.6.2 FrontPage/5.0.2.2635 mod_perl/1.31 PHP/4.4.9'\n",
      " 'Aeria Games & Entertainment' 'nginx/1.6.3 + Phusion Passenger'\n",
      " 'Apache/2.4.10 (Debian) PHP/5.6.30-0+deb8u1 mod_perl/2.0.9dev Perl/v5.20.2'\n",
      " 'mw2173.codfw.wmnet'\n",
      " 'Apache/2.4.6 (Red Hat Enterprise Linux) OpenSSL/1.0.1e-fips mod_fcgid/2.3.9 Communique/4.2.0'\n",
      " 'Apache/2.2.15 (CentOS) DAV/2 mod_ssl/2.2.15 OpenSSL/1.0.1e-fips PHP/5.3.3'\n",
      " 'Apache/2.4.6 (CentOS) OpenSSL/1.0.1e-fips PHP/7.0.14'\n",
      " 'mw2198.codfw.wmnet' 'mw2172.codfw.wmnet' 'nginx/1.2.6'\n",
      " 'Apache/2.4.6 (Unix) mod_jk/1.2.37'\n",
      " 'Apache/2.4.25 (Unix) OpenSSL/1.0.1e-fips mod_bwlimited/1.4'\n",
      " 'nginx/1.4.4' 'Cowboy' 'mw2113.codfw.wmnet'\n",
      " 'Apache/2.2.14 (Unix) mod_ssl/2.2.14 OpenSSL/0.9.8a'\n",
      " 'Apache/2.4.10 (Ubuntu)' 'mw2224.codfw.wmnet' 'mw2171.codfw.wmnet'\n",
      " 'mw2257.codfw.wmnet' 'mw2226.codfw.wmnet' 'DMS/1.0.42' 'nginx/1.6.3'\n",
      " 'Application-Server' nan\n",
      " 'Apache/2.4.6 (CentOS) mod_fcgid/2.3.9 PHP/5.6.30' 'mw2177.codfw.wmnet'\n",
      " 'lighttpd/1.4.28' 'mw2197.codfw.wmnet'\n",
      " 'Apache/2.2.31 (FreeBSD) PHP/5.4.15 mod_ssl/2.2.31 OpenSSL/1.0.2d DAV/2'\n",
      " 'Apache/2.2.26 (Unix) mod_ssl/2.2.26 OpenSSL/1.0.1e-fips DAV/2 mod_bwlimited/1.4'\n",
      " 'Apache/2.2.24 (Unix) DAV/2 PHP/5.3.26 mod_ssl/2.2.24 OpenSSL/0.9.8y'\n",
      " 'mw2178.codfw.wmnet' '294' 'Microsoft-IIS/6.0' 'nginx/1.7.4'\n",
      " 'Apache/2.2.22 (Debian) mod_python/3.3.1 Python/2.7.3 mod_ssl/2.2.22 OpenSSL/1.0.1t'\n",
      " 'Apache/2.4.16 (Ubuntu)' 'www.lexisnexis.com  9999' 'nginx/0.8.38'\n",
      " 'mw2238.codfw.wmnet' 'Pizza/pepperoni' 'XXXXXXXXXXXXXXXXXXXXXX' 'MI'\n",
      " 'Roxen/5.4.98-r2'\n",
      " 'Apache/2.2.31 (Unix) mod_ssl/2.2.31 OpenSSL/1.0.1e-fips mod_bwlimited/1.4'\n",
      " 'nginx/1.9.13' 'mw2180.codfw.wmnet' 'Apache/2.2.14 (Ubuntu)'\n",
      " 'ebay server' 'nginx/0.8.55' 'Apache/2.2.10 (Linux/SUSE)' 'nginx/1.7.12'\n",
      " 'Apache/2.0.63 (Unix) mod_ssl/2.0.63 OpenSSL/0.9.8e-fips-rhel5 mod_auth_passthrough/2.1 mod_bwlimited/1.4 PHP/5.3.6'\n",
      " 'Boston.com Frontend' 'My Arse' 'IdeaWebServer/v0.80'\n",
      " 'Apache/2.4.17 (Unix) OpenSSL/1.0.1e-fips PHP/5.6.19'\n",
      " 'Microsoft-IIS/7.5; litigation_essentials.lexisnexis.com  9999'\n",
      " 'Apache/2.2.16 (Debian)']\n",
      "----------------------------------------\n",
      "CONTENT_LENGTH\n",
      "[2.63000e+02 1.50870e+04 3.24000e+02 1.62000e+02 1.24140e+05         nan\n",
      " 3.45000e+02 1.37160e+04 3.69200e+03 1.30540e+04 9.57000e+02 6.86000e+02\n",
      " 1.50250e+04 3.18000e+02 2.24000e+02 4.42100e+03 4.41000e+02 6.67100e+03\n",
      " 4.34000e+02 1.30010e+04 3.25700e+03 6.74800e+03 2.40000e+02 3.98500e+03\n",
      " 6.17300e+03 3.19000e+02 3.40000e+01 1.77800e+03 7.56000e+02 1.48390e+04\n",
      " 6.58000e+02 1.95000e+02 4.16600e+03 9.62000e+02 2.68800e+03 1.99000e+02\n",
      " 3.54800e+03 0.00000e+00 5.42600e+03 8.75600e+03 1.93000e+02 7.96700e+03\n",
      " 1.15060e+04 3.90360e+04 8.57800e+03 1.05760e+04 1.28460e+04 6.66600e+03\n",
      " 4.45000e+02 1.84380e+04 7.31400e+03 9.13600e+03 5.01900e+03 2.10000e+02\n",
      " 8.65400e+03 2.38000e+02 2.68560e+04 1.02100e+04 1.36840e+04 7.70000e+02\n",
      " 6.81300e+03 2.04040e+04 7.15900e+03 3.88000e+02 1.77000e+02 1.47030e+04\n",
      " 8.75100e+03 3.50000e+02 6.04000e+02 2.87000e+02 6.58150e+04 4.07500e+03\n",
      " 5.13200e+03 2.20040e+04 6.43000e+02 6.37000e+02 4.20762e+05 1.39900e+03\n",
      " 3.28000e+02 3.34000e+02 2.02120e+04 1.18270e+04 1.10800e+03 6.46000e+02\n",
      " 6.40000e+02 1.98900e+04 1.83020e+04 6.07220e+04 3.90000e+01 1.37100e+03\n",
      " 6.55000e+02 6.49000e+02 2.14000e+02 1.82980e+04 1.81900e+03 6.47400e+03\n",
      " 1.48600e+03 1.08920e+04 7.25500e+03 6.60800e+03 1.11000e+02 9.96000e+02\n",
      " 1.50100e+03 6.52000e+02 4.68500e+03 3.93620e+04 1.44620e+04 2.89000e+02\n",
      " 3.81150e+04 8.81300e+03 1.00200e+03 1.68750e+04 3.30000e+02 1.01330e+04\n",
      " 1.98790e+04 3.32600e+03 2.93000e+02 2.31000e+02 1.14180e+04 1.16920e+04\n",
      " 2.96000e+02 1.88000e+02 6.06200e+03 2.19000e+02 1.41090e+04 8.02200e+03\n",
      " 3.24410e+04 7.89100e+03 1.84000e+03 1.27680e+04 4.29700e+03 1.35444e+05\n",
      " 6.16000e+02 6.94400e+03 7.78300e+03 3.37000e+02 6.61000e+02 2.51600e+03\n",
      " 2.15000e+02 4.39700e+03 3.97400e+04 6.80670e+04 4.02990e+04 3.91600e+03\n",
      " 1.17200e+03 2.40870e+04 6.18000e+02 6.74600e+03 9.55500e+03 4.92900e+03\n",
      " 1.24000e+04 4.29520e+04 7.86800e+03 2.20000e+02 7.79700e+03 2.16000e+02\n",
      " 2.56306e+05 4.04000e+02 7.47200e+03 3.06300e+03 1.29850e+04 9.35200e+03\n",
      " 9.05000e+03 6.20000e+02 8.89000e+02 1.50200e+03 3.40000e+02 4.31000e+02\n",
      " 1.50000e+03 8.50700e+03 1.21211e+05 5.80000e+01 1.00700e+03 6.67000e+02\n",
      " 3.01600e+03 7.28300e+03 1.25130e+04 1.31830e+04 6.22200e+03 7.94200e+03\n",
      " 3.01300e+03 4.69200e+03 9.43300e+03 1.15900e+04 2.30000e+02 6.22000e+02\n",
      " 6.32790e+04 1.52400e+04 6.59930e+04 1.53630e+04 4.11000e+02 3.81190e+04\n",
      " 6.49800e+03 6.70000e+02 2.71030e+04 2.18000e+02 6.54730e+04 7.06500e+03\n",
      " 1.05880e+04 2.81000e+02 1.30000e+01 9.81700e+03 6.73000e+02 8.95000e+02\n",
      " 7.28900e+03 4.97400e+03 4.69100e+03 1.50500e+03 7.50900e+03 5.12700e+03\n",
      " 2.76600e+03 1.05610e+04 8.76900e+03 1.26080e+04 9.40000e+01 4.97000e+02\n",
      " 7.55000e+03 2.36000e+02 1.30890e+04 1.97240e+04 3.89000e+02 6.74400e+03\n",
      " 5.65300e+03 2.05920e+04 4.81600e+03 8.21900e+03 6.34000e+02 1.51100e+03\n",
      " 4.59580e+04 1.10000e+01 4.44460e+04 3.38000e+02 6.74000e+02 2.58250e+04\n",
      " 1.01980e+04 3.60000e+02 1.65250e+04 3.26000e+02 1.02730e+04 1.24500e+03\n",
      " 6.26400e+03 1.85000e+02 4.76400e+03 3.65000e+02 3.04200e+03 4.15470e+04\n",
      " 4.44470e+04 2.26000e+02 2.17000e+02 1.23680e+04 4.69500e+03 6.36000e+02\n",
      " 1.91000e+02 2.37710e+04 1.49470e+04 9.19400e+03 6.56000e+03 2.21000e+02\n",
      " 4.69800e+03 2.39300e+03 2.10000e+01 2.24790e+04 3.44000e+02 1.78100e+04\n",
      " 6.30000e+02 7.75800e+03 2.88600e+03 1.51000e+03 6.68040e+04 1.51900e+03\n",
      " 2.35000e+02 1.66000e+02 8.74500e+03 3.33000e+02 6.98400e+03 1.03030e+04\n",
      " 7.84000e+02 7.79000e+03 7.36200e+03 4.23000e+02 1.76470e+04 1.14800e+03\n",
      " 4.79000e+02 1.08040e+04 1.48890e+04 9.52700e+03 6.75000e+02 6.71350e+04\n",
      " 4.69900e+03 1.63330e+04 2.88000e+02 2.99000e+02 1.39130e+04 3.81230e+04\n",
      " 4.65790e+04 5.28000e+02 2.21100e+03 4.87700e+03 9.59000e+02 1.93610e+04\n",
      " 4.75000e+02 7.83000e+02 5.06000e+02 5.00500e+03 2.36700e+03 2.11900e+03\n",
      " 1.28000e+02 6.64410e+04 4.43930e+04 6.88100e+03 1.36800e+03 1.01000e+02\n",
      " 4.39960e+04 1.30760e+04 6.95300e+03 3.07100e+03 2.43000e+02 2.79700e+03\n",
      " 1.18900e+03 2.49710e+04 4.13000e+02 5.31600e+03 4.35494e+05 1.20800e+03\n",
      " 1.14900e+03 1.97000e+03 2.58660e+04 6.13000e+03 1.03330e+04 9.89000e+03\n",
      " 5.80900e+04 1.53020e+04 2.39000e+02 5.70000e+01 5.57000e+02 1.36500e+04\n",
      " 1.73020e+04 5.31500e+03 1.51600e+03 3.52900e+03 8.10500e+03 1.23500e+03\n",
      " 9.66200e+03 4.43130e+04 2.57000e+02 1.71670e+04 1.48630e+04 5.44300e+03\n",
      " 2.82390e+04 9.80100e+03 2.42000e+02 1.11580e+04 2.28970e+04 8.46600e+03\n",
      " 2.02300e+03 2.11000e+02 3.59174e+05 2.03090e+04 2.28000e+02 1.71400e+04\n",
      " 7.84900e+03 3.41000e+02 2.50300e+03 3.02000e+03 1.89520e+04 5.43800e+03\n",
      " 2.60000e+01 2.05180e+04 1.68200e+03 9.20800e+03 1.49530e+04 2.08000e+03\n",
      " 1.22750e+04 6.67020e+04 1.38980e+04 4.43240e+04 2.04740e+04 4.01790e+04\n",
      " 2.54710e+04 7.21500e+03 9.65000e+02 8.74100e+03 1.46720e+04 2.29000e+02\n",
      " 1.89000e+02 6.72830e+04 1.52300e+03 1.26400e+03 2.25000e+02 1.70720e+04\n",
      " 1.75410e+04 3.78200e+03 3.55000e+02 7.34000e+03 5.79600e+03 4.48000e+02\n",
      " 1.72490e+04 2.05040e+04 6.82800e+03 1.12020e+04 6.58800e+03 2.34000e+02\n",
      " 2.10460e+04 2.34630e+04 2.41000e+02 1.18200e+03 1.02800e+04 5.96200e+03\n",
      " 2.08082e+05 1.68800e+03 1.17900e+03 9.08370e+04 2.69580e+04 1.94040e+04\n",
      " 3.52000e+02 7.69700e+03 9.32200e+03 1.26290e+04 5.29000e+03 1.29650e+04\n",
      " 1.25000e+02 1.98670e+04 1.98000e+02 1.97300e+03 2.16660e+04 8.77400e+03\n",
      " 2.54400e+03 4.05820e+04 1.96710e+04 8.24000e+02 5.26000e+02 4.57600e+03\n",
      " 3.91980e+04 6.47300e+03 1.17800e+04 1.52200e+03 8.86400e+03 2.67000e+02\n",
      " 2.50900e+04 4.34700e+03 6.56700e+03 2.09860e+04 1.24400e+04 2.45000e+02\n",
      " 3.82000e+02 2.19200e+03 9.28500e+03 7.22100e+03 1.45060e+04 1.85300e+03\n",
      " 3.47500e+03 4.29130e+04 1.82350e+04 3.20000e+02 5.85800e+03 9.41800e+03\n",
      " 1.91110e+04 9.49800e+03 3.23440e+04 3.83000e+03 3.63770e+04 1.23390e+04\n",
      " 4.00350e+04 1.47500e+04 9.40500e+03 2.51000e+02 3.65710e+04 4.44000e+03\n",
      " 3.64000e+03 3.17000e+02 1.97000e+02 1.57420e+04 4.71000e+03 2.61170e+04\n",
      " 1.33400e+04 6.79500e+03 1.26060e+04 1.25030e+04 1.94000e+02 3.93300e+03\n",
      " 1.39200e+04 2.48000e+02 1.25640e+04 3.34930e+04 6.19740e+04 6.54230e+04\n",
      " 5.18000e+02 8.74200e+03 1.13970e+04 1.18672e+05 8.18700e+03 3.56000e+02\n",
      " 4.14170e+04 1.34810e+04 2.31030e+04 8.99200e+03 1.19880e+04 1.35220e+04\n",
      " 1.35960e+04 3.16240e+04 1.40920e+04 2.81900e+03 3.35280e+04 3.63000e+02\n",
      " 1.83200e+03 1.14500e+03 1.32400e+04 3.21030e+04 4.84000e+02 4.44910e+04\n",
      " 1.24870e+04 3.67400e+03 3.59100e+03 1.79080e+04 1.89010e+04 4.68840e+04\n",
      " 8.41700e+03 4.72100e+03 9.21830e+04 9.67200e+03 1.77210e+04 2.24090e+04\n",
      " 6.30490e+04 2.31460e+04 9.31300e+03 2.85080e+04 9.00000e+00 2.31440e+04\n",
      " 1.37070e+04 2.74300e+03 5.34200e+04 4.68870e+04 1.15930e+04 7.24000e+03\n",
      " 4.71000e+02 3.81490e+04 8.61900e+03 1.13260e+04 1.05270e+04 2.13000e+02\n",
      " 4.89700e+03 8.52100e+03 9.10100e+03 5.35200e+04 2.03400e+03 3.49300e+04\n",
      " 5.86600e+03 4.68860e+04 1.13230e+04 1.27730e+04 2.34120e+04 8.32600e+03\n",
      " 1.12430e+04 8.36400e+03 2.79760e+04 3.50000e+03 1.37470e+04 1.42910e+04\n",
      " 1.51080e+04 1.51870e+04 9.08300e+03 3.08240e+04 4.88310e+04 9.08400e+03\n",
      " 1.37760e+04 3.37990e+04 3.01930e+04 2.46324e+05 3.78360e+04 1.98560e+04\n",
      " 4.06050e+04 3.92000e+02 1.97930e+04 3.81550e+04 9.40600e+03 2.00000e+01\n",
      " 5.61000e+03 3.02850e+04 1.13630e+04 3.76870e+04 3.84830e+04 1.64790e+04\n",
      " 8.40400e+03 6.78300e+03 5.53670e+04 8.75500e+03 8.76200e+03 7.77800e+03\n",
      " 6.73000e+03 1.25880e+04 2.34600e+03 1.40600e+04 5.27200e+03 4.67800e+03\n",
      " 1.18330e+04 2.71310e+04 5.44730e+04 7.50300e+03 2.47020e+04 1.55910e+04\n",
      " 1.56660e+04 1.08430e+04 1.12300e+04 2.68570e+04 6.56700e+04 7.51760e+04\n",
      " 1.50580e+04 6.29800e+03 2.58860e+04 3.34810e+04 4.22900e+04 2.22640e+04\n",
      " 1.20270e+04 3.95170e+04 1.62300e+04 3.68160e+04 1.03150e+04 6.80400e+03\n",
      " 1.00163e+05 6.12100e+03 8.92000e+02 7.39270e+04 5.26800e+03 9.03200e+03\n",
      " 6.24400e+03 2.98400e+04 5.25520e+04 6.49263e+05 3.51700e+04 3.92900e+03\n",
      " 3.74000e+02 3.83610e+04 1.11040e+04 3.68290e+04 4.17000e+02 4.89000e+03\n",
      " 8.90400e+03 2.44350e+04]\n",
      "----------------------------------------\n",
      "WHOIS_COUNTRY\n",
      "['None' 'US' 'SC' 'GB' 'UK' 'RU' 'AU' 'CA' 'PA' 'se' 'IN' 'LU' 'TH'\n",
      " \"[u'GB'; u'UK']\" 'FR' 'NL' 'UG' 'JP' 'CN' 'SE' 'SI' 'IL' 'ru' 'KY' 'AT'\n",
      " 'CZ' 'PH' 'BE' 'NO' 'TR' 'LV' 'DE' 'ES' 'BR' 'us' 'KR' 'HK' 'UA' 'CH'\n",
      " 'United Kingdom' 'BS' 'PK' 'IT' 'Cyprus' 'BY' 'AE' 'IE' 'UY' 'KG']\n",
      "----------------------------------------\n",
      "WHOIS_STATEPRO\n",
      "['None' 'AK' 'TX' 'Mahe' 'CO' 'FL' 'Kansas' 'Novosibirskaya obl.' 'CA'\n",
      " 'Tennessee' 'Vi' 'OR' 'Texas' 'ALBERTA' 'PANAMA' 'Arizona' 'WI' 'Oregon'\n",
      " 'Andhra Pradesh' 'AB' 'Tamil Nadu' 'VA' 'NY' 'quebec' 'MA' 'ON'\n",
      " 'New Mexico' 'British Columbia' 'Massachusetts' 'California' 'bangkok'\n",
      " 'WEST MIDLANDS' 'TEXAS' 'WC1N' 'Kentucky' 'MD' 'NEW YORK' 'Washington'\n",
      " 'Colorado' 'PA' 'LA' 'WA' 'Queensland' 'MOSCOW' 'UK' 'P' 'NH'\n",
      " 'Pennsylvania' 'UTTAR PRADESH' 'NC' 'kireka' 'IL' 'Missouri' 'Osaka' 'QC'\n",
      " 'Michigan' 'Maryland' 'Ontario' 'South Carolina' 'Zhejiang' 'New York'\n",
      " 'QLD' 'NJ' 'GA' 'MO' 'HR' 'ab' 'Greater London' 'Illinois' '--' 'Fukuoka'\n",
      " 'BC' 'AL' 'Krasnoyarsk' 'MAINE' 'Virginia' 'MH' 'GRAND CAYMAN' 'Austria'\n",
      " 'DE' 'shandong' 'AZ' 'PRAHA' 'beijingshi' 'liaoningsheng'\n",
      " 'North Carolina' 'OH' 'Manila' 'Utah' 'MI' 'NSW' 'UT' 'New South Wales'\n",
      " 'WV' 'Ohio' 'RIX' 'TR' 'nj' 'Panama' 'SK' 'ca' 'Alicante' 'New Jersey'\n",
      " 'Vic' 'ME' 'worcs' 'Maine' 'London' 'Karnataka' 'Quebec' 'Indiana'\n",
      " 'NEW SOUTH WALES' '6110021' 'Not Applicable' 'Peterborough' 'CT'\n",
      " 'Minnesota' 'NOT APPLICABLE' 'VIC' 'Noord-Holland' 'CALIFORNIA' 'Nevada'\n",
      " 'Nebraska' 'ILOCOS NORTE R3' 'NV' 'MB' 'Florida' 'Central' 'Maharashtra'\n",
      " 'widestep@mail.ru' 'VERMONT' 'ZH' 'hunansheng' 'NONE' 'Wisconsin' 'UTAH'\n",
      " 'Utr' 'Bei Jing' '-' 'Manitoba' 'ALABAMA' 'New Providence' 'Punjab' 'qc'\n",
      " 'Connecticut' 'il' 'Berlin' 'INDAL' 'RM' 'va' 'ny' 'MAHARASHTR' 'ONTARIO'\n",
      " 'Haryana' 'MIDDLESEX' 'Rogaland' 'District of Columbia' 'DC' 'HANTS'\n",
      " 'Zug' 'VT' 'TN' 'ANTWERP' 'CH' 'TOKYO-TO' 'Saskatchewan' 'Alabama'\n",
      " 'Tottori' 'Arkansas' 'OK' 'Dubai' 'KS' 'Barcelona' 'CO. DUBLIN'\n",
      " 'Metro Manila' 'Montevideo' 'KG' 'FLORIDA' 'Other' 'QUEBEC' 'bc' 'Paris']\n",
      "----------------------------------------\n",
      "WHOIS_REGDATE\n",
      "['10/10/2015 18:21' 'None' '7/10/1997 4:00' '12/05/1996 0:00'\n",
      " '3/08/2016 14:30' '29/07/2002 0:00' '18/03/1997 0:00' '8/11/2014 7:41'\n",
      " '14/09/2007 0:00' '22/11/2016 0:00' '11/10/2002 0:00' '14/11/2002 0:00'\n",
      " '16/07/2000 0:00' '25/05/2013 0:00' '9/08/1999 0:00' '15/09/2013 0:00'\n",
      " '3/07/1999 0:00' '2/11/2003 0:00' '12/08/2008 22:10' '21/05/2009 0:00'\n",
      " '1/08/2002 0:00' '13/01/2005 0:00' '18/05/2005 19:41' '4/01/2001 0:00'\n",
      " '28/02/2008 10:58' '8/12/2006 0:00' '16/06/2000 0:00' '13/10/2000 0:00'\n",
      " '31/12/1999 0:00' '30/07/1996 0:00' '9/05/2008 0:00' '23/04/1999 0:00'\n",
      " '4/02/1997 0:00' '13/02/2003 0:00' '17/05/2008 0:00' '30/05/2002 0:00'\n",
      " '20/10/2005 0:00' '7/01/2006 0:00' '5/03/1996 5:00' '23/03/1995 0:00'\n",
      " '10/01/1998 0:00' '27/04/2016 0:00' '7/04/2011 0:00' '26/02/2009 0:00'\n",
      " '3/07/2002 0:00' '21/02/1995 0:00' '4/07/2007 0:00' '2/07/1998 0:00'\n",
      " '10/03/2005 0:00' '15/12/2004 0:00' '25/02/2008 0:00' '27/01/2005 0:00'\n",
      " '14/09/2006 0:00' '30/04/2010 14:12' '22/04/1997 0:00' '16/07/2016 0:00'\n",
      " '27/11/2016 19:09' '30/10/2009 0:00' '12/03/2009 21:00' '9/03/2000 17:50'\n",
      " '30/05/2008 0:00' '25/09/2000 0:00' '9/04/2002 0:00' '11/01/1997 0:00'\n",
      " '11/06/2000 0:00' '13/02/2002 19:55' '19/12/2007 0:00' '6/11/1997 0:00'\n",
      " '21/01/2000 0:00' '27/04/2009 0:00' '11/10/2000 0:00' '4/08/1998 0:00'\n",
      " '31/05/2000 0:00' '23/10/1999 0:00' '23/06/2010 0:00' '9/03/2000 0:00'\n",
      " '13/04/1994 0:00' '9/06/2010 0:00' '29/04/2009 0:00' '19/01/2015 0:00'\n",
      " '11/11/2015 0:00' '22/03/2017 0:00' '3/11/2009 0:00' '19/07/2010 20:03'\n",
      " '28/04/1997 0:00' '4/03/1996 0:00' '24/10/2007 0:00' '21/10/2004 0:00'\n",
      " '2002-03-20T23:59:59.0Z' '29/03/1997 0:00' '10/06/2008 0:00'\n",
      " '30/11/1999 0:00' '30/08/2004 0:00' '11/11/1996 0:00' '2/10/1995 4:00'\n",
      " '28/06/2011 0:00' '16/08/2016 0:00' '9/05/2000 17:31' '31/07/2000 0:00'\n",
      " '14/05/1999 0:00' '24/04/2009 0:00' '6/08/1998 0:00' '22/02/1996 0:00'\n",
      " '15/06/2007 0:00' '21/09/2009 0:00' '20/01/1995 0:00' '28/03/2006 0:00'\n",
      " '28/09/2007 16:06' '4/02/2017 0:00' '7/03/1996 0:00' '4/04/2003 0:00'\n",
      " '26/08/2015 0:00' '22/07/2004 0:00' '30/11/2004 0:00' '5/03/2008 0:00'\n",
      " '8/05/2003 0:00' '2/11/2010 21:52' '23/05/2006 0:00' '2/12/1998 0:00'\n",
      " '15/04/1999 0:00' '30/05/2003 0:00' '10/01/2002 0:57' '17/03/2006 0:00'\n",
      " '1/03/1999 0:00' '1/07/2015 0:00' '22/01/2006 0:00' '6/03/1996 5:00'\n",
      " '8/02/2013 0:00' '15/04/2003 0:00' '24/10/1996 0:00' '30/04/2016 0:00'\n",
      " '30/12/1999 0:00' '13/07/2001 0:00' '29/05/1996 0:00' '25/02/2004 0:00'\n",
      " '18/01/1995 0:00' '25/10/2014 0:00' '20/05/1996 0:00' '14/07/2000 0:00'\n",
      " '1/12/1996 5:00' '11/11/2000 0:00' '4/09/2004 0:00' '9/09/2005 13:44'\n",
      " '7/08/1996 0:00' '30/12/2005 0:00' '4/04/2006 0:00' '25/05/2000 0:00'\n",
      " '5/01/1996 0:00' '9/07/2008 0:00' '10/05/2006 20:00' '29/07/2006 0:00'\n",
      " '27/09/2010 0:00' '31/10/2008 0:00' '3/03/2000 0:00' '2/04/2008 0:00'\n",
      " '6/09/2016 0:00' '11/02/1997 0:00' '6/08/1995 0:00' '23/10/2008 0:00'\n",
      " '19/02/2009 0:00' '30/08/1998 0:00' '14/12/2006 0:00' '22/03/2005 3:36'\n",
      " '26/06/2009 0:00' '9/02/2000 14:17' '8/06/2007 0:00' '1/11/1994 0:00'\n",
      " '8/08/2013 0:00' '20/04/2000 0:00' '12/11/2016 0:00' '8/02/2000 0:00'\n",
      " '25/09/2003 0:00' '13/01/2001 0:12' '10/05/2002 0:00' '7/06/2005 0:00'\n",
      " '19/08/2012 0:00' '28/04/2003 0:00' '12/03/1999 0:00' '30/03/2011 0:00'\n",
      " '14/01/2008 0:00' '26/03/2000 0:00' '2/11/2002 0:00' '10/04/2010 0:00'\n",
      " '6/05/2010 16:44' '17/08/1999 12:43' '4/10/2006 0:00' '9/03/2007 0:00'\n",
      " '31/05/1996 0:00' '29/07/2004 0:00' '17/01/2005 0:00' '1/06/2005 0:00'\n",
      " '22/12/1999 0:00' '11/08/2002 0:00' '17/11/2003 0:00' '14/08/2008 0:00'\n",
      " '22/08/2010 0:00' '8/07/1996 0:00' '21/03/2014 0:00' '22/10/1998 0:00'\n",
      " '8/07/2010 0:00' '17/07/2009 0:00' '24/05/2001 20:47' '27/06/2004 0:00'\n",
      " '4/03/2004 0:00' '1/06/2004 0:00' '13/12/1995 0:00' '10/11/2000 0:00'\n",
      " '30/10/2003 0:00' '9/05/1998 0:00' '5/10/2006 0:00' '14/10/2005 0:00'\n",
      " '8/09/2003 0:00' '13/07/2008 0:00' '22/08/1996 0:00' '1/05/2002 0:00'\n",
      " '10/06/2005 0:00' '7/09/2000 0:00' '31/12/2015 0:00' '8/12/2007 0:00'\n",
      " '6/04/2008 0:00' '16/07/1998 0:00' '9/02/2001 0:00' '28/12/1999 0:00'\n",
      " '21/01/2008 0:00' '27/02/1996 0:00' '7/10/2006 0:00' '18/12/2004 0:00'\n",
      " '9/02/2009 0:00' '4/11/1998 0:00' '4/11/2016 0:00' '15/04/2004 0:00'\n",
      " '2/07/2010 0:00' '12/11/2007 20:49' '22/02/2006 0:00' '5/06/2000 0:00'\n",
      " '9/12/1996 0:00' '14/10/1999 0:00' '10/05/2006 23:10' '22/02/2001 0:00'\n",
      " '11/09/1997 4:00' '16/10/2000 0:00' '8/06/2006 0:00' '18/04/2001 0:00'\n",
      " '5/08/1993 0:00' '17/02/2011 0:00' '24/10/1999 0:00' '2/11/1996 0:00'\n",
      " '14/02/2000 0:00' '14/09/2009 8:39' '24/05/2000 0:00' '18/07/2005 0:00'\n",
      " '28/10/1999 0:00' '25/02/2006 0:00' '12/06/2007 0:00' '18/04/1995 0:00'\n",
      " '25/04/2000 0:00' '5/12/1997 0:00' '24/09/1996 0:00' '10/01/1992 0:00'\n",
      " '17/07/2001 0:00' '14/07/2011 0:00' '21/09/2001 0:00' '5/06/2003 0:00'\n",
      " '5/12/1996 0:00' '19/02/2002 1:02' '28/11/1999 0:00' '26/05/1997 0:00'\n",
      " '5/07/2008 0:00' '7/04/2007 0:00' '9/04/2011 16:13' '29/01/2004 16:01'\n",
      " '17/02/1999 5:00' '27/02/2000 15:05' '21/07/1995 0:00' '8/08/2002 0:00'\n",
      " '15/02/2005 0:00' '8/01/2009 10:56' '1/07/2007 5:40' '21/10/2006 0:00'\n",
      " '30/08/2000 0:00' '14/09/1995 0:00' '14/09/2000 8:47' '17/02/2006 0:00'\n",
      " '10/07/2002 0:00' '4/09/1996 4:00' '15/05/2005 0:00' '8/01/2004 0:00'\n",
      " '10/11/2009 0:00' '26/11/1996 0:00' '2/08/2010 0:00' '24/08/2003 0:00'\n",
      " '19/07/2010 0:00' '28/10/2008 0:00' '24/06/2003 0:00' '28/02/2008 0:00'\n",
      " '22/09/1993 0:00' '29/09/1994 0:00' '7/11/2016 0:00' '30/07/2009 4:01'\n",
      " '10/01/2007 15:27' '19/10/2005 0:00' '13/09/2001 23:03' '2/10/2005 0:00'\n",
      " '27/08/2002 0:00' '28/09/1996 0:00' '5/06/2006 0:00' '22/03/2006 0:00'\n",
      " '20/10/1998 0:00' '23/04/2002 18:56' '26/09/2005 0:00' '4/01/1995 0:00'\n",
      " '30/07/2004 0:00' '5/11/2008 0:00' '29/12/2005 0:00' '17/02/2009 0:00'\n",
      " '2/12/2005 0:00' '8/11/1998 0:00' '12/02/2002 0:00' '8/04/1996 0:00'\n",
      " '8/05/1996 0:00' '2/03/1999 0:00' '17/12/2007 0:00' '3/06/2000 0:00'\n",
      " '21/11/2016 0:00' '8/09/2007 0:00' '25/10/2006 0:00' '18/10/1994 0:00'\n",
      " '23/10/1996 0:00' '4/11/2003 0:00' '30/07/2002 0:00' '9/12/2008 0:00'\n",
      " '9/03/2010 0:00' '4/07/2001 23:21' '8/03/2016 0:00' '23/02/2010 0:00'\n",
      " '6/07/2016 14:30' '16/01/2016 0:00' '13/06/1997 0:00' '22/07/2005 18:52'\n",
      " '7/04/2002 20:00' '5/03/2013 20:51' '24/05/2004 0:00' '30/01/2006 0:00'\n",
      " '19/12/1997 0:00' '30/11/2006 0:00' '14/04/1999 0:00' '27/05/2008 0:00'\n",
      " '8/05/2004 20:53' '16/08/1999 0:00' '4/08/1995 0:00' '18/07/2002 0:00'\n",
      " '23/11/1994 0:00' '30/08/2015 0:00' '30/04/2009 0:00' '27/11/2006 0:00'\n",
      " '13/02/2017 0:00' '29/09/2015 0:00' '19/08/2004 0:00' '18/03/2016 0:00'\n",
      " '6/12/2010 0:00' '23/06/2003 0:00' '3/08/2004 0:00' '14/05/2002 0:00'\n",
      " '26/04/2001 0:00' '9/05/2004 18:06' '5/11/1997 5:00' '8/12/1995 0:00'\n",
      " '27/06/2001 0:00' '13/11/2002 0:00' '30/01/1996 0:00' '16/07/1999 0:00'\n",
      " '23/06/2006 0:00' '26/09/2003 0:00' '10/04/2002 0:00' '11/11/2006 0:00'\n",
      " '20/04/1995 4:00' '3/05/2015 0:00' '4/02/2005 0:00' '16/09/1996 4:00'\n",
      " '20/07/2006 0:00' '9/12/2003 0:00' '12/03/2008 0:00' '13/09/2000 0:00'\n",
      " '5/02/1999 0:00' '10/05/2000 0:00' '25/01/1995 0:00' '5/10/2005 0:00'\n",
      " '28/06/2006 0:00' '25/06/1997 0:00' '9/01/1998 0:00' '17/03/2000 0:00'\n",
      " '9/10/2016 17:08' '29/02/2008 0:00' '18/05/2001 0:00' '30/10/2002 0:00'\n",
      " '19/12/2000 0:00' '13/05/1998 0:00' '9/08/2009 0:00' '29/07/2007 0:00'\n",
      " '15/07/2009 0:00' '27/09/2000 0:00' '8/08/2001 0:00' '27/11/2002 0:00'\n",
      " '12/03/2009 1:58' '8/11/1993 0:00' '25/07/1998 0:00' '16/11/1999 0:00'\n",
      " '20/07/1998 4:00' '7/04/2003 0:00' '4/06/2009 0:00' '29/11/2000 0:00'\n",
      " '3/02/1999 0:00' '18/10/2000 0:00' '6/10/2005 0:00' '22/09/2009 0:00'\n",
      " '18/01/1994 0:00' '13/09/1996 4:00' '21/07/2008 0:00' '30/01/2007 0:00'\n",
      " '11/03/2017 0:00' '25/08/2004 0:00' '16/05/2001 0:00' '22/11/2003 0:00'\n",
      " '14/10/2016 0:00' '26/07/1995 0:00' '22/04/1999 0:00' '26/05/2006 0:00'\n",
      " '6/08/2002 0:00' '7/03/2000 0:00' '8/07/2000 0:00' '3/12/1999 0:00'\n",
      " '15/11/1998 0:00' '11/11/2007 0:00' '19/07/2004 0:00' '2/09/2003 0:00'\n",
      " '28/08/1998 0:00' '4/10/2003 0:00' '2/10/2007 0:00' '24/04/2007 0:00'\n",
      " '15/12/2010 0:00' '1/06/2001 0:00' '22/08/2007 0:00' '26/01/2001 0:00'\n",
      " '6/06/2007 0:00' '19/09/2002 0:00' '28/07/1995 0:00' '8/05/2001 0:00'\n",
      " '18/10/2002 0:00' '18/10/2004 0:00' '5/11/1997 0:00' '28/03/2000 0:00'\n",
      " '12/04/2000 0:00' '28/11/2006 0:00' '24/02/1996 0:00' '21/12/2005 0:00'\n",
      " '1/07/1998 0:00' '5/05/2004 0:00' '2/12/2004 0:00' '10/08/1998 0:00'\n",
      " '13/04/2005 0:00' '14/08/2000 0:00' '25/06/2002 0:00' '22/06/2014 0:00'\n",
      " '24/05/2015 0:00' '5/08/1999 0:00' '21/08/1998 0:00' '28/08/2003 0:00'\n",
      " '9/03/2004 0:00' '3/01/2002 0:00' '22/03/2009 0:00' '3/07/2000 17:33'\n",
      " '2/02/1996 0:00' '19/02/1997 0:00' '23/08/2010 0:00' '23/09/2009 0:00'\n",
      " '7/10/2005 16:25' '20/09/1995 0:00' '30/01/2003 0:00' '22/11/2000 0:00'\n",
      " '6/11/2001 1:42' '11/11/1999 0:00' '26/07/1990 0:00' '26/07/2003 0:00'\n",
      " '16/05/1995 0:00' '26/04/2004 0:00' '9/03/2006 0:00' '23/07/2011 0:00'\n",
      " '9/12/2002 0:00' '2/04/1999 0:00' '21/05/2007 21:12' '4/10/1996 0:00'\n",
      " '1/05/1996 0:00' '31/01/1995 5:00' '22/02/2007 0:00' '6/12/1994 0:00'\n",
      " '2/01/2003 0:00' '6/10/1999 0:00' '11/06/2003 0:00' '30/12/1996 0:00'\n",
      " '27/02/1998 5:00' '11/01/1999 0:00' '4/01/2007 0:00' '4/11/2004 22:27'\n",
      " '21/01/2007 22:31' '20/11/2007 0:00' '12/12/2003 0:00' '4/05/2001 0:00'\n",
      " '9/09/2002 0:00' '15/02/2000 0:00' '1/03/2005 0:00' '21/02/1992 0:00'\n",
      " '15/10/2005 0:00' '1/06/1996 0:00' '5/03/2005 0:00' '14/04/1998 0:00'\n",
      " '2/06/1994 0:00' '31/05/1995 0:00' '2/03/1995 0:00' '18/01/2008 0:00'\n",
      " '22/03/1999 0:00' '27/05/1998 0:00' '17/09/1998 0:00' '7/05/1998 0:00'\n",
      " '5/11/2003 0:00' '23/10/1994 0:00' '24/05/2010 0:00' '14/10/2007 12:24'\n",
      " '25/11/2016 0:00' '30/09/2002 0:00' '9/02/2007 0:00' '10/02/1999 0:00'\n",
      " '7/08/1995 0:00' '21/05/1997 0:00' '10/01/2006 0:00' '31/08/2004 0:00'\n",
      " '5/12/2005 0:00' '27/05/2002 0:00' '5/05/2001 0:00' '1/03/2008 0:00'\n",
      " '16/02/2005 0:00' '17/12/2005 0:00' '2/10/2002 0:00' '6/03/1998 0:00'\n",
      " '29/09/2005 0:00' '17/07/2000 0:00' '27/06/2015 0:00' '19/02/2005 0:00'\n",
      " '7/11/1996 0:00' '14/12/1995 5:00' '6/11/1998 0:00' '29/09/2000 0:00'\n",
      " '30/12/2002 0:00' '15/09/2003 0:00' '15/09/1997 0:00' '21/05/1998 0:00'\n",
      " '4/01/1997 0:00' '25/07/2003 18:21' '25/10/2005 0:00' '29/12/1999 0:00'\n",
      " '1/09/1995 4:00' '16/03/2003 8:22' '22/07/2008 0:00' '27/09/2013 0:00'\n",
      " '5/11/1999 0:00' 'b' '13/08/2002 0:00' '1/09/1998 0:00' '8/12/1997 0:00'\n",
      " '16/12/1993 5:00' '16/02/2001 9:00' '25/02/1999 0:00' '6/08/2004 0:00'\n",
      " '18/05/2003 7:22' '4/02/2003 0:00' '9/08/2002 18:13' '29/12/2008 0:00'\n",
      " '31/07/2006 0:00' '16/11/1998 0:00' '18/04/2000 0:00' '20/04/2001 0:00'\n",
      " '28/09/2005 0:00' '31/05/2005 0:00' '3/08/1998 0:00' '28/08/2007 0:00'\n",
      " '19/12/2006 0:00' '16/01/2001 0:00' '12/12/1990 0:00' '19/07/2016 0:00'\n",
      " '13/11/2003 0:00' '2/12/2000 0:00' '7/04/2006 16:53' '6/05/2006 0:00'\n",
      " '12/09/2009 21:54' '4/10/2010 0:00' '18/04/2005 22:11' '1/10/2001 0:00'\n",
      " '14/07/1998 4:00' '15/08/1995 0:00' '8/09/2004 0:00' '26/01/2001 12:11'\n",
      " '17/07/2006 0:00' '17/05/2001 0:00' '7/09/1993 0:00' '7/06/2001 0:00'\n",
      " '13/08/2004 0:00' '16/06/1996 0:00' '6/11/2007 0:00' '14/06/1995 0:00'\n",
      " '23/03/1998 0:00' '21/04/2002 0:00' '7/07/2007 0:00' '31/12/2005 0:00'\n",
      " '17/03/1996 5:00' '19/02/2002 0:00' '28/04/2005 0:00' '21/06/1997 0:00'\n",
      " '24/04/1999 0:00' '24/01/2001 0:00' '23/05/1997 0:00' '12/09/2002 0:00'\n",
      " '20/02/2006 0:00' '21/11/1997 0:00' '19/03/1999 0:00' '1/09/2016 0:00'\n",
      " '9/08/1995 0:00' '15/04/2010 0:00' '4/12/2014 0:00' '16/07/1998 16:08'\n",
      " '10/06/1999 0:00' '28/08/2001 0:00' '12/10/2003 0:00' '14/10/2001 0:00'\n",
      " '29/09/1998 0:00' '13/06/1995 0:00' '24/09/2006 0:00' '13/08/2003 0:00'\n",
      " '12/01/1995 0:00' '10/09/2003 0:00' '9/04/2008 0:00' '25/10/2002 0:00'\n",
      " '21/05/1995 0:00' '20/01/1998 0:00' '9/08/1996 0:00' '27/01/1999 0:00'\n",
      " '15/08/2013 0:00' '10/08/1999 0:00' '27/05/1997 0:00' '13/03/2000 0:00'\n",
      " '3/04/2011 0:00' '16/12/2004 0:00' '4/06/2010 0:00' '11/10/2005 0:00'\n",
      " '25/10/2003 0:00' '22/12/2003 0:00' '26/01/2007 0:00' '19/10/2006 0:00'\n",
      " '21/06/2004 6:33' '3/12/1996 0:00' '9/02/2005 0:00' '27/03/1998 0:00'\n",
      " '2/05/2005 0:00' '20/03/2002 0:00' '15/03/2005 0:00' '5/12/1996 5:00'\n",
      " '10/10/2006 0:00' '1/08/2007 0:00' '3/06/1993 0:00' '22/11/1996 0:00'\n",
      " '27/04/2007 0:00' '7/04/2006 10:47' '30/03/1994 0:00' '12/02/1999 0:00'\n",
      " '16/09/1996 0:00' '27/05/2010 0:00' '24/07/2006 17:52' '5/03/1998 0:00'\n",
      " '28/01/2006 0:00' '9/10/2014 0:00' '1/02/2003 16:44' '24/10/2000 0:00'\n",
      " '29/08/2001 0:00' '26/07/2005 0:00' '8/02/1996 0:00' '2/10/2001 13:00'\n",
      " '12/10/1997 4:00' '16/09/2004 0:00' '27/07/2003 0:00' '15/07/1999 0:00'\n",
      " '28/07/2007 0:00' '10/02/2000 0:00' '19/07/2004 14:56' '2/05/1996 0:00'\n",
      " '24/09/2009 0:00' '7/03/2001 0:00' '2/01/2001 0:00' '26/01/2006 21:09'\n",
      " '21/12/2006 0:00' '16/11/2016 0:00' '13/05/2011 0:00' '26/05/1998 0:00'\n",
      " '8/04/2000 0:00' '5/11/2007 0:00' '19/04/2006 0:00' '1/06/2006 0:00' '0'\n",
      " '10/03/1998 0:00' '23/01/2004 0:00' '3/03/1999 0:00' '3/06/1998 0:00'\n",
      " '11/01/2005 0:00' '2/06/2004 0:00' '11/06/2002 0:00' '15/11/1995 0:00'\n",
      " '15/12/1994 0:00' '23/07/1999 0:00' '17/08/1995 0:00' '7/09/1995 0:00'\n",
      " '29/01/2003 23:45' '3/08/1999 0:00' '27/01/2010 0:00' '28/12/1998 0:00'\n",
      " '18/01/1996 5:00' '17/11/2006 0:00' '21/05/2006 0:00' '24/11/2001 0:00'\n",
      " '6/09/1997 0:00' '31/10/1997 0:00' '22/09/2002 0:00' '1/05/2009 0:00'\n",
      " '8/04/2009 0:00' '10/05/2007 19:20' '8/04/1998 0:00' '20/10/2003 0:00'\n",
      " '5/08/2008 0:00' '29/03/2008 0:00' '15/12/2007 0:00' '3/09/1996 4:00'\n",
      " '2/08/2000 0:00' '5/11/2007 15:14' '9/01/2007 0:00' '29/03/2000 0:00'\n",
      " '20/03/2005 0:00' '3/07/2000 0:00' '3/10/1997 0:00' '31/01/1996 0:00'\n",
      " '20/08/2014 0:00' '16/11/1994 0:00' '16/05/2000 0:00' '14/12/2004 0:00'\n",
      " '2/10/2000 0:00' '16/06/2014 0:00' '7/02/2006 0:00' '29/04/1994 0:00'\n",
      " '7/12/2006 0:00' '14/04/2017 0:00' '10/08/1995 0:00' '18/10/2005 0:00'\n",
      " '23/06/1999 0:00' '3/05/2006 0:00' '26/05/1994 0:00' '17/08/2010 0:00'\n",
      " '2/03/2000 0:00' '26/01/2002 0:00' '4/02/1996 0:00' '23/07/2004 0:00'\n",
      " '17/05/2004 0:00' '19/11/1998 0:00' '18/06/2003 0:00' '7/07/1999 0:00'\n",
      " '25/02/2005 0:00' '22/08/2003 0:00' '20/08/2000 0:00' '3/03/2004 0:00'\n",
      " '10/11/1994 0:00' '9/07/1995 0:00' '22/09/2000 0:00' '17/04/1996 0:00'\n",
      " '25/11/1995 0:00' '2/04/2009 0:00' '10/12/2010 0:00' '5/11/1996 5:00'\n",
      " '8/03/2003 0:00' '12/08/2005 0:00' '23/11/1998 0:00' '14/03/2004 0:00'\n",
      " '27/06/1996 0:00' '19/05/2016 0:00' '24/05/2006 0:00' '12/02/2000 0:00'\n",
      " '3/05/2004 0:00' '15/12/1998 0:00' '15/04/2002 0:00' '5/02/2009 0:00'\n",
      " '7/07/1997 0:00' '5/03/1994 0:00' '22/05/1995 0:00' '23/04/1996 0:00'\n",
      " '25/03/2010 0:00' '27/01/1995 0:00' '17/09/2008 0:00' '9/08/1994 0:00'\n",
      " '26/03/2002 0:00' '26/04/1996 0:00' '19/05/2003 0:00' '20/10/2000 0:00'\n",
      " '2/07/1999 0:00' '17/03/2009 0:00' '27/05/2006 0:00' '25/07/1995 0:00'\n",
      " '11/08/2009 0:00' '24/03/2005 0:00' '29/03/1994 0:00' '1/02/1994 0:00'\n",
      " '2/01/2016 0:00' '24/02/2008 18:32' '2/12/1997 0:00' '17/10/2008 0:00'\n",
      " '16/02/2010 0:00' '10/05/1996 0:00' '27/01/2007 0:00' '8/06/2009 3:48'\n",
      " '19/04/2003 0:00' '20/12/1999 0:00' '29/12/2007 0:00' '10/01/2000 0:00'\n",
      " '17/05/2007 0:00' '10/08/2016 0:00' '23/12/1995 0:00' '3/01/2009 0:00'\n",
      " '22/11/1995 0:00' '26/06/2007 0:00' '1/03/1994 0:00' '13/12/1993 5:00'\n",
      " '14/12/2009 0:00' '1/04/2008 22:47' '28/11/1994 0:00' '9/12/1998 0:00'\n",
      " '6/09/2005 0:00' '7/11/2003 0:00' '18/03/1999 0:00' '8/02/2005 0:00'\n",
      " '8/12/2016 0:00' '21/11/1996 0:00' '3/09/1996 0:00' '29/09/1993 0:00'\n",
      " '19/12/1995 0:00' '23/03/1999 0:00' '27/01/2011 0:00' '13/01/1996 0:00'\n",
      " '28/02/1994 5:00' '26/06/1996 0:00' '16/05/1995 4:00' '16/07/2007 0:00'\n",
      " '22/05/2009 0:00' '10/03/2006 0:00' '18/12/2006 0:00' '10/09/1998 0:00'\n",
      " '26/06/1995 0:00' '28/12/2007 0:00' '28/07/1999 0:00' '28/02/2002 0:00'\n",
      " '8/02/1999 0:00' '16/06/2000 17:03' '27/02/1995 0:00' '13/02/1999 0:00'\n",
      " '12/06/2001 20:58' '23/05/1995 0:00' '16/01/2008 0:00' '31/07/1997 0:00'\n",
      " '4/03/2006 0:00' '1/11/2000 0:00' '18/12/2008 0:00' '31/08/2003 0:00'\n",
      " '3/06/1997 0:00' '29/04/1999 0:00' '22/06/1998 0:00' '14/12/1999 0:00'\n",
      " '28/01/2004 0:00' '28/03/2007 0:00' '27/07/1995 0:00' '15/06/2006 0:00'\n",
      " '13/07/1998 0:00' '8/01/1997 0:00' '29/07/1998 4:00' '14/08/1997 0:00'\n",
      " '23/11/2010 0:00' '20/12/2008 0:00' '26/06/1997 0:00' '15/02/1999 0:00'\n",
      " '1/04/1998 0:00' '14/11/2008 0:00']\n",
      "----------------------------------------\n",
      "WHOIS_UPDATED_DATE\n",
      "['None' '12/09/2013 0:45' '11/04/2017 0:00' '3/10/2016 3:45'\n",
      " '1/07/2016 0:00' '19/03/2017 0:00' '9/09/2015 0:00' '23/11/2016 0:00'\n",
      " '6/10/2016 0:00' '19/04/2015 0:00' '4/07/2015 0:00' '23/05/2016 0:00'\n",
      " '10/02/2015 0:00' '25/02/2017 0:00' '7/08/2015 0:00' '29/06/2015 0:00'\n",
      " '13/07/2016 17:36' '15/05/2016 0:00' '22/03/2016 0:00' '2/03/2017 0:00'\n",
      " '19/05/2016 10:14' '3/03/2017 0:00' '14/02/2017 20:27' '14/12/2015 0:00'\n",
      " '18/05/2016 0:00' '27/04/2017 0:00' '9/04/2017 0:00' '4/07/2016 0:00'\n",
      " '27/11/2015 0:00' '25/07/2016 0:00' '8/11/2014 0:00' '14/02/2017 0:00'\n",
      " '31/05/2016 0:00' '30/09/2016 0:00' '14/12/2016 0:00' '27/05/2016 14:46'\n",
      " '11/11/2012 0:00' '29/04/2017 0:00' '8/04/2017 0:00' '6/01/2017 0:00'\n",
      " '2/07/2016 0:00' '19/02/2017 0:00' '5/07/2016 0:00' '6/02/2017 0:00'\n",
      " '4/01/2017 0:00' '13/11/2016 0:00' '26/02/2017 0:00' '15/11/2013 0:00'\n",
      " '9/09/2016 0:00' '12/03/2017 1:47' '22/02/2017 0:00' '22/12/2016 0:00'\n",
      " '1/02/2017 0:01' '27/10/2016 0:00' '30/05/2016 0:00' '18/07/2016 0:00'\n",
      " '10/04/2017 0:00' '30/04/2015 0:00' '23/02/2017 17:46' '21/11/2016 0:00'\n",
      " '6/11/2016 0:00' '8/11/2016 0:00' '27/02/2017 0:00' '12/12/2016 0:00'\n",
      " '2/04/2014 0:00' '13/08/2016 0:00' '23/04/2015 0:00' '13/02/2014 0:00'\n",
      " '13/03/2017 0:00' '21/06/2016 0:00' '8/03/2017 0:00' '16/02/2016 0:00'\n",
      " '23/03/2017 0:00' '4/03/2017 0:00' '20/09/2016 13:11' '24/04/2017 0:00'\n",
      " '7/01/2015 0:00' '22/10/2016 0:00' '14/10/2014 0:00'\n",
      " '2017-03-07T22:02:38.0Z' '29/11/2016 0:00' '9/06/2016 0:00'\n",
      " '6/03/2017 0:00' '18/08/2016 0:00' '27/04/2015 0:00' '30/09/2016 9:12'\n",
      " '26/03/2017 0:00' '11/10/2016 0:20' '29/06/2016 0:00' '18/03/2017 0:00'\n",
      " '7/11/2014 0:00' '16/01/2015 0:00' '12/05/2015 0:00' '9/08/2016 0:00'\n",
      " '18/04/2017 0:00' '22/11/2016 0:00' '24/02/2017 0:00' '28/03/2017 18:24'\n",
      " '4/02/2017 0:00' '9/03/2017 0:00' '5/04/2017 0:00' '26/08/2016 0:00'\n",
      " '23/06/2016 0:00' '7/03/2017 0:00' '14/04/2016 0:00' '9/05/2016 0:00'\n",
      " '20/10/2015 23:34' '13/07/2016 0:00' '2/12/2016 0:00' '20/06/2012 0:00'\n",
      " '10/07/2015 0:00' '26/02/2014 23:35' '14/08/2013 0:00' '7/03/2013 0:00'\n",
      " '4/03/2016 0:00' '22/01/2017 0:00' '28/10/2013 10:54' '15/03/2017 0:00'\n",
      " '19/02/2016 0:00' '19/10/2016 0:00' '4/09/2013 0:00' '4/10/2016 0:00'\n",
      " '8/01/2016 0:00' '26/04/2015 0:00' '21/03/2017 0:00' '16/01/2016 0:00'\n",
      " '20/03/2017 0:00' '26/08/2015 0:00' '26/10/2016 0:00' '24/10/2016 0:00'\n",
      " '22/03/2017 0:00' '30/11/2016 10:30' '3/05/2012 0:00' '24/08/2016 0:00'\n",
      " '10/09/2016 13:29' '14/05/2015 0:00' '5/11/2015 0:00' '24/05/2016 0:00'\n",
      " '5/05/2016 0:00' '14/07/2008 0:00' '28/09/2016 0:00' '1/12/2016 0:00'\n",
      " '12/01/2017 0:00' '23/01/2017 0:00' '12/03/2017 0:00' '10/09/2012 0:00'\n",
      " '24/07/2012 0:00' '22/12/2015 0:00' '13/12/2016 0:00' '22/03/2017 3:37'\n",
      " '29/03/2017 0:00' '18/09/2012 0:00' '27/10/2015 0:00' '26/07/2016 0:00'\n",
      " '25/04/2017 0:00' '26/04/2016 0:00' '16/11/2016 0:00' '31/10/2016 0:00'\n",
      " '18/07/2014 0:00' '12/12/2015 10:16' '27/07/2016 0:00' '24/06/2016 0:00'\n",
      " '28/04/2017 0:00' '14/01/2017 0:00' '2/02/2017 0:00' '20/09/2013 15:03'\n",
      " '21/04/2017 16:47' '3/03/2015 0:00' '15/04/2016 0:00' '3/01/2016 0:00'\n",
      " '18/01/2017 0:00' '24/05/2012 0:00' '11/11/2016 0:00' '16/03/2017 0:00'\n",
      " '7/07/2016 0:00' '27/01/2017 0:20' '19/11/2012 0:00' '5/10/2015 0:00'\n",
      " '2/06/2016 0:00' '10/11/2016 0:00' '10/09/2016 0:00' '10/05/2016 0:00'\n",
      " '21/04/2017 0:00' '9/12/2015 0:00' '1/09/2012 0:00' '4/06/2015 0:00'\n",
      " '8/12/2016 0:00' '25/12/2016 0:00' '28/03/2017 0:00' '18/12/2014 0:00'\n",
      " '16/05/2016 0:00' '28/12/2016 0:00' '28/12/2014 0:00' '17/04/2016 0:00'\n",
      " '27/01/2016 0:00' '15/11/2016 0:00' '22/02/2016 0:00' '28/03/2017 18:16'\n",
      " '6/07/2015 0:00' '9/10/2015 0:00' '20/11/2013 0:00' '11/05/2016 14:19'\n",
      " '24/01/2017 0:00' '9/12/2015 14:43' '25/10/2016 0:00' '19/04/2017 0:00'\n",
      " '18/02/2017 0:00' '29/07/2016 0:00' '26/11/2014 0:00' '14/02/2016 0:00'\n",
      " '6/09/2016 8:26' '25/05/2016 0:00' '18/06/2016 0:00' '29/08/2016 0:00'\n",
      " '26/02/2016 0:00' '5/10/2016 0:00' '14/11/2016 0:00' '4/08/2015 0:00'\n",
      " '31/03/2017 0:00' '30/01/2017 0:00' '5/01/2016 0:00' '28/05/2014 0:00'\n",
      " '30/06/2016 0:00' '30/11/2016 0:00' '9/09/2013 0:00' '23/04/2017 0:00'\n",
      " '30/08/2016 0:00' '28/02/2017 10:46' '29/12/2016 14:11' '19/12/2016 8:39'\n",
      " '31/05/2016 17:46' '26/09/2016 0:00' '29/07/2015 0:00' '9/01/2017 10:11'\n",
      " '8/12/2016 14:01' '18/04/2015 0:00' '12/05/2016 0:00' '15/09/2016 21:37'\n",
      " '19/08/2015 0:00' '16/08/2016 0:00' '18/10/2013 0:00' '26/04/2016 9:14'\n",
      " '15/04/2017 0:00' '3/01/2017 0:00' '21/04/2015 0:00' '2/11/2016 0:00'\n",
      " '4/05/2016 0:00' '20/07/2016 0:00' '3/04/2016 0:00' '22/08/2016 0:00'\n",
      " '15/02/2017 0:00' '7/11/2016 0:00' '19/04/2017 10:41' '9/01/2017 16:53'\n",
      " '18/10/2016 0:00' '28/06/2016 0:00' '13/02/2013 1:33' '7/02/2017 0:00'\n",
      " '3/10/2016 0:00' '1/06/2016 0:00' '24/03/2017 0:00' '4/12/2013 0:00'\n",
      " '20/08/2015 15:58' '23/07/2011 0:00' '30/03/2014 0:00' '7/10/2016 0:00'\n",
      " '30/09/2015 0:00' '16/02/2015 0:00' '16/03/2015 0:00' '16/10/2014 0:00'\n",
      " '18/11/2016 0:00' '27/01/2017 0:00' '1/02/2017 0:00' '15/12/2015 0:00'\n",
      " '13/01/2017 0:00' '28/02/2017 0:00' '4/11/2016 0:00' '26/06/2014 0:00'\n",
      " '18/01/2013 0:00' '19/04/2017 17:24' '5/09/2016 3:47' '21/07/2016 18:54'\n",
      " '5/05/2013 3:46' '14/04/2014 0:00' '5/11/2012 0:00' '17/04/2015 0:00'\n",
      " '8/08/2015 0:00' '27/05/2015 0:00' '4/04/2014 15:11' '17/08/2013 0:00'\n",
      " '26/01/2017 0:00' '10/07/2013 0:00' '2/07/2014 0:00' '5/01/2017 0:00'\n",
      " '14/03/2017 0:00' '7/12/2016 0:00' '8/12/2015 0:00' '2/01/2017 0:00'\n",
      " '4/08/2016 0:00' '24/04/2017 11:55' '5/09/2016 8:00' '4/04/2014 0:00'\n",
      " '29/03/2013 0:00' '23/11/2015 0:00' '17/06/2016 0:00' '7/03/2013 19:26'\n",
      " '5/04/2017 13:36' '5/03/2013 0:00' '19/05/2016 0:00' '16/06/2014 0:00'\n",
      " '11/10/2016 0:00' '5/12/2013 0:00' '21/05/2015 0:00' '1/02/2013 0:00'\n",
      " '17/01/2016 0:00' '21/02/2017 0:00' '19/03/2016 0:00' '6/07/2016 0:00'\n",
      " '16/12/2016 0:00' '9/07/2016 0:00' '20/04/2015 0:00' '10/10/2016 0:00'\n",
      " '9/11/2015 0:00' '18/04/2017 1:29' '12/10/2015 0:00' '5/03/2017 0:00'\n",
      " '5/11/2016 0:00' '21/02/2017 3:57' '1/11/2013 0:00' '21/10/2016 0:00'\n",
      " '29/01/2017 0:00' '16/07/2016 7:42' '13/05/2015 0:00' '1/05/2014 0:00'\n",
      " '14/10/2016 0:00' '25/02/2015 0:00' '21/07/2016 0:00' '8/09/2016 0:00'\n",
      " '15/10/2015 0:00' '5/03/2016 0:00' '6/10/2015 0:00' '23/12/2011 0:00'\n",
      " '18/12/2015 0:00' '18/09/2015 0:00' '17/12/2016 0:00' '8/12/2014 0:00'\n",
      " '31/08/2016 0:00' '17/05/2016 0:00' '24/07/2014 0:00' '19/12/2015 0:00'\n",
      " '4/09/2016 0:00' '26/11/2015 0:00' '30/04/2014 0:00' '28/04/2015 0:00'\n",
      " '17/10/2016 0:00' '2/07/2015 0:00' '14/04/2015 0:00' '4/04/2017 0:00'\n",
      " '13/03/2014 0:00' '27/12/2016 0:00' '26/06/2016 0:00' '20/04/2016 0:00'\n",
      " '25/11/2015 0:00' '10/07/2012 0:00' '29/04/2016 0:00' '22/06/2016 0:00'\n",
      " '22/04/2016 0:00' '10/02/2017 0:00' '4/01/2016 0:00' '12/01/2015 0:00'\n",
      " '4/07/2016 14:14' '7/04/2016 0:00' '10/09/2016 6:58' '31/01/2016 0:00'\n",
      " '11/03/2017 15:28' '16/04/2016 0:00' '23/02/2017 0:00' '7/12/2015 0:00'\n",
      " '2/05/2014 0:00' '6/05/2016 0:00' '27/03/2014 15:06' '17/01/2017 0:00'\n",
      " '25/03/2017 0:00' '4/12/2014 17:41' '3/11/2015 0:00' '1/01/2017 0:00'\n",
      " '13/12/2008 0:00' '18/10/2014 0:00' '30/10/2016 0:00' '17/12/2012 21:45'\n",
      " '21/09/2016 15:14' '23/12/2016 4:58' '27/03/2017 0:00' '14/01/2016 0:00'\n",
      " '13/05/2016 0:00' '9/11/2016 0:00' '29/08/2014 0:00' '10/01/2017 0:00'\n",
      " '7/09/2016 0:00' '13/09/2016 0:00' '2/04/2017 0:00' '14/04/2017 0:00'\n",
      " '18/11/2013 0:00' '15/07/2016 0:00' '16/09/2016 0:00' '1/11/2016 0:00'\n",
      " '1/09/2016 14:20' '24/09/2016 0:00' '9/02/2017 0:00' '27/03/2014 0:00'\n",
      " '11/11/2014 0:00' '22/04/2015 0:00' '28/01/2015 0:00' '24/02/2016 0:00'\n",
      " '18/11/2015 0:00' '30/03/2017 0:00' '18/04/2016 0:00' '20/02/2017 0:00'\n",
      " '25/08/2015 0:00' '6/12/2016 21:52' '5/09/2014 0:00' '18/11/2014 0:00'\n",
      " '16/01/2017 0:00' '9/04/2014 0:00' '6/12/2015 17:05' '20/10/2016 0:00'\n",
      " '1/03/2017 19:31' '29/03/2016 17:55' '22/07/2016 0:00' '29/09/2016 0:00'\n",
      " '11/08/2016 0:00' '17/03/2017 0:00' '15/10/2016 0:00' '18/10/2015 0:00'\n",
      " '9/09/2015 20:47' '23/09/2014 14:02' '14/09/2015 0:00' '18/01/2016 0:00'\n",
      " '28/08/2015 0:00' '19/05/2016 15:04' '3/04/2016 11:08' '22/05/2015 0:00'\n",
      " '29/04/2013 0:00' '8/06/2015 0:00' '19/07/2016 0:00' '3/11/2016 0:00'\n",
      " '8/04/2017 1:39' '5/05/2015 0:00' '23/08/2016 10:07' '21/10/2014 0:00'\n",
      " '22/03/2017 18:00' '27/09/2016 0:00' '11/07/2016 9:21' '7/12/2015 11:23'\n",
      " '15/04/2015 0:00' '5/08/2016 0:00' '20/08/2015 0:00' '28/03/2016 0:00'\n",
      " '1/10/2016 0:00' '29/05/2015 0:00' '31/12/2016 0:00' '1/06/2016 10:45'\n",
      " '25/04/2016 0:00' '23/02/2015 0:00' '6/05/2015 0:00' '11/03/2012 0:00'\n",
      " '2/09/2016 0:00' '2/10/2016 0:00' '11/04/2016 0:00' '18/12/2016 0:00'\n",
      " '17/03/2016 0:00' '14/08/2016 0:00' '19/12/2016 0:00' '11/09/2016 0:00'\n",
      " '28/03/2014 0:00' '14/10/2012 0:00' '10/02/2016 0:00' '11/03/2017 0:00'\n",
      " '19/09/2016 0:00' '21/01/2016 0:00' '17/03/2017 14:30' '11/12/2015 0:00'\n",
      " '3/04/2017 0:00' '31/05/2013 23:28' '6/04/2016 0:00' '20/04/2017 0:00'\n",
      " '19/04/2017 12:59' '15/09/2011 0:00' '21/06/2016 17:27' '29/02/2016 0:00'\n",
      " '30/12/2016 0:00' '2/02/2017 17:11' '6/01/2016 0:00' '21/05/2016 0:00'\n",
      " '15/09/2014 7:40' '5/04/2017 5:17' '28/10/2016 0:00' '21/05/2014 0:00'\n",
      " '31/01/2017 0:00' '21/09/2015 0:00' '1/02/2017 5:28' '1/03/2017 0:00'\n",
      " '18/08/2015 0:00' '12/08/2015 0:00' '11/04/2017 23:16' '13/06/2016 0:00'\n",
      " '31/01/2013 0:00' '29/07/2013 0:00' '24/02/2015 0:00' '8/01/2017 0:00'\n",
      " '23/01/2014 0:00' '21/03/2015 0:00' '5/06/2014 0:00' '15/09/2015 0:00'\n",
      " '10/12/2016 0:00' '7/08/2013 22:19' '20/01/2017 1:26' '23/10/2013 0:00'\n",
      " '31/03/2016 0:00' '17/05/2013 0:00' '11/01/2016 0:00' '22/09/2016 0:00'\n",
      " '1/11/2012 0:00' '2/05/2016 0:00' '12/02/2016 0:00' '18/04/2017 17:38'\n",
      " '15/01/2015 0:00' '6/08/2016 0:00' '30/09/2009 2:59' '26/04/2017 0:00'\n",
      " '12/03/2017 9:17' '30/04/2013 0:00' '3/08/2014 0:00' '20/07/2011 0:00'\n",
      " '28/10/2015 0:00' '20/07/2014 0:00' '3/06/2016 0:00' '31/07/2016 0:00'\n",
      " '8/02/2017 0:00' '30/08/2013 0:00' '12/06/2015 0:00' '24/08/2015 0:00'\n",
      " '8/08/2016 0:00' '17/08/2016 0:00' '10/08/2016 0:00' '14/06/2016 0:00'\n",
      " '27/12/2015 0:00' '26/12/2012 0:00' '8/10/2014 0:00' '29/08/2016 20:58'\n",
      " '12/08/2016 0:00' '2/02/2016 0:00' '24/04/2015 0:00' '13/04/2016 0:00'\n",
      " '21/04/2016 0:00' '3/03/2016 0:00' '20/12/2013 0:00' '9/03/2015 0:00'\n",
      " '27/09/2012 0:00' '28/04/2016 0:00' '13/02/2017 0:00' '25/02/2017 14:18'\n",
      " '11/02/2017 0:00' '30/05/2016 18:18' '26/09/2013 0:00' '5/08/2013 0:00'\n",
      " '2/07/2015 17:44' '2/04/2017 1:35' '7/04/2017 0:00' '13/08/2015 0:00'\n",
      " '15/02/2016 0:00' '11/12/2016 0:00' '16/01/2017 17:49' '14/01/2017 16:52'\n",
      " '12/07/2016 0:00' '7/05/2016 0:00' '25/11/2016 0:00' '17/02/2016 0:00'\n",
      " '13/11/2013 0:00' '29/11/2014 0:00' '13/07/2014 0:00' '11/08/2015 20:35'\n",
      " '28/01/2017 0:00' '10/06/2016 13:57' '12/11/2015 0:00' '14/01/2012 0:00'\n",
      " '20/05/2016 0:00' '27/05/2016 0:00' '2/04/2016 0:00' '2/06/2009 0:00'\n",
      " '17/03/2016 4:34' '20/11/2015 0:00' '15/07/2015 0:00' '9/12/2016 0:00']\n",
      "----------------------------------------\n",
      "TCP_CONVERSATION_EXCHANGE\n",
      "[   7   17    0   31   57   11   12   16   25    6   13    9   39    8\n",
      "    4   24   19   10   43   40    2   84   65   14   21   23    5   18\n",
      "   36   26   46   38    3   66   28   33   34  709   15   32   62   22\n",
      "   90   76   48   27  103   49   94   71   52  105   42   45   37   44\n",
      "   41  208   61   85    1   68   35   58   20  288   30   64   63   69\n",
      "   60  156   56  101   51   29   83  157   53  185   47   55   70   50\n",
      "  127   74  125  197  113   80  226 1194   79  107   67  104  188  326\n",
      "   59   73   75   54   95]\n",
      "----------------------------------------\n",
      "DIST_REMOTE_TCP_PORT\n",
      "[  0   7  22   2   6  19   1  29   3   4   5  14  17  54  39   9  12   8\n",
      "  13  26 708  21  52  23  47  53  45  10  42  11  98  27  25  20  15  40\n",
      "  18  73  30 279  48  24  36  33  67  60  56  50  49  51  41  35  32  16\n",
      "  43  59  28  46  31  38  58  37 317  34  44  89]\n",
      "----------------------------------------\n",
      "REMOTE_IPS\n",
      "[ 2  4  0  3  5  9  8  1  6 11 16  7 15 14 10 12 13 17]\n",
      "----------------------------------------\n",
      "APP_BYTES\n",
      "[    700    1230       0    3812    4278     894    1189    1492    3946\n",
      "     717     603     618    1099     850    3833     696     420    2259\n",
      "     650    1696     630    1740    2404    1980     519    1186    5738\n",
      "     723    3285     132     720   10490    6286    1907     528     564\n",
      "    2131     984    1606    2279    1390    2485     474    1327    1232\n",
      "    1586    4737    1052     878    2508     842     722    1378    2727\n",
      "    6325     702     882     396    3252    3783    2373    4207    1838\n",
      "     366    3781     631     592     556     552    2830    2094    1848\n",
      "    2314    6311    2324     632    3590    2632    2934     593    2519\n",
      "     900 2362906     486    1134    1249    2861     612    4561    3533\n",
      "    3183    1515    2195     666    1918    8974    3914    1188     276\n",
      "    1528    8646    4412    3605    9007    1902    3418     707    8568\n",
      "     738     432    2773    2743    2262    2201    3981    7073    1355\n",
      "    8136    2783    1457    1314    2000    7613    2176   11902     798\n",
      "     816   10999    4214    3185    1888     734    4607    2065    1497\n",
      "    2851    2147     264    1151    1045    3438     606    3694     408\n",
      "     660    3375    2042    8692    2721    1632    3569    5235    2412\n",
      "     498    1661    4895    3787    2292    4372     716    3240    2102\n",
      "    1635    2367    1340    2223    2157    2864    1850    1527    2435\n",
      "    2961     756    1446    3087    3507    3263    1258    6945    4769\n",
      "    2965    2771    1275   20074     466    1770    1266    2359    2227\n",
      "     372    1432    1096    1706    6100    7506     784    2680    1060\n",
      "    1331     730    2319    3505     128      66    5009    1961    1525\n",
      "    1674     834     540     648     268    2531    3355    3767    1607\n",
      "    1283    1643    5207    2248     888    2813    2342    2594    1458\n",
      "    1851    5509    1002     330     786    5306    3072    1967    1068\n",
      "    2823    8165    3099    1927    1879    4047    1578    4268   20749\n",
      "    5064    2329    2328    2976     809    3521    7271    1059    2241\n",
      "    6413    1224    5528     492    1560    1524    1308     684     912\n",
      "     714    3771     927    2679    6884     865    6028    5129    6419\n",
      "    7582    1063    2750    1970    8450    7076    1313    6269    5951\n",
      "    3234    6503    8252    1325    2383    2243    1285    2610    1016\n",
      "    1092   23383     924    1784    1394    2272    1088    2021    1724\n",
      "    8268    1166    4229    4551    2112    6057    1615    2948    1981\n",
      "    2995    1142    1653    4034    2316     737    1089     576    1895\n",
      "    1078    4891    1868    1202    3699    2657    3079      54    1198\n",
      "   10813    2185    2124    4035    4101    3969    4601     985     636\n",
      "    2706    3088    2780     950    1540     334    7856    2767    1102\n",
      "    2432    2188    3970     925     883    1110    2022    4044     750\n",
      "    2756    6008    7403    2267     803    2444    1511    2479    2715\n",
      "    4178    6081    3444    1809    1242     640    2742    4203    2512\n",
      "    5987    5805   11053     870     972    1556    2326    5647    1942\n",
      "     672    7834    2401    1480    1197    2274    2097     531    1201\n",
      "     780     541   13834    6464    3409    2595   10205    4590    5308\n",
      "     198    1801    1816    5631    2683    5852    3891     805    2730\n",
      "    1274     742    8062    6883    3416    1392     582    5894     680\n",
      "    4509    3146    8942   18084    3089    2218    9463    3331    6306\n",
      "    3516    4103    1351    2115    1716    4364    1244    3094    8528\n",
      "    3244   13622    4376    3213    4948     810    2133    4167    1182\n",
      "    6679    4084    1552    3312    3007     296    6240    1180    3538\n",
      "    7049    2457    5283     729    3759    1320    2912    3448    4041\n",
      "    3450    6235    2313    6925    3179    4576    3878    2873    2634\n",
      "    7746    2037     811    3571    1205     851    1662     864    1122\n",
      "    1476    2736    4739    1720    1567    4464     516    2270    5413\n",
      "    5371    2681    3386    2330     746    7487    2382    6904    5203\n",
      "    8291    2829    2949    1570    1960     995     926    6820   15162\n",
      "    1849    3321     769     762    1278    1872    1651    3637    4677\n",
      "    3227    2992    1609    1428    1628    4466    1257    5314    1682\n",
      "    2221    1538    1364    4765    4049    1156    1668     960    1017\n",
      "    1944    2232    1277    4558    2881   99843    5998    7178    4562\n",
      "    2903     280    5325    3025    2036    5591    1404    3721    3229\n",
      "    1715    6128    1074    4405    5666    3101    7621    4861    5665\n",
      "    5137     752    8171     450    3928    1876    2910    1080     944\n",
      "    3050    6351    3354     847    1256     356    1062    8280    5965\n",
      "    1345    1293    5863    1764    2335    3944    4195    1627    8986\n",
      "    1965    4725     871     949    3592    1692    1481    6256     620\n",
      "    1794    2344    1146    6317    3076    2421     828     768    2638\n",
      "    1863    2752    1797    3325    1684    3796    1170    1589    1300\n",
      "    3142    3936    1438    3104     238     202   12231    4932     664\n",
      "     622    2630    7002    4488    4192    3208    1930    1673    1344\n",
      "     792    3798     743    4514    1040    1810    2772    1676    6011\n",
      "    3840    7535    2506    2293    3414    3967    2108    5105     583\n",
      "    3472    4825   14064    3181    1238    4631    3201    1910    2820\n",
      "    5029    1194    1634   26631    2510    3999    1026    1012    1366\n",
      "    3471    2135    7723    2381    2154    1766    1620     858    2317\n",
      "    1900    5242    6020    4703    4896     903    1483    5347    1783\n",
      "    2186    3997    1878    2708    1150     916    6221    1688    3802\n",
      "    3523    1100    3684    7802    3317    2794    3428    4515    2877\n",
      "    6391    1131    6078    3862    3042    2083    2490    1165    6525\n",
      "    3149   14530    2425    2396    3932    5365    1260     801    3647\n",
      "    2472    4544    3635    2032    1206    2445    2403    3591    1335\n",
      "    1594    5949    2981    2781    2106    1763    1301    3333    7282\n",
      "    3156    1739    3764    7388    2088    6257    2074    2362    1894\n",
      "    2281    3718     488    3286    3565    2200      90    3705    2523\n",
      "    2676   13331    3630    2296     804    2487    2202    4523    1482\n",
      "    3124     936    1008    3207    1346    7350    1818    4155    6789\n",
      "    2162    3432    3223    1591    1358    5321    1316    1948    5024\n",
      "    1176    5171    2784    2038    2137    2010    3458    4721    3327\n",
      "    7415    6027    4104    2790    3238    1212    3381    5078    4422\n",
      "     822     728    1984    4284    2278    4317     970    2624    5466\n",
      "    2126    3425    7556    1675    4871    1368    1020    3925    1649\n",
      "    5398    2854    1354    2402    2062    6631]\n",
      "----------------------------------------\n",
      "SOURCE_APP_PACKETS\n",
      "[   9   17    0   39   61   11   14    2   20   35    8    7   15   43\n",
      "    4   16   10   18   24   23   47   46   96   69    6   25   22   21\n",
      "   27    5   42   30   19   53   50   44    3   29   70   40   12  709\n",
      "   38   37   36   76   28   92   88   52   77   32   33  105  102   73\n",
      "   49   31   56  111   41   34   45  228   65   91   51   48   26   13\n",
      "   54   66  294   71   72   79   81   74   78  162   84   60    1  110\n",
      "   57   87   86  159  187   55   75   58  131   80  129  200   63  117\n",
      "   98   59   62 1198   64   83  107  106  194  330   67  210   90   68\n",
      "   99]\n",
      "----------------------------------------\n",
      "REMOTE_APP_PACKETS\n",
      "[  10   19    0   37   62   13    3    1   20   29    9   17   42    6\n",
      "   12    4   11   25    8   15   50   45    5  106   75   18   23   16\n",
      "   22   28    7   35   14   30   47   27   44   24   64   33   48   36\n",
      "   40  837   26   69  100   41   70   32  113   52  121   51  130   31\n",
      "   21   61   46   39  216   79   96   53   88   77  431   68   73   80\n",
      "   71   65   38   66  206   59   54    2  101   55   34  107  176  263\n",
      "   56   76  144  145  255   43  134   84  103   93  284   49   63   58\n",
      " 1284   57   67   74   83  148  124  217  442   60   82  102  278  110\n",
      "   89   72   78  157]\n",
      "----------------------------------------\n",
      "SOURCE_APP_BYTES\n",
      "[   1153    1265       0   18784  129889     838    8559     213      62\n",
      "    2334   16408    1960    1580     562   15476    1354   22495     636\n",
      "     372    5165    1417   13422     244     696    6179    5737    1138\n",
      "    1900   56926    1837   12003     318    1269  106925   90508    5601\n",
      "     508    9471    1839    1276    2562    3890    9332     250     442\n",
      "   14050    9806    1735   10343   11935    2242   21098    2101    2000\n",
      "    1913    6226    5765   32025     482   60076    5605    6199    1650\n",
      "   39662    4524     306   34101     812    1062    1154     612     634\n",
      "     364    6137    8019    2167   21419   63634   24662     593   30057\n",
      "   27404   34995    1128   22379     568   83056     542     605     436\n",
      "   15260     918   10429   46688   24455    1334   55576    1094    5546\n",
      "   30726    9833    1451     564    5586   95659   27412   34388   23985\n",
      "    2764   57377    1018   26049     766     955    6566   43878   16553\n",
      "    7756    9867  179439    1145   25686    3824    3229    1881    9588\n",
      "   24774   17335     310     426  173484    1124    1541   88707    9246\n",
      "   50608   40314    7145   58676    7280    2116    3814    2848     388\n",
      "    1211    1362   46498     304     474   11543     382     556     476\n",
      "   18396    4760  179133    3896    2661   10750    1382   14571   10015\n",
      "   39544   33677   16147   13095    1979    7939   35301   20976    2640\n",
      "    3801     964    2868    2996    3773    2970    1928   39924   38255\n",
      "     861    1788   19078   42286   52720    1862   26115   69898   37146\n",
      "   36261    2306  270752     822    2579     966    3542    3612     703\n",
      "    2113    1294     184     438    2165  123896  107416   16959    7746\n",
      "     668    5214    4860    1284   14373   66214     407     404   40316\n",
      "    2991    1363     882     535     328     739     557   31623  129181\n",
      "    1690    2201   21144  247488    3605     316    3916    7249    7997\n",
      "    1097   19623   15551   25776    1012     539     968   39325    9718\n",
      "    6542    1006   15940   54909    7395    8052    8768   54041   20606\n",
      "   40666 1058608   35677     960    4850    3285    7783    1321   33021\n",
      "   60586    1506    6701   58285    7472     702     246    1030     762\n",
      "     788   11756    2926    7080   15626   57005   19264   20061   59068\n",
      "   29141   82537    1287    9290    2183   68036   63630    1612   54988\n",
      "   56509  129083   58109   61807    2091    3786    3021    2462    7715\n",
      "  295213     642   23886   12358   16035    2036   26799   38477  117625\n",
      "    1626   32381   67881    2833   16019   15706   25358    5557    6759\n",
      "   41717    1991    2798   12486   31378    1162    1977     124     522\n",
      "   13792    1532   37001   18348    1335   27522   34427     420   38924\n",
      "    2763  142735    2969   12884   12416   12614   12354    5911   45279\n",
      "    1496     473     376   41737   12104   27390    1327   10465   25529\n",
      "     412   82332    3550    1015   27169    3031   12548    1399    2806\n",
      "    8893    3023     803   44173     448     366     502   41938  147266\n",
      "  117282    9811    2190    1984   14430    6085   20139   44810   63457\n",
      "    9819   26805     962     606     970   47931    7155   38230   40585\n",
      "  284743    5876   15901    9023    3623  120385   15275    1381   22947\n",
      "   19291   10665    1424   31811    9280     494    7650    4922     805\n",
      "     579  488313   39038   82259   18392   15941   38894   84636   40052\n",
      "     186   26643   12138   82281   11690   37285   37000    1087    9605\n",
      "    3132    1263   82775   38056   17574     496     504     596   69918\n",
      "   35953    4258  233106  113453    7088    5203  133235   62295   22528\n",
      "   33488   16662    9692   17150   11285   22879    1616    7809  231799\n",
      "   24696  486769   40918   16931   19634   35687     744     624     730\n",
      "   17914    3181     670   59369    3258   36205    2790   36225   23628\n",
      "     778   69305    1834   13191   22895  110342   68869  268442    2045\n",
      "   11243    1967    3753   12420   66124   16697    1814    9531   17604\n",
      "   11372   49426    8839    5727    4384  229040    2944    6187   14342\n",
      "    6062   66449   16593    2135     799    1344    4846    1064     480\n",
      "     490   18554    2880    6818   39561   10000   64860   16215   21979\n",
      "   66317    3609    2189   75625    7775  197501   13097  135375   23089\n",
      "   43296    6049    2807    1507   79053  383760   26589   66184    1298\n",
      "     640    1323    1388   44294   14310   12120   65646    2655    1504\n",
      "   14894     414     424   95122    1374    1919   51761   25579    3809\n",
      "    1121   16978   17280   61312    2638     894     492    1024    1563\n",
      "    2698    3283    2663   26259   39646     182 2060012   43787   20954\n",
      "   49870   30772   86136    9200    7035   46553    1587   66445   16895\n",
      "   22292   41385   35749     628   46271   69645   13795   58567   43523\n",
      "   19433   67877    1197   26659     479   10186    2205    7648    2498\n",
      "    3869   65986   22390    8544    1998    1546     378   23559   20145\n",
      "   18597    1754  127368    2364   35231   23329   45691    2044  234205\n",
      "    7616   97272    4257    2597   66100    8467     672   63202     626\n",
      "    6649     416   38708    8668    7924     768    1036     890   15088\n",
      "    8910    2308   29835   14589   37621    1324    2404   13818    7684\n",
      "   29443    4800    8857     654     574     617    1186   23578     609\n",
      "    9159   35655  172138   44959   62498    8206    8177    8029    2525\n",
      "     971   18719    1520   26105   36967    2206    2519   32655   21002\n",
      "   28050   52729  204971    2966   17664   47213   23969    3406   13437\n",
      "     737   24847   37575  298694   16286     760     570    1909   12921\n",
      "   20250    3124    3034     954   44203    1736   14294  947971   34105\n",
      "   17322    7303    1806   23243     706    1697    3485   37516    5596\n",
      "   29677    2293    9227     678    3635   15998   49446   37704   69613\n",
      "   73318    1489    2073    1196   43924   18427    6913   16884   18769\n",
      "    6195   30035   15499    2074   36834     742   57628   30933    1570\n",
      "     892   47558    7448  105565   55460    8700   30923   28007   12970\n",
      "   14140   83389    1747   40968    1144     498   11108    5914   17862\n",
      "   18969    1673  126205   37964  466055    1268     913   33598   26621\n",
      "   87340   78671    2399    9017     677   32399    6776   53238   23404\n",
      "    2033     991   41408   27476   24630   13757    2109    1152     904\n",
      "   32891   31493   18410    6415     552   42229   24220    4966   12620\n",
      "    7356   65108    7459   30118   10646    5472    7062   29619   44519\n",
      "   28351   58127    6009    1874   44807    3594   33205   67914   34113\n",
      "     632     688     826    2587   51527    3304   26400     661    8797\n",
      "    2112    9563     486   48750   17337    1725  143113     432   45079\n",
      "  110553   28829   14374   64807   42120    1936    9432     354   24126\n",
      "    8187   16475     630     384   12186   15154   36825   14114   17922\n",
      "   13434     256     190    3254     798   55407   82395   10505   93298\n",
      "  124751  131895    1646   23294   26870     682   14656   68512   44454\n",
      "    1527    1603    1180     595   62932   28130   43123    2847   21620\n",
      "    1484   30904   97306    1627    1272   12391  244958    1927     456\n",
      "   81223    3046   21489   14395  137144    3490    2517    4491     752\n",
      "    8161  132181    3039]\n",
      "----------------------------------------\n",
      "REMOTE_APP_BYTES\n",
      "[    832    1230       0    4380    4586     894    1327     146    1784\n",
      "    4746    1011     745     618    1243     994    4125     696     420\n",
      "    2559     950    1844     630    1740    2684    2276     823    1476\n",
      "    6046     871    3729     132     868   11482    6596    2171     528\n",
      "     564    2441    1292    1914    2729    1540    2799     474    1615\n",
      "    1530    1898    5173    1204    1018    2992    1016    1036    1856\n",
      "    2991    7063     702     882     396    3564    4047    2637    1300\n",
      "    4679    1992     366    4253     787     732     860     552    3400\n",
      "    2094    2322    2740    6633    2482     776    4064    2916    3416\n",
      "     751    2851     900 2362906     486    1134    1249    3229     772\n",
      "    4997    3859    3777    1675    2515     826    2182   10006    4350\n",
      "    1188     276    1860    8808    4848    4183    9891    2194    3706\n",
      "    1031    9452     738     432     929    3037    3181    2736    2543\n",
      "    4417    7217    1519    9020    3367    1881    1452    2498    8497\n",
      "    2456   12492     798     958   11147    4650    3465    2168    1060\n",
      "    4945    2349    1787    3431    2577     264    1445    1333    3718\n",
      "     606    4286     408     660     816    3703    2622    9172    3313\n",
      "    2068    4037     990    5835    2412     498    2167    5241    4365\n",
      "    2450    4808    1030    2520    3722    2252    2073    2957    1622\n",
      "    2661    2595    3454    2302    1699    2715    3261     756    1446\n",
      "    3535    3857    3697    1542    7849    5119    3279    3051    1423\n",
      "   21646     760    2210    1554    2951    2819     520    1572    1246\n",
      "    1994    6388    7962    3172     640    1234    1631     870    2615\n",
      "    3657     206    5511    2245    1667    1674     834     540     648\n",
      "     444    3005    3781    4079    2055    1425    1797    5345    2890\n",
      "     888    3409    2806    3058     880    1616    2143    6115    1002\n",
      "     330    1106    5906    3506    2417    1216    3153    8787    3439\n",
      "    2219    2307    4497    1890    4998   21187    5586    1548    2759\n",
      "    2772    3440    1101    3947    8017    1361    2683    7005    1224\n",
      "    5528     492    1560    1524    1308     684     912     714    4385\n",
      "    1241    3121    2879    7630    1045    6502    5721    7171    8282\n",
      "    1213    3190    2262    9350    7822    1605    6861    6543    3384\n",
      "    7095    9152    1749    2983    2691    1741    3074    1324    1092\n",
      "   23877     924    1950    1546    2576    2165    1886    8898    1538\n",
      "    4517    4843    1637    2404    6657    1931    3248    2497    3531\n",
      "    1430    2103    4498    2640    1047    1601     576    1390    5499\n",
      "    2202    1500    4153    3359      54   11423    2270    4499    4565\n",
      "    4433    2334    5103    1433     636    2982    3720    3064    1110\n",
      "    3168    8384    3073    1248    2716    4434    1079    1209    1037\n",
      "    1305    1988    2022    4420     750    3032    6312    7549    2701\n",
      "    1097    2874    1663    2743    3187    4646    6463    3908    2125\n",
      "    1242    2742    6595    6413   11211    1020    1118    2626    6295\n",
      "    2222    8472    2827    1776    1503    2554    2381     681    1440\n",
      "    1495     780     689   13992    7072    4204    3565    2881   11305\n",
      "    5046    5902     198    2097    2104    6091    3307    6460    4567\n",
      "    1099    3046    1537    1562     890    8950    7491    3858    1392\n",
      "     582    6478    5267    3442    9242   18384    3391    2546   10217\n",
      "    3739    6780    3808    4405    1641    2479    2012    1384    3414\n",
      "    8856    4114   13794    4832    3821    5516    3886     810    2133\n",
      "    1182    7271    2609    4684    2000    3612    3335     442    6824\n",
      "    1484    2530    3994    7819    2617    5451    4193    1474    3494\n",
      "    3912    4505    3602    6835    1696    2621    7525    3613    5282\n",
      "    4198    3453    2932    8062    2123    2355    1935     961    3723\n",
      "    1383    1003    1662     864    1122    5195    2138    1859    5064\n",
      "     516    2562    5841    5845    3159    3696    2912     904    8219\n",
      "    2682    7208    5803    8889    3131    3263    1842    2420    1287\n",
      "    1266    6966   15314    2279    3473     909     762    1278    1872\n",
      "    4127    5093    3507    3144    2119    1712    1944    4602    1555\n",
      "    5742    1986    2513    1852    1502    5381    4361    1316    1668\n",
      "     960    2416    2532    1559    4724    3219    1166  100151    6438\n",
      "    7644    4884    3525     422    5785    3479    2320    6231    1700\n",
      "    3873    3837    1867    6736    1458    1074    4833    6250    3405\n",
      "    8357    5301    6401    5597     916    9059     450    4368    2354\n",
      "    3402    1260    1252    3492    6989    3810    1435    1576     356\n",
      "    1062    9168    6439    1617    6173    2120    2493    4404    4623\n",
      "    1933    9294    2249    5023    1021    1309    3744    2004    1773\n",
      "    6896     770    2102    2668    1146    6925    2861     672     828\n",
      "     768    3208    2033    3230    2105    3635    4118    1584    1909\n",
      "    1618    3746    1734     394     202   12231    5392     808     812\n",
      "    3102    7422    4944    4834    3883    2610    1837    1344     792\n",
      "    4444    1033    5168    3540    1374    3258    1968    6453    4156\n",
      "    7683    2814    2459    4429    2388    5105     735    3944    5567\n",
      "   14522    3605    1580    5353    3517    2552    3428    2232    5469\n",
      "    1498    1922   26931    2810    4619    2175    1026    1850    3967\n",
      "    2443    8331    2675    2310    2196    1804     858    2633    2204\n",
      "    5670    6628    5033    5200    1205    1775     953    5787    2095\n",
      "    2486    4425    2358    3036    2437    1304    6963    1688    3802\n",
      "    4041    1380     922    4164    8302    4174    3747    3110    3736\n",
      "    5084    3317    6819    1473    6520     972    4290    3520    2371\n",
      "    2802    1673    6843    3647   14688    2856    4252    5793    3177\n",
      "     951    4247    2796    5134    2464    1206    2601    2741    1835\n",
      "    1594    6557    3449    3085    2410    2233    1455    3715    8042\n",
      "    3156    2059    4412    7734    6891    2540    3008    2198    2581\n",
      "     632    3776    3903      90    1750    4319    3000    2588   13771\n",
      "    2296     804    2979    6619    2490    4979    1781     936    1008\n",
      "    3527    1670    7830    1818     786    4533    7245    2480    2634\n",
      "    3754    3597    1798    5935    3476    1468    2280    5500    1176\n",
      "    5811    3312    2425      66    3622    5009    3769    7975    6601\n",
      "    3104    3550    1212    3851    5512    4982    1178    7895    2484\n",
      "    4772    2616    2758    4637    1298    2904    5774    2126    3591\n",
      "    7848    1652    1823    5159    4535    1789    5740    3146    2010\n",
      "    2900    6945    2776]\n",
      "----------------------------------------\n",
      "APP_PACKETS\n",
      "[   9   17    0   39   61   11   14    2   20   35    8    7   15   43\n",
      "    4   16   10   18   24   23   47   46   96   69    6   25   22   21\n",
      "   27    5   42   30   19   53   50   44    3   29   70   40   12  709\n",
      "   38   37   36   76   28   92   88   52   77   32   33  105  102   73\n",
      "   49   31   56  111   41   34   45  228   65   91   51   48   26   13\n",
      "   54   66  294   71   72   79   81   74   78  162   84   60    1  110\n",
      "   57   87   86  159  187   55   75   58  131   80  129  200   63  117\n",
      "   98   59   62 1198   64   83  107  106  194  330   67  210   90   68\n",
      "   99]\n",
      "----------------------------------------\n",
      "DNS_QUERY_TIMES\n",
      "[ 2.  0.  8.  4. 10.  6. 12. 14. 20.  9. nan]\n",
      "----------------------------------------\n",
      "Type\n",
      "[1 0]\n",
      "----------------------------------------\n"
     ]
    }
   ],
   "source": [
    "for x in websites.columns:\n",
    "    print(x)\n",
    "    print(websites[x].unique())\n",
    "    print('----------------------------------------')"
   ]
  },
  {
   "cell_type": "markdown",
   "metadata": {},
   "source": [
    "<font color='blue'>* Which columns contain the features of the websites?\n",
    "</font>"
   ]
  },
  {
   "cell_type": "markdown",
   "metadata": {},
   "source": [
    "URL<br>\n",
    "URL_LENGTH<br>\n",
    "NUMBER_SPECIAL_CHARACTERS<br>\n",
    "CHARSET<br>\n",
    "SERVER<br>\n",
    "CONTENT_LENGTH<br>\n",
    "WHOIS_COUNTRY<br>\n",
    "WHOIS_STATEPRO<br>\n",
    "WHOIS_REGDATE<br>\n",
    "WHOIS_UPDATED_DATE<br>\n",
    "TCP_CONVERSATION_EXCHANGE<br>\n",
    "DIST_REMOTE_TCP_PORT           <br> \n",
    "REMOTE_IPS                     <br> \n",
    "APP_BYTES                      <br> \n",
    "SOURCE_APP_PACKETS             <br> \n",
    "REMOTE_APP_PACKETS             <br> \n",
    "SOURCE_APP_BYTES               <br> \n",
    "REMOTE_APP_BYTES               <br> \n",
    "APP_PACKETS                    <br> \n",
    "DNS_QUERY_TIMES                <br> "
   ]
  },
  {
   "cell_type": "markdown",
   "metadata": {},
   "source": [
    "<font color='blue'>* Which column contains the feature we will predict? What is the code standing for benign vs malicious websites?\n",
    "</font>"
   ]
  },
  {
   "cell_type": "markdown",
   "metadata": {},
   "source": [
    "Type<br>\n",
    "1 --> Malicious<br>\n",
    "0 --> Benign<br>"
   ]
  },
  {
   "cell_type": "markdown",
   "metadata": {},
   "source": [
    "<font color='blue'>* Do we need to transform any of the columns from categorical to ordinal values? If so what are these columns?\n",
    "</font>"
   ]
  },
  {
   "cell_type": "markdown",
   "metadata": {},
   "source": [
    "The categorical columns:<br>\n",
    "URL --> no repeated values --> not usefulll <br>\n",
    "CHARSET --> 8 categories + none --> should be transformed <br>\n",
    "SERVER --> To many types, maybe we can extract only the main names \"Apache\", \"microsoft\", \"ngix\", and then transform it to categorical<br>\n",
    "WHOIS_COUNTRY --> Need to be fixed and then can be convert into ordinal<br>\n",
    "WHOIS_STATEPRO --> To many values<br>\n",
    "WHOIS_REGDATE --> Should be date<br>\n",
    "WHOIS_UPDATED_DATE --> Should be date<br>\n"
   ]
  },
  {
   "cell_type": "markdown",
   "metadata": {},
   "source": [
    "#### Next, evaluate if the columns in this dataset are strongly correlated.\n",
    "\n",
    "In the Mushroom supervised learning lab we did recently, we mentioned we are concerned if our dataset has strongly correlated columns because if it is the case we need to choose certain ML algorithms instead of others. We need to evaluate this for our dataset now.\n",
    "\n",
    "Luckily, most of the columns in this dataset are ordinal which makes things a lot easier for us. In the next cells below, evaluate the level of collinearity of the data.\n",
    "\n",
    "We provide some general directions for you to consult in order to complete this step:\n",
    "\n",
    "1. You will create a correlation matrix using the numeric columns in the dataset.\n",
    "\n",
    "1. Create a heatmap using `seaborn` to visualize which columns have high collinearity.\n",
    "\n",
    "1. Comment on which columns you might need to remove due to high collinearity."
   ]
  },
  {
   "cell_type": "code",
   "execution_count": 12,
   "metadata": {},
   "outputs": [],
   "source": [
    "# Your code here\n",
    "correlation = websites.corr()"
   ]
  },
  {
   "cell_type": "code",
   "execution_count": 13,
   "metadata": {},
   "outputs": [
    {
     "data": {
      "image/png": "[encoded data removed]",
      "text/plain": [
       "<Figure size 1152x432 with 2 Axes>"
      ]
     },
     "metadata": {
      "needs_background": "light"
     },
     "output_type": "display_data"
    }
   ],
   "source": [
    "# Your comment here\n",
    "plt.figure(figsize=(16, 6))\n",
    "sns.heatmap(correlation, cmap=\"YlGnBu\", annot=True)\n",
    "plt.show()"
   ]
  },
  {
   "cell_type": "markdown",
   "metadata": {},
   "source": [
    "<font color='blue'>Las variables altamente correlacionadas son:\n",
    "</font>"
   ]
  },
  {
   "cell_type": "code",
   "execution_count": 14,
   "metadata": {},
   "outputs": [
    {
     "data": {
      "text/plain": [
       "0.9179859625469562"
      ]
     },
     "execution_count": 14,
     "metadata": {},
     "output_type": "execute_result"
    }
   ],
   "source": [
    "correlation.loc['URL_LENGTH','NUMBER_SPECIAL_CHARACTERS']"
   ]
  },
  {
   "cell_type": "code",
   "execution_count": 15,
   "metadata": {},
   "outputs": [
    {
     "data": {
      "text/html": [
       "<div>\n",
       "<style scoped>\n",
       "    .dataframe tbody tr th:only-of-type {\n",
       "        vertical-align: middle;\n",
       "    }\n",
       "\n",
       "    .dataframe tbody tr th {\n",
       "        vertical-align: top;\n",
       "    }\n",
       "\n",
       "    .dataframe thead th {\n",
       "        text-align: right;\n",
       "    }\n",
       "</style>\n",
       "<table border=\"1\" class=\"dataframe\">\n",
       "  <thead>\n",
       "    <tr style=\"text-align: right;\">\n",
       "      <th></th>\n",
       "      <th>URL_LENGTH</th>\n",
       "      <th>NUMBER_SPECIAL_CHARACTERS</th>\n",
       "      <th>CONTENT_LENGTH</th>\n",
       "      <th>TCP_CONVERSATION_EXCHANGE</th>\n",
       "      <th>DIST_REMOTE_TCP_PORT</th>\n",
       "      <th>REMOTE_IPS</th>\n",
       "      <th>APP_BYTES</th>\n",
       "      <th>SOURCE_APP_PACKETS</th>\n",
       "      <th>REMOTE_APP_PACKETS</th>\n",
       "      <th>SOURCE_APP_BYTES</th>\n",
       "      <th>REMOTE_APP_BYTES</th>\n",
       "      <th>APP_PACKETS</th>\n",
       "      <th>DNS_QUERY_TIMES</th>\n",
       "      <th>Type</th>\n",
       "    </tr>\n",
       "  </thead>\n",
       "  <tbody>\n",
       "    <tr>\n",
       "      <th>URL_LENGTH</th>\n",
       "      <td>1.000000</td>\n",
       "      <td>0.917986</td>\n",
       "      <td>0.129745</td>\n",
       "      <td>-0.038407</td>\n",
       "      <td>-0.039839</td>\n",
       "      <td>-0.046367</td>\n",
       "      <td>-0.026446</td>\n",
       "      <td>-0.042264</td>\n",
       "      <td>-0.033779</td>\n",
       "      <td>-0.014857</td>\n",
       "      <td>-0.026686</td>\n",
       "      <td>-0.042264</td>\n",
       "      <td>-0.068582</td>\n",
       "      <td>0.162104</td>\n",
       "    </tr>\n",
       "    <tr>\n",
       "      <th>NUMBER_SPECIAL_CHARACTERS</th>\n",
       "      <td>0.917986</td>\n",
       "      <td>1.000000</td>\n",
       "      <td>0.214225</td>\n",
       "      <td>-0.037459</td>\n",
       "      <td>-0.042619</td>\n",
       "      <td>-0.047103</td>\n",
       "      <td>-0.023914</td>\n",
       "      <td>-0.040096</td>\n",
       "      <td>-0.030597</td>\n",
       "      <td>-0.014376</td>\n",
       "      <td>-0.024098</td>\n",
       "      <td>-0.040096</td>\n",
       "      <td>-0.050048</td>\n",
       "      <td>0.280897</td>\n",
       "    </tr>\n",
       "    <tr>\n",
       "      <th>CONTENT_LENGTH</th>\n",
       "      <td>0.129745</td>\n",
       "      <td>0.214225</td>\n",
       "      <td>1.000000</td>\n",
       "      <td>0.078451</td>\n",
       "      <td>-0.000381</td>\n",
       "      <td>0.004774</td>\n",
       "      <td>0.051202</td>\n",
       "      <td>0.074142</td>\n",
       "      <td>0.091077</td>\n",
       "      <td>0.100094</td>\n",
       "      <td>0.047595</td>\n",
       "      <td>0.074142</td>\n",
       "      <td>-0.045644</td>\n",
       "      <td>-0.090852</td>\n",
       "    </tr>\n",
       "    <tr>\n",
       "      <th>TCP_CONVERSATION_EXCHANGE</th>\n",
       "      <td>-0.038407</td>\n",
       "      <td>-0.037459</td>\n",
       "      <td>0.078451</td>\n",
       "      <td>1.000000</td>\n",
       "      <td>0.555188</td>\n",
       "      <td>0.331080</td>\n",
       "      <td>0.457320</td>\n",
       "      <td>0.997796</td>\n",
       "      <td>0.990848</td>\n",
       "      <td>0.865580</td>\n",
       "      <td>0.458702</td>\n",
       "      <td>0.997796</td>\n",
       "      <td>0.349832</td>\n",
       "      <td>-0.040202</td>\n",
       "    </tr>\n",
       "    <tr>\n",
       "      <th>DIST_REMOTE_TCP_PORT</th>\n",
       "      <td>-0.039839</td>\n",
       "      <td>-0.042619</td>\n",
       "      <td>-0.000381</td>\n",
       "      <td>0.555188</td>\n",
       "      <td>1.000000</td>\n",
       "      <td>0.210188</td>\n",
       "      <td>0.780238</td>\n",
       "      <td>0.558612</td>\n",
       "      <td>0.591188</td>\n",
       "      <td>0.313359</td>\n",
       "      <td>0.781212</td>\n",
       "      <td>0.558612</td>\n",
       "      <td>0.259942</td>\n",
       "      <td>-0.082925</td>\n",
       "    </tr>\n",
       "    <tr>\n",
       "      <th>REMOTE_IPS</th>\n",
       "      <td>-0.046367</td>\n",
       "      <td>-0.047103</td>\n",
       "      <td>0.004774</td>\n",
       "      <td>0.331080</td>\n",
       "      <td>0.210188</td>\n",
       "      <td>1.000000</td>\n",
       "      <td>0.023126</td>\n",
       "      <td>0.361104</td>\n",
       "      <td>0.304683</td>\n",
       "      <td>0.171651</td>\n",
       "      <td>0.025324</td>\n",
       "      <td>0.361104</td>\n",
       "      <td>0.548189</td>\n",
       "      <td>-0.078783</td>\n",
       "    </tr>\n",
       "    <tr>\n",
       "      <th>APP_BYTES</th>\n",
       "      <td>-0.026446</td>\n",
       "      <td>-0.023914</td>\n",
       "      <td>0.051202</td>\n",
       "      <td>0.457320</td>\n",
       "      <td>0.780238</td>\n",
       "      <td>0.023126</td>\n",
       "      <td>1.000000</td>\n",
       "      <td>0.445822</td>\n",
       "      <td>0.468999</td>\n",
       "      <td>0.074464</td>\n",
       "      <td>0.999992</td>\n",
       "      <td>0.445822</td>\n",
       "      <td>0.012221</td>\n",
       "      <td>-0.011262</td>\n",
       "    </tr>\n",
       "    <tr>\n",
       "      <th>SOURCE_APP_PACKETS</th>\n",
       "      <td>-0.042264</td>\n",
       "      <td>-0.040096</td>\n",
       "      <td>0.074142</td>\n",
       "      <td>0.997796</td>\n",
       "      <td>0.558612</td>\n",
       "      <td>0.361104</td>\n",
       "      <td>0.445822</td>\n",
       "      <td>1.000000</td>\n",
       "      <td>0.989285</td>\n",
       "      <td>0.857495</td>\n",
       "      <td>0.447448</td>\n",
       "      <td>1.000000</td>\n",
       "      <td>0.410843</td>\n",
       "      <td>-0.034414</td>\n",
       "    </tr>\n",
       "    <tr>\n",
       "      <th>REMOTE_APP_PACKETS</th>\n",
       "      <td>-0.033779</td>\n",
       "      <td>-0.030597</td>\n",
       "      <td>0.091077</td>\n",
       "      <td>0.990848</td>\n",
       "      <td>0.591188</td>\n",
       "      <td>0.304683</td>\n",
       "      <td>0.468999</td>\n",
       "      <td>0.989285</td>\n",
       "      <td>1.000000</td>\n",
       "      <td>0.880555</td>\n",
       "      <td>0.470401</td>\n",
       "      <td>0.989285</td>\n",
       "      <td>0.355716</td>\n",
       "      <td>-0.032897</td>\n",
       "    </tr>\n",
       "    <tr>\n",
       "      <th>SOURCE_APP_BYTES</th>\n",
       "      <td>-0.014857</td>\n",
       "      <td>-0.014376</td>\n",
       "      <td>0.100094</td>\n",
       "      <td>0.865580</td>\n",
       "      <td>0.313359</td>\n",
       "      <td>0.171651</td>\n",
       "      <td>0.074464</td>\n",
       "      <td>0.857495</td>\n",
       "      <td>0.880555</td>\n",
       "      <td>1.000000</td>\n",
       "      <td>0.075328</td>\n",
       "      <td>0.857495</td>\n",
       "      <td>0.215285</td>\n",
       "      <td>-0.043852</td>\n",
       "    </tr>\n",
       "    <tr>\n",
       "      <th>REMOTE_APP_BYTES</th>\n",
       "      <td>-0.026686</td>\n",
       "      <td>-0.024098</td>\n",
       "      <td>0.047595</td>\n",
       "      <td>0.458702</td>\n",
       "      <td>0.781212</td>\n",
       "      <td>0.025324</td>\n",
       "      <td>0.999992</td>\n",
       "      <td>0.447448</td>\n",
       "      <td>0.470401</td>\n",
       "      <td>0.075328</td>\n",
       "      <td>1.000000</td>\n",
       "      <td>0.447448</td>\n",
       "      <td>0.016215</td>\n",
       "      <td>-0.011004</td>\n",
       "    </tr>\n",
       "    <tr>\n",
       "      <th>APP_PACKETS</th>\n",
       "      <td>-0.042264</td>\n",
       "      <td>-0.040096</td>\n",
       "      <td>0.074142</td>\n",
       "      <td>0.997796</td>\n",
       "      <td>0.558612</td>\n",
       "      <td>0.361104</td>\n",
       "      <td>0.445822</td>\n",
       "      <td>1.000000</td>\n",
       "      <td>0.989285</td>\n",
       "      <td>0.857495</td>\n",
       "      <td>0.447448</td>\n",
       "      <td>1.000000</td>\n",
       "      <td>0.410843</td>\n",
       "      <td>-0.034414</td>\n",
       "    </tr>\n",
       "    <tr>\n",
       "      <th>DNS_QUERY_TIMES</th>\n",
       "      <td>-0.068582</td>\n",
       "      <td>-0.050048</td>\n",
       "      <td>-0.045644</td>\n",
       "      <td>0.349832</td>\n",
       "      <td>0.259942</td>\n",
       "      <td>0.548189</td>\n",
       "      <td>0.012221</td>\n",
       "      <td>0.410843</td>\n",
       "      <td>0.355716</td>\n",
       "      <td>0.215285</td>\n",
       "      <td>0.016215</td>\n",
       "      <td>0.410843</td>\n",
       "      <td>1.000000</td>\n",
       "      <td>0.068753</td>\n",
       "    </tr>\n",
       "    <tr>\n",
       "      <th>Type</th>\n",
       "      <td>0.162104</td>\n",
       "      <td>0.280897</td>\n",
       "      <td>-0.090852</td>\n",
       "      <td>-0.040202</td>\n",
       "      <td>-0.082925</td>\n",
       "      <td>-0.078783</td>\n",
       "      <td>-0.011262</td>\n",
       "      <td>-0.034414</td>\n",
       "      <td>-0.032897</td>\n",
       "      <td>-0.043852</td>\n",
       "      <td>-0.011004</td>\n",
       "      <td>-0.034414</td>\n",
       "      <td>0.068753</td>\n",
       "      <td>1.000000</td>\n",
       "    </tr>\n",
       "  </tbody>\n",
       "</table>\n",
       "</div>"
      ],
      "text/plain": [
       "                           URL_LENGTH  NUMBER_SPECIAL_CHARACTERS  \\\n",
       "URL_LENGTH                   1.000000                   0.917986   \n",
       "NUMBER_SPECIAL_CHARACTERS    0.917986                   1.000000   \n",
       "CONTENT_LENGTH               0.129745                   0.214225   \n",
       "TCP_CONVERSATION_EXCHANGE   -0.038407                  -0.037459   \n",
       "DIST_REMOTE_TCP_PORT        -0.039839                  -0.042619   \n",
       "REMOTE_IPS                  -0.046367                  -0.047103   \n",
       "APP_BYTES                   -0.026446                  -0.023914   \n",
       "SOURCE_APP_PACKETS          -0.042264                  -0.040096   \n",
       "REMOTE_APP_PACKETS          -0.033779                  -0.030597   \n",
       "SOURCE_APP_BYTES            -0.014857                  -0.014376   \n",
       "REMOTE_APP_BYTES            -0.026686                  -0.024098   \n",
       "APP_PACKETS                 -0.042264                  -0.040096   \n",
       "DNS_QUERY_TIMES             -0.068582                  -0.050048   \n",
       "Type                         0.162104                   0.280897   \n",
       "\n",
       "                           CONTENT_LENGTH  TCP_CONVERSATION_EXCHANGE  \\\n",
       "URL_LENGTH                       0.129745                  -0.038407   \n",
       "NUMBER_SPECIAL_CHARACTERS        0.214225                  -0.037459   \n",
       "CONTENT_LENGTH                   1.000000                   0.078451   \n",
       "TCP_CONVERSATION_EXCHANGE        0.078451                   1.000000   \n",
       "DIST_REMOTE_TCP_PORT            -0.000381                   0.555188   \n",
       "REMOTE_IPS                       0.004774                   0.331080   \n",
       "APP_BYTES                        0.051202                   0.457320   \n",
       "SOURCE_APP_PACKETS               0.074142                   0.997796   \n",
       "REMOTE_APP_PACKETS               0.091077                   0.990848   \n",
       "SOURCE_APP_BYTES                 0.100094                   0.865580   \n",
       "REMOTE_APP_BYTES                 0.047595                   0.458702   \n",
       "APP_PACKETS                      0.074142                   0.997796   \n",
       "DNS_QUERY_TIMES                 -0.045644                   0.349832   \n",
       "Type                            -0.090852                  -0.040202   \n",
       "\n",
       "                           DIST_REMOTE_TCP_PORT  REMOTE_IPS  APP_BYTES  \\\n",
       "URL_LENGTH                            -0.039839   -0.046367  -0.026446   \n",
       "NUMBER_SPECIAL_CHARACTERS             -0.042619   -0.047103  -0.023914   \n",
       "CONTENT_LENGTH                        -0.000381    0.004774   0.051202   \n",
       "TCP_CONVERSATION_EXCHANGE              0.555188    0.331080   0.457320   \n",
       "DIST_REMOTE_TCP_PORT                   1.000000    0.210188   0.780238   \n",
       "REMOTE_IPS                             0.210188    1.000000   0.023126   \n",
       "APP_BYTES                              0.780238    0.023126   1.000000   \n",
       "SOURCE_APP_PACKETS                     0.558612    0.361104   0.445822   \n",
       "REMOTE_APP_PACKETS                     0.591188    0.304683   0.468999   \n",
       "SOURCE_APP_BYTES                       0.313359    0.171651   0.074464   \n",
       "REMOTE_APP_BYTES                       0.781212    0.025324   0.999992   \n",
       "APP_PACKETS                            0.558612    0.361104   0.445822   \n",
       "DNS_QUERY_TIMES                        0.259942    0.548189   0.012221   \n",
       "Type                                  -0.082925   -0.078783  -0.011262   \n",
       "\n",
       "                           SOURCE_APP_PACKETS  REMOTE_APP_PACKETS  \\\n",
       "URL_LENGTH                          -0.042264           -0.033779   \n",
       "NUMBER_SPECIAL_CHARACTERS           -0.040096           -0.030597   \n",
       "CONTENT_LENGTH                       0.074142            0.091077   \n",
       "TCP_CONVERSATION_EXCHANGE            0.997796            0.990848   \n",
       "DIST_REMOTE_TCP_PORT                 0.558612            0.591188   \n",
       "REMOTE_IPS                           0.361104            0.304683   \n",
       "APP_BYTES                            0.445822            0.468999   \n",
       "SOURCE_APP_PACKETS                   1.000000            0.989285   \n",
       "REMOTE_APP_PACKETS                   0.989285            1.000000   \n",
       "SOURCE_APP_BYTES                     0.857495            0.880555   \n",
       "REMOTE_APP_BYTES                     0.447448            0.470401   \n",
       "APP_PACKETS                          1.000000            0.989285   \n",
       "DNS_QUERY_TIMES                      0.410843            0.355716   \n",
       "Type                                -0.034414           -0.032897   \n",
       "\n",
       "                           SOURCE_APP_BYTES  REMOTE_APP_BYTES  APP_PACKETS  \\\n",
       "URL_LENGTH                        -0.014857         -0.026686    -0.042264   \n",
       "NUMBER_SPECIAL_CHARACTERS         -0.014376         -0.024098    -0.040096   \n",
       "CONTENT_LENGTH                     0.100094          0.047595     0.074142   \n",
       "TCP_CONVERSATION_EXCHANGE          0.865580          0.458702     0.997796   \n",
       "DIST_REMOTE_TCP_PORT               0.313359          0.781212     0.558612   \n",
       "REMOTE_IPS                         0.171651          0.025324     0.361104   \n",
       "APP_BYTES                          0.074464          0.999992     0.445822   \n",
       "SOURCE_APP_PACKETS                 0.857495          0.447448     1.000000   \n",
       "REMOTE_APP_PACKETS                 0.880555          0.470401     0.989285   \n",
       "SOURCE_APP_BYTES                   1.000000          0.075328     0.857495   \n",
       "REMOTE_APP_BYTES                   0.075328          1.000000     0.447448   \n",
       "APP_PACKETS                        0.857495          0.447448     1.000000   \n",
       "DNS_QUERY_TIMES                    0.215285          0.016215     0.410843   \n",
       "Type                              -0.043852         -0.011004    -0.034414   \n",
       "\n",
       "                           DNS_QUERY_TIMES      Type  \n",
       "URL_LENGTH                       -0.068582  0.162104  \n",
       "NUMBER_SPECIAL_CHARACTERS        -0.050048  0.280897  \n",
       "CONTENT_LENGTH                   -0.045644 -0.090852  \n",
       "TCP_CONVERSATION_EXCHANGE         0.349832 -0.040202  \n",
       "DIST_REMOTE_TCP_PORT              0.259942 -0.082925  \n",
       "REMOTE_IPS                        0.548189 -0.078783  \n",
       "APP_BYTES                         0.012221 -0.011262  \n",
       "SOURCE_APP_PACKETS                0.410843 -0.034414  \n",
       "REMOTE_APP_PACKETS                0.355716 -0.032897  \n",
       "SOURCE_APP_BYTES                  0.215285 -0.043852  \n",
       "REMOTE_APP_BYTES                  0.016215 -0.011004  \n",
       "APP_PACKETS                       0.410843 -0.034414  \n",
       "DNS_QUERY_TIMES                   1.000000  0.068753  \n",
       "Type                              0.068753  1.000000  "
      ]
     },
     "execution_count": 15,
     "metadata": {},
     "output_type": "execute_result"
    }
   ],
   "source": [
    "correlation"
   ]
  },
  {
   "cell_type": "code",
   "execution_count": 16,
   "metadata": {},
   "outputs": [
    {
     "name": "stdout",
     "output_type": "stream",
     "text": [
      "URL_LENGTH,NUMBER_SPECIAL_CHARACTERS,0.9179859625469562\n",
      "NUMBER_SPECIAL_CHARACTERS,URL_LENGTH,0.9179859625469562\n",
      "TCP_CONVERSATION_EXCHANGE,SOURCE_APP_PACKETS,0.997796267211846\n",
      "TCP_CONVERSATION_EXCHANGE,REMOTE_APP_PACKETS,0.99084845599245\n",
      "TCP_CONVERSATION_EXCHANGE,APP_PACKETS,0.997796267211846\n",
      "APP_BYTES,REMOTE_APP_BYTES,0.9999919769069622\n",
      "SOURCE_APP_PACKETS,TCP_CONVERSATION_EXCHANGE,0.997796267211846\n",
      "SOURCE_APP_PACKETS,REMOTE_APP_PACKETS,0.9892845554495483\n",
      "SOURCE_APP_PACKETS,APP_PACKETS,1.0\n",
      "REMOTE_APP_PACKETS,TCP_CONVERSATION_EXCHANGE,0.99084845599245\n",
      "REMOTE_APP_PACKETS,SOURCE_APP_PACKETS,0.9892845554495483\n",
      "REMOTE_APP_PACKETS,APP_PACKETS,0.9892845554495483\n",
      "REMOTE_APP_BYTES,APP_BYTES,0.9999919769069622\n",
      "APP_PACKETS,TCP_CONVERSATION_EXCHANGE,0.997796267211846\n",
      "APP_PACKETS,SOURCE_APP_PACKETS,1.0\n",
      "APP_PACKETS,REMOTE_APP_PACKETS,0.9892845554495483\n"
     ]
    }
   ],
   "source": [
    "for y in correlation.columns:\n",
    "    for z in correlation.columns:\n",
    "        if y != z and (correlation.loc[y,z]>0.90 or correlation.loc[y,z]<-0.90):\n",
    "            print(f'{y},{z},{correlation.loc[y,z]}')\n",
    "            "
   ]
  },
  {
   "cell_type": "code",
   "execution_count": 17,
   "metadata": {},
   "outputs": [
    {
     "data": {
      "image/png": "[encoded data removed]",
      "text/plain": [
       "<Figure size 360x360 with 6 Axes>"
      ]
     },
     "metadata": {
      "needs_background": "light"
     },
     "output_type": "display_data"
    }
   ],
   "source": [
    "sns.pairplot(data=websites[['URL_LENGTH','NUMBER_SPECIAL_CHARACTERS']],kind=\"reg\")\n",
    "plt.show()"
   ]
  },
  {
   "cell_type": "code",
   "execution_count": 18,
   "metadata": {},
   "outputs": [
    {
     "data": {
      "image/png": "[encoded data removed]",
      "text/plain": [
       "<Figure size 720x720 with 20 Axes>"
      ]
     },
     "metadata": {
      "needs_background": "light"
     },
     "output_type": "display_data"
    }
   ],
   "source": [
    "sns.pairplot(data=websites[['TCP_CONVERSATION_EXCHANGE','SOURCE_APP_PACKETS','REMOTE_APP_PACKETS','APP_PACKETS']],kind=\"reg\")\n",
    "plt.show()"
   ]
  },
  {
   "cell_type": "code",
   "execution_count": 19,
   "metadata": {},
   "outputs": [
    {
     "data": {
      "image/png": "[encoded data removed]",
      "text/plain": [
       "<Figure size 360x360 with 6 Axes>"
      ]
     },
     "metadata": {
      "needs_background": "light"
     },
     "output_type": "display_data"
    }
   ],
   "source": [
    "sns.pairplot(data=websites[['APP_BYTES','REMOTE_APP_BYTES']],kind=\"reg\")\n",
    "plt.show()"
   ]
  },
  {
   "cell_type": "markdown",
   "metadata": {},
   "source": [
    "<font color='blue'>We have three groups of very linear correlated, we will only leave one of the vars per group.</font>"
   ]
  },
  {
   "cell_type": "markdown",
   "metadata": {},
   "source": [
    "# Challenge 2 - Remove Column Collinearity.\n",
    "\n",
    "From the heatmap you created, you should have seen at least 3 columns that can be removed due to high collinearity. Remove these columns from the dataset.\n",
    "\n",
    "Note that you should remove as few columns as you can. You don't have to remove all the columns at once. But instead, try removing one column, then produce the heatmap again to determine if additional columns should be removed. As long as the dataset no longer contains columns that are correlated for over 90%, you can stop. Also, keep in mind when two columns have high collinearity, you only need to remove one of them but not both.\n",
    "\n",
    "In the cells below, remove as few columns as you can to eliminate the high collinearity in the dataset. Make sure to comment on your way so that the instructional team can learn about your thinking process which allows them to give feedback. At the end, print the heatmap again."
   ]
  },
  {
   "cell_type": "code",
   "execution_count": 20,
   "metadata": {},
   "outputs": [],
   "source": [
    "# Your code here\n",
    "columns_to_drop = ['NUMBER_SPECIAL_CHARACTERS','SOURCE_APP_PACKETS','REMOTE_APP_PACKETS','APP_PACKETS','REMOTE_APP_BYTES']"
   ]
  },
  {
   "cell_type": "code",
   "execution_count": 21,
   "metadata": {},
   "outputs": [],
   "source": [
    "# Your comment here\n",
    "websites_clean = websites.drop(columns=columns_to_drop)"
   ]
  },
  {
   "cell_type": "code",
   "execution_count": 22,
   "metadata": {},
   "outputs": [],
   "source": [
    "# Print heatmap again\n",
    "correlation_clean = websites_clean.corr()"
   ]
  },
  {
   "cell_type": "code",
   "execution_count": 23,
   "metadata": {},
   "outputs": [
    {
     "data": {
      "image/png": "[encoded data removed]",
      "text/plain": [
       "<Figure size 1152x432 with 2 Axes>"
      ]
     },
     "metadata": {
      "needs_background": "light"
     },
     "output_type": "display_data"
    }
   ],
   "source": [
    "# Your comment here\n",
    "plt.figure(figsize=(16, 6))\n",
    "sns.heatmap(correlation_clean, cmap=\"YlGnBu\", annot=True)\n",
    "plt.show()"
   ]
  },
  {
   "cell_type": "markdown",
   "metadata": {},
   "source": [
    "<font color='blue'>There is a column,SOURCE APP BYTES, that may be droped but for the moment I keep it \n",
    "</font>"
   ]
  },
  {
   "cell_type": "markdown",
   "metadata": {},
   "source": [
    "# Challenge 3 - Handle Missing Values\n",
    "\n",
    "The next step would be handling missing values. **We start by examining the number of missing values in each column, which you will do in the next cell.**"
   ]
  },
  {
   "cell_type": "code",
   "execution_count": 24,
   "metadata": {},
   "outputs": [
    {
     "data": {
      "text/plain": [
       "URL                            0\n",
       "URL_LENGTH                     0\n",
       "CHARSET                        0\n",
       "SERVER                         1\n",
       "CONTENT_LENGTH               812\n",
       "WHOIS_COUNTRY                  0\n",
       "WHOIS_STATEPRO                 0\n",
       "WHOIS_REGDATE                  0\n",
       "WHOIS_UPDATED_DATE             0\n",
       "TCP_CONVERSATION_EXCHANGE      0\n",
       "DIST_REMOTE_TCP_PORT           0\n",
       "REMOTE_IPS                     0\n",
       "APP_BYTES                      0\n",
       "SOURCE_APP_BYTES               0\n",
       "DNS_QUERY_TIMES                1\n",
       "Type                           0\n",
       "dtype: int64"
      ]
     },
     "execution_count": 24,
     "metadata": {},
     "output_type": "execute_result"
    }
   ],
   "source": [
    "# Your code here\n",
    "websites_clean.isnull().sum()"
   ]
  },
  {
   "cell_type": "markdown",
   "metadata": {},
   "source": [
    "If you remember in the previous labs, we drop a column if the column contains a high proportion of missing values. After dropping those problematic columns, we drop the rows with missing values.\n",
    "\n",
    "#### In the cells below, handle the missing values from the dataset. Remember to comment the rationale of your decisions."
   ]
  },
  {
   "cell_type": "code",
   "execution_count": 25,
   "metadata": {},
   "outputs": [
    {
     "data": {
      "text/plain": [
       "0.45592363840539024"
      ]
     },
     "execution_count": 25,
     "metadata": {},
     "output_type": "execute_result"
    }
   ],
   "source": [
    "# Your code here\n",
    "websites_clean.CONTENT_LENGTH.isnull().sum()/websites_clean.shape[0]"
   ]
  },
  {
   "cell_type": "code",
   "execution_count": 26,
   "metadata": {},
   "outputs": [
    {
     "data": {
      "text/html": [
       "<div>\n",
       "<style scoped>\n",
       "    .dataframe tbody tr th:only-of-type {\n",
       "        vertical-align: middle;\n",
       "    }\n",
       "\n",
       "    .dataframe tbody tr th {\n",
       "        vertical-align: top;\n",
       "    }\n",
       "\n",
       "    .dataframe thead th {\n",
       "        text-align: right;\n",
       "    }\n",
       "</style>\n",
       "<table border=\"1\" class=\"dataframe\">\n",
       "  <thead>\n",
       "    <tr style=\"text-align: right;\">\n",
       "      <th></th>\n",
       "      <th>CONTENT_LENGTH</th>\n",
       "      <th>Type</th>\n",
       "    </tr>\n",
       "  </thead>\n",
       "  <tbody>\n",
       "    <tr>\n",
       "      <th>CONTENT_LENGTH</th>\n",
       "      <td>1.000000</td>\n",
       "      <td>-0.090852</td>\n",
       "    </tr>\n",
       "    <tr>\n",
       "      <th>Type</th>\n",
       "      <td>-0.090852</td>\n",
       "      <td>1.000000</td>\n",
       "    </tr>\n",
       "  </tbody>\n",
       "</table>\n",
       "</div>"
      ],
      "text/plain": [
       "                CONTENT_LENGTH      Type\n",
       "CONTENT_LENGTH        1.000000 -0.090852\n",
       "Type                 -0.090852  1.000000"
      ]
     },
     "execution_count": 26,
     "metadata": {},
     "output_type": "execute_result"
    }
   ],
   "source": [
    "websites_clean[['CONTENT_LENGTH','Type']].corr()"
   ]
  },
  {
   "cell_type": "markdown",
   "metadata": {},
   "source": [
    "<font color='blue'>45% of the column CONTENT_LENGTH is empty. <br>\n",
    "Also, the column is not very correlated with the target var. <br>\n",
    "So we will delete the column.\n",
    "</font>"
   ]
  },
  {
   "cell_type": "code",
   "execution_count": 27,
   "metadata": {},
   "outputs": [],
   "source": [
    "# Your comment here\n",
    "websites_clean.drop(columns='CONTENT_LENGTH', inplace=True)"
   ]
  },
  {
   "cell_type": "markdown",
   "metadata": {},
   "source": [
    "#### Again, examine the number of missing values in each column. \n",
    "\n",
    "If all cleaned, proceed. Otherwise, go back and do more cleaning."
   ]
  },
  {
   "cell_type": "code",
   "execution_count": 28,
   "metadata": {},
   "outputs": [
    {
     "data": {
      "text/plain": [
       "URL                          0\n",
       "URL_LENGTH                   0\n",
       "CHARSET                      0\n",
       "SERVER                       1\n",
       "WHOIS_COUNTRY                0\n",
       "WHOIS_STATEPRO               0\n",
       "WHOIS_REGDATE                0\n",
       "WHOIS_UPDATED_DATE           0\n",
       "TCP_CONVERSATION_EXCHANGE    0\n",
       "DIST_REMOTE_TCP_PORT         0\n",
       "REMOTE_IPS                   0\n",
       "APP_BYTES                    0\n",
       "SOURCE_APP_BYTES             0\n",
       "DNS_QUERY_TIMES              1\n",
       "Type                         0\n",
       "dtype: int64"
      ]
     },
     "execution_count": 28,
     "metadata": {},
     "output_type": "execute_result"
    }
   ],
   "source": [
    "# Examine missing values in each column\n",
    "websites_clean.isnull().sum()"
   ]
  },
  {
   "cell_type": "code",
   "execution_count": 29,
   "metadata": {},
   "outputs": [
    {
     "data": {
      "text/html": [
       "<div>\n",
       "<style scoped>\n",
       "    .dataframe tbody tr th:only-of-type {\n",
       "        vertical-align: middle;\n",
       "    }\n",
       "\n",
       "    .dataframe tbody tr th {\n",
       "        vertical-align: top;\n",
       "    }\n",
       "\n",
       "    .dataframe thead th {\n",
       "        text-align: right;\n",
       "    }\n",
       "</style>\n",
       "<table border=\"1\" class=\"dataframe\">\n",
       "  <thead>\n",
       "    <tr style=\"text-align: right;\">\n",
       "      <th></th>\n",
       "      <th>URL</th>\n",
       "      <th>URL_LENGTH</th>\n",
       "      <th>CHARSET</th>\n",
       "      <th>SERVER</th>\n",
       "      <th>WHOIS_COUNTRY</th>\n",
       "      <th>WHOIS_STATEPRO</th>\n",
       "      <th>WHOIS_REGDATE</th>\n",
       "      <th>WHOIS_UPDATED_DATE</th>\n",
       "      <th>TCP_CONVERSATION_EXCHANGE</th>\n",
       "      <th>DIST_REMOTE_TCP_PORT</th>\n",
       "      <th>REMOTE_IPS</th>\n",
       "      <th>APP_BYTES</th>\n",
       "      <th>SOURCE_APP_BYTES</th>\n",
       "      <th>DNS_QUERY_TIMES</th>\n",
       "      <th>Type</th>\n",
       "    </tr>\n",
       "  </thead>\n",
       "  <tbody>\n",
       "    <tr>\n",
       "      <th>1306</th>\n",
       "      <td>B0_2134</td>\n",
       "      <td>66</td>\n",
       "      <td>UTF-8</td>\n",
       "      <td>NaN</td>\n",
       "      <td>US</td>\n",
       "      <td>District of Columbia</td>\n",
       "      <td>1/02/2003 16:44</td>\n",
       "      <td>2/02/2017 17:11</td>\n",
       "      <td>15</td>\n",
       "      <td>2</td>\n",
       "      <td>4</td>\n",
       "      <td>1026</td>\n",
       "      <td>246</td>\n",
       "      <td>0.0</td>\n",
       "      <td>0</td>\n",
       "    </tr>\n",
       "    <tr>\n",
       "      <th>1659</th>\n",
       "      <td>B0_772</td>\n",
       "      <td>101</td>\n",
       "      <td>UTF-8</td>\n",
       "      <td>Apache</td>\n",
       "      <td>CA</td>\n",
       "      <td>ON</td>\n",
       "      <td>14/12/2009 0:00</td>\n",
       "      <td>13/12/2016 0:00</td>\n",
       "      <td>4</td>\n",
       "      <td>2</td>\n",
       "      <td>2</td>\n",
       "      <td>276</td>\n",
       "      <td>416</td>\n",
       "      <td>NaN</td>\n",
       "      <td>0</td>\n",
       "    </tr>\n",
       "  </tbody>\n",
       "</table>\n",
       "</div>"
      ],
      "text/plain": [
       "          URL  URL_LENGTH CHARSET  SERVER WHOIS_COUNTRY        WHOIS_STATEPRO  \\\n",
       "1306  B0_2134          66   UTF-8     NaN            US  District of Columbia   \n",
       "1659   B0_772         101   UTF-8  Apache            CA                    ON   \n",
       "\n",
       "        WHOIS_REGDATE WHOIS_UPDATED_DATE  TCP_CONVERSATION_EXCHANGE  \\\n",
       "1306  1/02/2003 16:44    2/02/2017 17:11                         15   \n",
       "1659  14/12/2009 0:00    13/12/2016 0:00                          4   \n",
       "\n",
       "      DIST_REMOTE_TCP_PORT  REMOTE_IPS  APP_BYTES  SOURCE_APP_BYTES  \\\n",
       "1306                     2           4       1026               246   \n",
       "1659                     2           2        276               416   \n",
       "\n",
       "      DNS_QUERY_TIMES  Type  \n",
       "1306              0.0     0  \n",
       "1659              NaN     0  "
      ]
     },
     "execution_count": 29,
     "metadata": {},
     "output_type": "execute_result"
    }
   ],
   "source": [
    "websites_clean.loc[(websites_clean.DNS_QUERY_TIMES.isnull()) | (websites_clean.SERVER.isnull())]"
   ]
  },
  {
   "cell_type": "markdown",
   "metadata": {},
   "source": [
    "<font color='blue'>The two rows can be deleted, to clear all the NaN\n",
    "</font>"
   ]
  },
  {
   "cell_type": "code",
   "execution_count": 30,
   "metadata": {},
   "outputs": [],
   "source": [
    "websites_clean.dropna('index', inplace=True)"
   ]
  },
  {
   "cell_type": "code",
   "execution_count": 31,
   "metadata": {},
   "outputs": [
    {
     "data": {
      "text/plain": [
       "URL                          0\n",
       "URL_LENGTH                   0\n",
       "CHARSET                      0\n",
       "SERVER                       0\n",
       "WHOIS_COUNTRY                0\n",
       "WHOIS_STATEPRO               0\n",
       "WHOIS_REGDATE                0\n",
       "WHOIS_UPDATED_DATE           0\n",
       "TCP_CONVERSATION_EXCHANGE    0\n",
       "DIST_REMOTE_TCP_PORT         0\n",
       "REMOTE_IPS                   0\n",
       "APP_BYTES                    0\n",
       "SOURCE_APP_BYTES             0\n",
       "DNS_QUERY_TIMES              0\n",
       "Type                         0\n",
       "dtype: int64"
      ]
     },
     "execution_count": 31,
     "metadata": {},
     "output_type": "execute_result"
    }
   ],
   "source": [
    "websites_clean.isnull().sum()"
   ]
  },
  {
   "cell_type": "markdown",
   "metadata": {},
   "source": [
    "<font color='blue'>We do not have any more null values\n",
    "</font>"
   ]
  },
  {
   "cell_type": "markdown",
   "metadata": {},
   "source": [
    "# Challenge 4 - Handle `WHOIS_*` Categorical Data"
   ]
  },
  {
   "cell_type": "markdown",
   "metadata": {},
   "source": [
    "There are several categorical columns we need to handle. These columns are:\n",
    "\n",
    "* `URL`\n",
    "* `CHARSET`\n",
    "* `SERVER`\n",
    "* `WHOIS_COUNTRY`\n",
    "* `WHOIS_STATEPRO`\n",
    "* `WHOIS_REGDATE`\n",
    "* `WHOIS_UPDATED_DATE`\n",
    "\n",
    "How to handle string columns is always case by case. Let's start by working on `WHOIS_COUNTRY`. Your steps are:\n",
    "\n",
    "1. List out the unique values of `WHOIS_COUNTRY`.\n",
    "1. Consolidate the country values with consistent country codes. For example, the following values refer to the same country and should use consistent country code:\n",
    "    * `CY` and `Cyprus`\n",
    "    * `US` and `us`\n",
    "    * `SE` and `se`\n",
    "    * `GB`, `United Kingdom`, and `[u'GB'; u'UK']`\n",
    "\n",
    "#### In the cells below, fix the country values as intructed above."
   ]
  },
  {
   "cell_type": "code",
   "execution_count": 32,
   "metadata": {},
   "outputs": [
    {
     "data": {
      "text/plain": [
       "array(['None', 'US', 'SC', 'GB', 'UK', 'RU', 'AU', 'CA', 'PA', 'se', 'IN',\n",
       "       'LU', 'TH', \"[u'GB'; u'UK']\", 'FR', 'NL', 'UG', 'JP', 'CN', 'SE',\n",
       "       'SI', 'IL', 'ru', 'KY', 'AT', 'CZ', 'PH', 'BE', 'NO', 'TR', 'LV',\n",
       "       'DE', 'ES', 'BR', 'us', 'KR', 'HK', 'UA', 'CH', 'United Kingdom',\n",
       "       'BS', 'PK', 'IT', 'Cyprus', 'BY', 'AE', 'IE', 'UY', 'KG'],\n",
       "      dtype=object)"
      ]
     },
     "execution_count": 32,
     "metadata": {},
     "output_type": "execute_result"
    }
   ],
   "source": [
    "# Your code here\n",
    "websites_clean.WHOIS_COUNTRY.unique()"
   ]
  },
  {
   "cell_type": "code",
   "execution_count": 33,
   "metadata": {},
   "outputs": [],
   "source": [
    "def replace_country(x):\n",
    "    if x == 'Cyprus':\n",
    "        x = 'CY'\n",
    "    elif x == 'us':\n",
    "        x = 'US'\n",
    "    elif x == 'United Kingdom' or x == \"[u'GB'; u'UK']\":\n",
    "        x = 'UK'        \n",
    "    elif x == 'se':\n",
    "        x = 'SE'        \n",
    "    else:\n",
    "        x = x\n",
    "    return x"
   ]
  },
  {
   "cell_type": "code",
   "execution_count": 34,
   "metadata": {},
   "outputs": [],
   "source": [
    "websites_clean.WHOIS_COUNTRY = websites_clean.WHOIS_COUNTRY.apply(lambda x: replace_country(x))"
   ]
  },
  {
   "cell_type": "code",
   "execution_count": 35,
   "metadata": {},
   "outputs": [
    {
     "data": {
      "text/plain": [
       "array(['None', 'US', 'SC', 'GB', 'UK', 'RU', 'AU', 'CA', 'PA', 'SE', 'IN',\n",
       "       'LU', 'TH', 'FR', 'NL', 'UG', 'JP', 'CN', 'SI', 'IL', 'ru', 'KY',\n",
       "       'AT', 'CZ', 'PH', 'BE', 'NO', 'TR', 'LV', 'DE', 'ES', 'BR', 'KR',\n",
       "       'HK', 'UA', 'CH', 'BS', 'PK', 'IT', 'CY', 'BY', 'AE', 'IE', 'UY',\n",
       "       'KG'], dtype=object)"
      ]
     },
     "execution_count": 35,
     "metadata": {},
     "output_type": "execute_result"
    }
   ],
   "source": [
    "websites_clean.WHOIS_COUNTRY.unique()"
   ]
  },
  {
   "cell_type": "markdown",
   "metadata": {},
   "source": [
    "Since we have fixed the country values, can we convert this column to ordinal now?\n",
    "\n",
    "Not yet. If you reflect on the previous labs how we handle categorical columns, you probably remember we ended up dropping a lot of those columns because there are too many unique values. Too many unique values in a column is not desirable in machine learning because it makes prediction inaccurate. But there are workarounds under certain conditions. One of the fixable conditions is:\n",
    "\n",
    "#### If a limited number of values account for the majority of data, we can retain these top values and re-label all other rare values.\n",
    "\n",
    "The `WHOIS_COUNTRY` column happens to be this case. You can verify it by print a bar chart of the `value_counts` in the next cell to verify:"
   ]
  },
  {
   "cell_type": "code",
   "execution_count": 36,
   "metadata": {},
   "outputs": [
    {
     "data": {
      "text/plain": [
       "US      1105\n",
       "None     306\n",
       "CA        83\n",
       "ES        63\n",
       "AU        35\n",
       "PA        21\n",
       "GB        19\n",
       "UK        16\n",
       "JP        11\n",
       "IN        10\n",
       "CN        10\n",
       "Name: WHOIS_COUNTRY, dtype: int64"
      ]
     },
     "execution_count": 36,
     "metadata": {},
     "output_type": "execute_result"
    }
   ],
   "source": [
    "# Your code here\n",
    "websites_clean.WHOIS_COUNTRY.value_counts().head(11)"
   ]
  },
  {
   "cell_type": "markdown",
   "metadata": {},
   "source": [
    "#### After verifying, now let's keep the top 10 values of the column and re-label other columns with `OTHER`."
   ]
  },
  {
   "cell_type": "code",
   "execution_count": 37,
   "metadata": {
    "scrolled": true
   },
   "outputs": [],
   "source": [
    "# Your code here\n",
    "list_keep = ['US','CA', 'ES', 'AU', 'PA', 'GB', 'UK', 'JP', 'IN', 'CN']\n",
    "websites_clean.WHOIS_COUNTRY = websites_clean.WHOIS_COUNTRY.apply(lambda x: x if x in list_keep else 'OTHER')"
   ]
  },
  {
   "cell_type": "code",
   "execution_count": 38,
   "metadata": {},
   "outputs": [
    {
     "data": {
      "text/plain": [
       "US       1105\n",
       "OTHER     406\n",
       "CA         83\n",
       "ES         63\n",
       "AU         35\n",
       "PA         21\n",
       "GB         19\n",
       "UK         16\n",
       "JP         11\n",
       "IN         10\n",
       "CN         10\n",
       "Name: WHOIS_COUNTRY, dtype: int64"
      ]
     },
     "execution_count": 38,
     "metadata": {},
     "output_type": "execute_result"
    }
   ],
   "source": [
    "websites_clean.WHOIS_COUNTRY.value_counts()"
   ]
  },
  {
   "cell_type": "markdown",
   "metadata": {},
   "source": [
    "Now since `WHOIS_COUNTRY` has been re-labelled, we don't need `WHOIS_STATEPRO` any more because the values of the states or provinces may not be relevant any more. We'll drop this column.\n",
    "\n",
    "In addition, we will also drop `WHOIS_REGDATE` and `WHOIS_UPDATED_DATE`. These are the registration and update dates of the website domains. Not of our concerns.\n",
    "\n",
    "#### In the next cell, drop `['WHOIS_STATEPRO', 'WHOIS_REGDATE', 'WHOIS_UPDATED_DATE']`."
   ]
  },
  {
   "cell_type": "code",
   "execution_count": 39,
   "metadata": {},
   "outputs": [],
   "source": [
    "# Your code here\n",
    "websites_clean.drop(columns=['WHOIS_STATEPRO', 'WHOIS_REGDATE', 'WHOIS_UPDATED_DATE'], inplace=True)"
   ]
  },
  {
   "cell_type": "code",
   "execution_count": 40,
   "metadata": {},
   "outputs": [
    {
     "data": {
      "text/html": [
       "<div>\n",
       "<style scoped>\n",
       "    .dataframe tbody tr th:only-of-type {\n",
       "        vertical-align: middle;\n",
       "    }\n",
       "\n",
       "    .dataframe tbody tr th {\n",
       "        vertical-align: top;\n",
       "    }\n",
       "\n",
       "    .dataframe thead th {\n",
       "        text-align: right;\n",
       "    }\n",
       "</style>\n",
       "<table border=\"1\" class=\"dataframe\">\n",
       "  <thead>\n",
       "    <tr style=\"text-align: right;\">\n",
       "      <th></th>\n",
       "      <th>URL</th>\n",
       "      <th>URL_LENGTH</th>\n",
       "      <th>CHARSET</th>\n",
       "      <th>SERVER</th>\n",
       "      <th>WHOIS_COUNTRY</th>\n",
       "      <th>TCP_CONVERSATION_EXCHANGE</th>\n",
       "      <th>DIST_REMOTE_TCP_PORT</th>\n",
       "      <th>REMOTE_IPS</th>\n",
       "      <th>APP_BYTES</th>\n",
       "      <th>SOURCE_APP_BYTES</th>\n",
       "      <th>DNS_QUERY_TIMES</th>\n",
       "      <th>Type</th>\n",
       "    </tr>\n",
       "  </thead>\n",
       "  <tbody>\n",
       "    <tr>\n",
       "      <th>0</th>\n",
       "      <td>M0_109</td>\n",
       "      <td>16</td>\n",
       "      <td>iso-8859-1</td>\n",
       "      <td>nginx</td>\n",
       "      <td>OTHER</td>\n",
       "      <td>7</td>\n",
       "      <td>0</td>\n",
       "      <td>2</td>\n",
       "      <td>700</td>\n",
       "      <td>1153</td>\n",
       "      <td>2.0</td>\n",
       "      <td>1</td>\n",
       "    </tr>\n",
       "    <tr>\n",
       "      <th>1</th>\n",
       "      <td>B0_2314</td>\n",
       "      <td>16</td>\n",
       "      <td>UTF-8</td>\n",
       "      <td>Apache/2.4.10</td>\n",
       "      <td>OTHER</td>\n",
       "      <td>17</td>\n",
       "      <td>7</td>\n",
       "      <td>4</td>\n",
       "      <td>1230</td>\n",
       "      <td>1265</td>\n",
       "      <td>0.0</td>\n",
       "      <td>0</td>\n",
       "    </tr>\n",
       "    <tr>\n",
       "      <th>2</th>\n",
       "      <td>B0_911</td>\n",
       "      <td>16</td>\n",
       "      <td>us-ascii</td>\n",
       "      <td>Microsoft-HTTPAPI/2.0</td>\n",
       "      <td>OTHER</td>\n",
       "      <td>0</td>\n",
       "      <td>0</td>\n",
       "      <td>0</td>\n",
       "      <td>0</td>\n",
       "      <td>0</td>\n",
       "      <td>0.0</td>\n",
       "      <td>0</td>\n",
       "    </tr>\n",
       "    <tr>\n",
       "      <th>3</th>\n",
       "      <td>B0_113</td>\n",
       "      <td>17</td>\n",
       "      <td>ISO-8859-1</td>\n",
       "      <td>nginx</td>\n",
       "      <td>US</td>\n",
       "      <td>31</td>\n",
       "      <td>22</td>\n",
       "      <td>3</td>\n",
       "      <td>3812</td>\n",
       "      <td>18784</td>\n",
       "      <td>8.0</td>\n",
       "      <td>0</td>\n",
       "    </tr>\n",
       "    <tr>\n",
       "      <th>4</th>\n",
       "      <td>B0_403</td>\n",
       "      <td>17</td>\n",
       "      <td>UTF-8</td>\n",
       "      <td>None</td>\n",
       "      <td>US</td>\n",
       "      <td>57</td>\n",
       "      <td>2</td>\n",
       "      <td>5</td>\n",
       "      <td>4278</td>\n",
       "      <td>129889</td>\n",
       "      <td>4.0</td>\n",
       "      <td>0</td>\n",
       "    </tr>\n",
       "  </tbody>\n",
       "</table>\n",
       "</div>"
      ],
      "text/plain": [
       "       URL  URL_LENGTH     CHARSET                 SERVER WHOIS_COUNTRY  \\\n",
       "0   M0_109          16  iso-8859-1                  nginx         OTHER   \n",
       "1  B0_2314          16       UTF-8          Apache/2.4.10         OTHER   \n",
       "2   B0_911          16    us-ascii  Microsoft-HTTPAPI/2.0         OTHER   \n",
       "3   B0_113          17  ISO-8859-1                  nginx            US   \n",
       "4   B0_403          17       UTF-8                   None            US   \n",
       "\n",
       "   TCP_CONVERSATION_EXCHANGE  DIST_REMOTE_TCP_PORT  REMOTE_IPS  APP_BYTES  \\\n",
       "0                          7                     0           2        700   \n",
       "1                         17                     7           4       1230   \n",
       "2                          0                     0           0          0   \n",
       "3                         31                    22           3       3812   \n",
       "4                         57                     2           5       4278   \n",
       "\n",
       "   SOURCE_APP_BYTES  DNS_QUERY_TIMES  Type  \n",
       "0              1153              2.0     1  \n",
       "1              1265              0.0     0  \n",
       "2                 0              0.0     0  \n",
       "3             18784              8.0     0  \n",
       "4            129889              4.0     0  "
      ]
     },
     "execution_count": 40,
     "metadata": {},
     "output_type": "execute_result"
    }
   ],
   "source": [
    "websites_clean.head()"
   ]
  },
  {
   "cell_type": "markdown",
   "metadata": {},
   "source": [
    "# Challenge 5 - Handle Remaining Categorical Data & Convert to Ordinal\n",
    "\n",
    "Now print the `dtypes` of the data again. Besides `WHOIS_COUNTRY` which we already fixed, there should be 3 categorical columns left: `URL`, `CHARSET`, and `SERVER`."
   ]
  },
  {
   "cell_type": "code",
   "execution_count": 41,
   "metadata": {},
   "outputs": [
    {
     "data": {
      "text/plain": [
       "URL                           object\n",
       "URL_LENGTH                     int64\n",
       "CHARSET                       object\n",
       "SERVER                        object\n",
       "WHOIS_COUNTRY                 object\n",
       "TCP_CONVERSATION_EXCHANGE      int64\n",
       "DIST_REMOTE_TCP_PORT           int64\n",
       "REMOTE_IPS                     int64\n",
       "APP_BYTES                      int64\n",
       "SOURCE_APP_BYTES               int64\n",
       "DNS_QUERY_TIMES              float64\n",
       "Type                           int64\n",
       "dtype: object"
      ]
     },
     "execution_count": 41,
     "metadata": {},
     "output_type": "execute_result"
    }
   ],
   "source": [
    "# Your code here\n",
    "websites_clean.dtypes"
   ]
  },
  {
   "cell_type": "markdown",
   "metadata": {},
   "source": [
    "#### `URL` is easy. We'll simply drop it because it has too many unique values that there's no way for us to consolidate."
   ]
  },
  {
   "cell_type": "code",
   "execution_count": 42,
   "metadata": {},
   "outputs": [],
   "source": [
    "# Your code here\n",
    "websites_clean.drop(columns=['URL'], inplace=True)"
   ]
  },
  {
   "cell_type": "markdown",
   "metadata": {},
   "source": [
    "#### Print the unique value counts of `CHARSET`. You see there are only a few unique values. So we can keep it as it is."
   ]
  },
  {
   "cell_type": "code",
   "execution_count": 43,
   "metadata": {},
   "outputs": [
    {
     "data": {
      "text/plain": [
       "UTF-8           674\n",
       "ISO-8859-1      427\n",
       "utf-8           379\n",
       "us-ascii        155\n",
       "iso-8859-1      134\n",
       "None              7\n",
       "windows-1251      1\n",
       "windows-1252      1\n",
       "ISO-8859          1\n",
       "Name: CHARSET, dtype: int64"
      ]
     },
     "execution_count": 43,
     "metadata": {},
     "output_type": "execute_result"
    }
   ],
   "source": [
    "# Your code here\n",
    "websites_clean.CHARSET.value_counts()"
   ]
  },
  {
   "cell_type": "markdown",
   "metadata": {},
   "source": [
    "`SERVER` is a little more complicated. Print its unique values and think about how you can consolidate those values.\n",
    "\n",
    "#### Before you think of your own solution, don't read the instructions that come next."
   ]
  },
  {
   "cell_type": "code",
   "execution_count": 44,
   "metadata": {},
   "outputs": [
    {
     "data": {
      "text/plain": [
       "Apache                                                                                                                                                                         385\n",
       "nginx                                                                                                                                                                          211\n",
       "None                                                                                                                                                                           175\n",
       "Microsoft-HTTPAPI/2.0                                                                                                                                                          113\n",
       "cloudflare-nginx                                                                                                                                                                94\n",
       "Microsoft-IIS/7.5                                                                                                                                                               51\n",
       "GSE                                                                                                                                                                             49\n",
       "Server                                                                                                                                                                          49\n",
       "YouTubeFrontEnd                                                                                                                                                                 42\n",
       "nginx/1.12.0                                                                                                                                                                    36\n",
       "ATS                                                                                                                                                                             30\n",
       "Apache/2.2.15 (CentOS)                                                                                                                                                          25\n",
       "Apache-Coyote/1.1                                                                                                                                                               20\n",
       "Microsoft-IIS/8.5                                                                                                                                                               15\n",
       "Apache/2                                                                                                                                                                        15\n",
       "Microsoft-IIS/6.0                                                                                                                                                               14\n",
       "Apache/2.4.7 (Ubuntu)                                                                                                                                                           13\n",
       "Apache/2.2.14 (FreeBSD) mod_ssl/2.2.14 OpenSSL/0.9.8y DAV/2 PHP/5.2.12 with Suhosin-Patch                                                                                       13\n",
       "Apache/2.2.15 (Red Hat)                                                                                                                                                         12\n",
       "Apache/2.2.22 (Debian)                                                                                                                                                          12\n",
       "nginx/1.4.6 (Ubuntu)                                                                                                                                                             9\n",
       "nginx/1.8.1                                                                                                                                                                      9\n",
       "nginx/1.10.1                                                                                                                                                                     8\n",
       "nginx/1.8.0                                                                                                                                                                      8\n",
       "Apache/2.4.25 (Amazon) OpenSSL/1.0.1k-fips                                                                                                                                       7\n",
       "Varnish                                                                                                                                                                          7\n",
       "Apache/2.4.25                                                                                                                                                                    6\n",
       "nginx/1.6.2                                                                                                                                                                      6\n",
       "LiteSpeed                                                                                                                                                                        6\n",
       "Apache/2.2.31 (Amazon)                                                                                                                                                           6\n",
       "Apache/2.2.22                                                                                                                                                                    5\n",
       "nginx/1.10.3                                                                                                                                                                     5\n",
       "Apache/2.4.23 (Unix) OpenSSL/1.0.1e-fips mod_bwlimited/1.4                                                                                                                       5\n",
       "nginx/1.2.1                                                                                                                                                                      5\n",
       "nginx/1.10.1 + Phusion Passenger 5.0.30                                                                                                                                          5\n",
       "nginx/1.1.19                                                                                                                                                                     5\n",
       "Apache/2.4.18 (Ubuntu)                                                                                                                                                           4\n",
       "openresty                                                                                                                                                                        4\n",
       "AmazonS3                                                                                                                                                                         4\n",
       "nginx/1.11.10                                                                                                                                                                    4\n",
       "Jetty(9.0.z-SNAPSHOT)                                                                                                                                                            4\n",
       "Apache/2.4.6 (CentOS) OpenSSL/1.0.1e-fips PHP/5.5.38                                                                                                                             4\n",
       "Apache/2.0.52 (Red Hat)                                                                                                                                                          4\n",
       "Apache/2.2.29 (Unix) mod_ssl/2.2.29 OpenSSL/1.0.1e-fips mod_bwlimited/1.4                                                                                                        4\n",
       "Apache/2.2.32                                                                                                                                                                    4\n",
       "nginx + Phusion Passenger                                                                                                                                                        4\n",
       "mw2239.codfw.wmnet                                                                                                                                                               4\n",
       "ebay server                                                                                                                                                                      4\n",
       "mw2165.codfw.wmnet                                                                                                                                                               4\n",
       "Pizza/pepperoni                                                                                                                                                                  3\n",
       "mw2228.codfw.wmnet                                                                                                                                                               3\n",
       "nginx/1.11.3                                                                                                                                                                     3\n",
       "Microsoft-IIS/7.0                                                                                                                                                                3\n",
       "Apache/2.4                                                                                                                                                                       3\n",
       "Apache/2.2.22 (Ubuntu)                                                                                                                                                           3\n",
       "DOSarrest                                                                                                                                                                        3\n",
       "Apache/2.2.31 (CentOS)                                                                                                                                                           3\n",
       "openresty/1.11.2.1                                                                                                                                                               3\n",
       "Apache/2.2.15 (CentOS) DAV/2 mod_ssl/2.2.15 OpenSSL/1.0.1e-fips PHP/5.3.3                                                                                                        3\n",
       "Apache/2.2.27 (CentOS)                                                                                                                                                           3\n",
       "Apache/2.4.6 (CentOS)                                                                                                                                                            3\n",
       "Apache/2.2.3 (CentOS)                                                                                                                                                            3\n",
       "Apache/2.2.13 (Unix) mod_ssl/2.2.13 OpenSSL/0.9.8e-fips-rhel5 mod_auth_passthrough/2.1 mod_bwlimited/1.4 PHP/5.2.10                                                              2\n",
       "Oracle-iPlanet-Web-Server/7.0                                                                                                                                                    2\n",
       "ATS/5.3.0                                                                                                                                                                        2\n",
       "mw2164.codfw.wmnet                                                                                                                                                               2\n",
       "AkamaiGHost                                                                                                                                                                      2\n",
       "Apache/2.2.29 (Unix) mod_ssl/2.2.29 OpenSSL/1.0.1e-fips mod_bwlimited/1.4 PHP/5.4.35                                                                                             2\n",
       "Roxen/5.4.98-r2                                                                                                                                                                  2\n",
       "mw2175.codfw.wmnet                                                                                                                                                               2\n",
       "Apache/2.4.6 (CentOS) OpenSSL/1.0.1e-fips PHP/5.4.16                                                                                                                             2\n",
       "nginx/1.6.3 + Phusion Passenger                                                                                                                                                  2\n",
       "mw2242.codfw.wmnet                                                                                                                                                               2\n",
       "Apache/2.4.12 (Unix) OpenSSL/1.0.1e-fips mod_bwlimited/1.4                                                                                                                       2\n",
       "nginx/1.9.13                                                                                                                                                                     2\n",
       "DMS/1.0.42                                                                                                                                                                       2\n",
       "nginx/1.11.2                                                                                                                                                                     2\n",
       "Apache/2.2.29 (Amazon)                                                                                                                                                           2\n",
       "mw2101.codfw.wmnet                                                                                                                                                               2\n",
       "mw2230.codfw.wmnet                                                                                                                                                               2\n",
       "Apache/2.4.10 (Debian)                                                                                                                                                           2\n",
       "Squeegit/1.2.5 (3_sir)                                                                                                                                                           2\n",
       "Apache/2.4.25 (cPanel) OpenSSL/1.0.1e-fips mod_bwlimited/1.4                                                                                                                     2\n",
       "Apache/2.2.31 (Unix) mod_ssl/2.2.31 OpenSSL/1.0.1e-fips mod_bwlimited/1.4 mod_fcgid/2.3.9                                                                                        2\n",
       "tsa_c                                                                                                                                                                            2\n",
       "Apache/2.2.26 (Unix) mod_ssl/2.2.26 OpenSSL/0.9.8e-fips-rhel5 mod_bwlimited/1.4 PHP/5.4.26                                                                                       2\n",
       "squid/3.3.8                                                                                                                                                                      2\n",
       "HTTPDaemon                                                                                                                                                                       2\n",
       "nginx/1.13.0                                                                                                                                                                     2\n",
       "mw2255.codfw.wmnet                                                                                                                                                               2\n",
       "nginx/1.10.0                                                                                                                                                                     2\n",
       "Pepyaka/1.11.3                                                                                                                                                                   2\n",
       "mw2224.codfw.wmnet                                                                                                                                                               2\n",
       "mw2192.codfw.wmnet                                                                                                                                                               2\n",
       "Apache/2.4.6                                                                                                                                                                     2\n",
       "Pagely Gateway/1.5.1                                                                                                                                                             2\n",
       "Sucuri/Cloudproxy                                                                                                                                                                2\n",
       "Aeria Games & Entertainment                                                                                                                                                      1\n",
       "openresty/1.11.2.2                                                                                                                                                               1\n",
       "mw2238.codfw.wmnet                                                                                                                                                               1\n",
       "nginx/0.8.55                                                                                                                                                                     1\n",
       "Apache/2.2.10 (Linux/SUSE)                                                                                                                                                       1\n",
       "IdeaWebServer/v0.80                                                                                                                                                              1\n",
       "Apache/2.4.18 (Unix) OpenSSL/0.9.8e-fips-rhel5 mod_bwlimited/1.4                                                                                                                 1\n",
       "Apache/2.4.6 (Unix) mod_jk/1.2.37 PHP/5.5.1 OpenSSL/1.0.1g mod_fcgid/2.3.9                                                                                                       1\n",
       "PWS/8.2.0.7                                                                                                                                                                      1\n",
       "Apache/2.4.6 (Red Hat Enterprise Linux) OpenSSL/1.0.1e-fips mod_fcgid/2.3.9 Communique/4.2.0                                                                                     1\n",
       "Apache/2.2.29 (Unix) mod_ssl/2.2.29 OpenSSL/1.0.1e-fips DAV/2 mod_bwlimited/1.4                                                                                                  1\n",
       "mw2185.codfw.wmnet                                                                                                                                                               1\n",
       "Apache/1.3.37 (Unix) mod_perl/1.29 mod_ssl/2.8.28 OpenSSL/0.9.7e-p1                                                                                                              1\n",
       "mw2176.codfw.wmnet                                                                                                                                                               1\n",
       "Apache/2.2.20 (Unix)                                                                                                                                                             1\n",
       "mw2182.codfw.wmnet                                                                                                                                                               1\n",
       "nginx/1.10.0 (Ubuntu)                                                                                                                                                            1\n",
       "Apache/2.4.6 (Unix) mod_jk/1.2.37                                                                                                                                                1\n",
       "mw2109.codfw.wmnet                                                                                                                                                               1\n",
       "Apache/2.2.23 (Amazon)                                                                                                                                                           1\n",
       "lighttpd                                                                                                                                                                         1\n",
       "mw2241.codfw.wmnet                                                                                                                                                               1\n",
       "barista/5.1.3                                                                                                                                                                    1\n",
       "Apache/2.2.25 (Unix) mod_ssl/2.2.25 OpenSSL/0.9.8e-fips-rhel5 mod_bwlimited/1.4                                                                                                  1\n",
       "mw2199.codfw.wmnet                                                                                                                                                               1\n",
       "Apache/1.3.34 (Unix) PHP/4.4.4                                                                                                                                                   1\n",
       "294                                                                                                                                                                              1\n",
       "mw2172.codfw.wmnet                                                                                                                                                               1\n",
       "Apache/2.4.10 (Debian) PHP/5.6.30-0+deb8u1 mod_perl/2.0.9dev Perl/v5.20.2                                                                                                        1\n",
       "mw2257.codfw.wmnet                                                                                                                                                               1\n",
       "lighttpd/1.4.28                                                                                                                                                                  1\n",
       "nginx/1.7.4                                                                                                                                                                      1\n",
       "nginx/1.2.6                                                                                                                                                                      1\n",
       "mw2114.codfw.wmnet                                                                                                                                                               1\n",
       "Yippee-Ki-Yay                                                                                                                                                                    1\n",
       "mw2187.codfw.wmnet                                                                                                                                                               1\n",
       "gunicorn/19.7.1                                                                                                                                                                  1\n",
       "Apache/2.4.23 (Unix)                                                                                                                                                             1\n",
       "Application-Server                                                                                                                                                               1\n",
       "nginx/0.7.65                                                                                                                                                                     1\n",
       "marrakesh 1.12.2                                                                                                                                                                 1\n",
       "Apache/2.2.16 (Unix) mod_ssl/2.2.16 OpenSSL/0.9.8e-fips-rhel5 mod_auth_passthrough/2.1 mod_bwlimited/1.4                                                                         1\n",
       "Apache/1.3.31 (Unix) PHP/4.3.9 mod_perl/1.29 rus/PL30.20                                                                                                                         1\n",
       "Apache/2.2.14 (Unix) mod_ssl/2.2.14 OpenSSL/0.9.8e-fips-rhel5                                                                                                                    1\n",
       "Sun-ONE-Web-Server/6.1                                                                                                                                                           1\n",
       "nginx/0.8.54                                                                                                                                                                     1\n",
       "Apache/1.3.27 (Unix) PHP/4.4.1                                                                                                                                                   1\n",
       "MI                                                                                                                                                                               1\n",
       "Heptu web server                                                                                                                                                                 1\n",
       "Apache/2.4.10 (Ubuntu)                                                                                                                                                           1\n",
       "nginx/0.8.38                                                                                                                                                                     1\n",
       "Apache/2.4.25 (Debian)                                                                                                                                                           1\n",
       "Apache/1.3.42 Ben-SSL/1.60 (Unix) mod_gzip/1.3.26.1a mod_fastcgi/2.4.6 mod_throttle/3.1.2 Chili!Soft-ASP/3.6.2 FrontPage/5.0.2.2635 mod_perl/1.31 PHP/4.4.9                      1\n",
       "mw2104.codfw.wmnet                                                                                                                                                               1\n",
       "Apache/2.4.25 (Unix) OpenSSL/1.0.1e-fips mod_bwlimited/1.4                                                                                                                       1\n",
       "mw2231.codfw.wmnet                                                                                                                                                               1\n",
       "Apache/2.4.6 (CentOS) OpenSSL/1.0.1e-fips PHP/7.0.14                                                                                                                             1\n",
       "Apache/2.0.63 (Unix) mod_ssl/2.0.63 OpenSSL/0.9.8e-fips-rhel5 mod_auth_passthrough/2.1 mod_bwlimited/1.4 PHP/5.3.6                                                               1\n",
       "nginx/1.4.4                                                                                                                                                                      1\n",
       "Apache/2.4.6 (CentOS) OpenSSL/1.0.1e-fips                                                                                                                                        1\n",
       "mw2106.codfw.wmnet                                                                                                                                                               1\n",
       "nginx/1.10.2                                                                                                                                                                     1\n",
       "mw2113.codfw.wmnet                                                                                                                                                               1\n",
       "Apache/2.4.6 (CentOS) OpenSSL/1.0.1e-fips PHP/5.4.16 mod_apreq2-20090110/2.8.0 mod_perl/2.0.10 Perl/v5.24.1                                                                      1\n",
       "Apache/2.2.31 (Unix) mod_ssl/2.2.31 OpenSSL/1.0.1e-fips mod_bwlimited/1.4                                                                                                        1\n",
       "mw2190.codfw.wmnet                                                                                                                                                               1\n",
       "nginx/1.7.12                                                                                                                                                                     1\n",
       "Scratch Web Server                                                                                                                                                               1\n",
       "SSWS                                                                                                                                                                             1\n",
       "nginx/1.4.3                                                                                                                                                                      1\n",
       "Play                                                                                                                                                                             1\n",
       "mw2097.codfw.wmnet                                                                                                                                                               1\n",
       "mw2197.codfw.wmnet                                                                                                                                                               1\n",
       "Apache/2.4.6 (CentOS) OpenSSL/1.0.1e-fips mod_fcgid/2.3.9 PHP/5.4.16 mod_jk/1.2.40                                                                                               1\n",
       "Apache/2.2.16 (Debian)                                                                                                                                                           1\n",
       "Apache/2.4.25 (FreeBSD) OpenSSL/1.0.1s-freebsd PHP/5.6.30                                                                                                                        1\n",
       "Apache/2.2.31 (FreeBSD) PHP/5.4.15 mod_ssl/2.2.31 OpenSSL/1.0.2d DAV/2                                                                                                           1\n",
       "nginx/0.8.35                                                                                                                                                                     1\n",
       "Apache/2.2.27 (Unix) OpenAM Web Agent/4.0.1-1 mod_ssl/2.2.27 OpenSSL/1.0.1p PHP/5.3.28                                                                                           1\n",
       "mw2107.codfw.wmnet                                                                                                                                                               1\n",
       "ECD (fll/0790)                                                                                                                                                                   1\n",
       "Microsoft-IIS/7.5; litigation_essentials.lexisnexis.com  9999                                                                                                                    1\n",
       "mw2226.codfw.wmnet                                                                                                                                                               1\n",
       "Resin/3.1.8                                                                                                                                                                      1\n",
       "mw2180.codfw.wmnet                                                                                                                                                               1\n",
       "Apache/2.4.12 (Ubuntu)                                                                                                                                                           1\n",
       "mw2110.codfw.wmnet                                                                                                                                                               1\n",
       "www.lexisnexis.com  9999                                                                                                                                                         1\n",
       "Apache/2.4.6 (CentOS) PHP/5.6.8                                                                                                                                                  1\n",
       "Apache/2.4.6 (CentOS) mod_fcgid/2.3.9 PHP/5.6.30                                                                                                                                 1\n",
       "Apache/2.2.3 (Red Hat)                                                                                                                                                           1\n",
       "Boston.com Frontend                                                                                                                                                              1\n",
       "mw2173.codfw.wmnet                                                                                                                                                               1\n",
       "Apache/2.2.0 (Fedora)                                                                                                                                                            1\n",
       "mw2240.codfw.wmnet                                                                                                                                                               1\n",
       "Apache/2.2.21 (Unix) mod_ssl/2.2.21 OpenSSL/0.9.8e-fips-rhel5 PHP/5.3.10                                                                                                         1\n",
       "KHL                                                                                                                                                                              1\n",
       "mw2198.codfw.wmnet                                                                                                                                                               1\n",
       "nginx/1.6.3                                                                                                                                                                      1\n",
       "Apache/2.4.23 (Unix) OpenSSL/0.9.8e-fips-rhel5 mod_bwlimited/1.4                                                                                                                 1\n",
       "Virtuoso/07.20.3217 (Linux) i686-generic-linux-glibc212-64  VDB                                                                                                                  1\n",
       "Apache/2.2.14 (Unix) mod_ssl/2.2.14 OpenSSL/0.9.8a                                                                                                                               1\n",
       "mw2177.codfw.wmnet                                                                                                                                                               1\n",
       "Apache/2.4.17 (Unix) OpenSSL/1.0.1e-fips PHP/5.6.19                                                                                                                              1\n",
       "Apache/2.2.14 (Ubuntu)                                                                                                                                                           1\n",
       "Apache/1.3.39 (Unix) PHP/5.2.5 mod_auth_passthrough/1.8 mod_bwlimited/1.4 mod_log_bytes/1.2 mod_gzip/1.3.26.1a FrontPage/5.0.2.2635 DAV/1.0.3 mod_ssl/2.8.30 OpenSSL/0.9.7a      1\n",
       "Microsoft-IIS/8.0                                                                                                                                                                1\n",
       "Apache/2.2.24 (Unix) DAV/2 PHP/5.3.26 mod_ssl/2.2.24 OpenSSL/0.9.8y                                                                                                              1\n",
       "Cowboy                                                                                                                                                                           1\n",
       "Apache/1.3.33 (Unix) mod_ssl/2.8.24 OpenSSL/0.9.7e-p1 PHP/4.4.8                                                                                                                  1\n",
       "mw2232.codfw.wmnet                                                                                                                                                               1\n",
       "Apache/2.4.10                                                                                                                                                                    1\n",
       "Apache/2.2.26 (Unix) mod_ssl/2.2.26 OpenSSL/1.0.1e-fips DAV/2 mod_bwlimited/1.4                                                                                                  1\n",
       "Apache/1.3.27 (Unix)  (Red-Hat/Linux) mod_perl/1.26 PHP/4.3.3 FrontPage/5.0.2 mod_ssl/2.8.12 OpenSSL/0.9.6b                                                                      1\n",
       "mw2178.codfw.wmnet                                                                                                                                                               1\n",
       "mw2171.codfw.wmnet                                                                                                                                                               1\n",
       "XXXXXXXXXXXXXXXXXXXXXX                                                                                                                                                           1\n",
       "Tengine                                                                                                                                                                          1\n",
       "fbs                                                                                                                                                                              1\n",
       "My Arse                                                                                                                                                                          1\n",
       "nxfps                                                                                                                                                                            1\n",
       "mw2260.codfw.wmnet                                                                                                                                                               1\n",
       "Zope/(2.13.16; python 2.6.8; linux2) ZServer/1.1                                                                                                                                 1\n",
       "Apache/2.2.22 (Debian) mod_python/3.3.1 Python/2.7.3 mod_ssl/2.2.22 OpenSSL/1.0.1t                                                                                               1\n",
       "Apache/2.2.11 (Unix) PHP/5.2.6                                                                                                                                                   1\n",
       "mw2225.codfw.wmnet                                                                                                                                                               1\n",
       "Apache/2.4.16 (Ubuntu)                                                                                                                                                           1\n",
       "MediaFire                                                                                                                                                                        1\n",
       "DPS/1.1.8                                                                                                                                                                        1\n",
       "mw2233.codfw.wmnet                                                                                                                                                               1\n",
       "Apache/Not telling (Unix) AuthTDS/1.1                                                                                                                                            1\n",
       "Nginx (OpenBSD)                                                                                                                                                                  1\n",
       "Apache/2.4.10 (Unix) OpenSSL/1.0.1k                                                                                                                                              1\n",
       "CherryPy/3.6.0                                                                                                                                                                   1\n",
       "Apache/2.2.31 (Unix) mod_ssl/2.2.31 OpenSSL/1.0.1e-fips mod_bwlimited/1.4 mod_perl/2.0.8 Perl/v5.10.1                                                                            1\n",
       "Apache/2.4.18 (Unix) OpenSSL/1.0.2e Communique/4.1.10                                                                                                                            1\n",
       ".V01 Apache                                                                                                                                                                      1\n",
       "Proxy Pandeiro UOL                                                                                                                                                               1\n",
       "mw2236.codfw.wmnet                                                                                                                                                               1\n",
       "mw2103.codfw.wmnet                                                                                                                                                               1\n",
       "Apache/2.2.31 (Unix) mod_ssl/2.2.31 OpenSSL/0.9.8e-fips-rhel5 mod_bwlimited/1.4                                                                                                  1\n",
       "Apache/2.4.25 (Amazon) PHP/7.0.14                                                                                                                                                1\n",
       "Name: SERVER, dtype: int64"
      ]
     },
     "execution_count": 44,
     "metadata": {},
     "output_type": "execute_result"
    }
   ],
   "source": [
    "# Your code here\n",
    "websites_clean.SERVER.value_counts()"
   ]
  },
  {
   "cell_type": "markdown",
   "metadata": {},
   "source": [
    "![Think Hard](../images/think-hard.jpg)"
   ]
  },
  {
   "cell_type": "markdown",
   "metadata": {},
   "source": [
    "<font color='blue'>I think we can extract the main name of the server and do not take into account the detailed info. <br>\n",
    "For instance in 'Apache/2.4.25 (Amazon) OpenSSL/1.0.1k-fips ' just keep the 'Apache'.\n",
    "</font>"
   ]
  },
  {
   "cell_type": "markdown",
   "metadata": {},
   "source": [
    "Although there are so many unique values in the `SERVER` column, there are actually only 3 main server types: `Microsoft`, `Apache`, and `nginx`. Just check if each `SERVER` value contains any of those server types and re-label them. For `SERVER` values that don't contain any of those substrings, label with `Other`.\n",
    "\n",
    "At the end, your `SERVER` column should only contain 4 unique values: `Microsoft`, `Apache`, `nginx`, and `Other`."
   ]
  },
  {
   "cell_type": "code",
   "execution_count": 45,
   "metadata": {},
   "outputs": [],
   "source": [
    "def replace_server(x):\n",
    "    if 'Microsoft' in x:\n",
    "        x = 'Microsoft'\n",
    "    elif 'Apache' in x:\n",
    "        x = 'Apache'           \n",
    "    elif 'nginx' in x:\n",
    "        x = 'nginx'      \n",
    "    else:\n",
    "        x = 'Other'\n",
    "    return x"
   ]
  },
  {
   "cell_type": "code",
   "execution_count": 46,
   "metadata": {},
   "outputs": [],
   "source": [
    "# Your code here\n",
    "websites_clean.SERVER = websites_clean.SERVER.apply(lambda x: replace_server(x))"
   ]
  },
  {
   "cell_type": "code",
   "execution_count": 47,
   "metadata": {
    "scrolled": false
   },
   "outputs": [
    {
     "data": {
      "text/plain": [
       "Apache       642\n",
       "Other        504\n",
       "nginx        435\n",
       "Microsoft    198\n",
       "Name: SERVER, dtype: int64"
      ]
     },
     "execution_count": 47,
     "metadata": {},
     "output_type": "execute_result"
    }
   ],
   "source": [
    "# Count `SERVER` value counts here\n",
    "websites_clean.SERVER.value_counts()"
   ]
  },
  {
   "cell_type": "markdown",
   "metadata": {},
   "source": [
    "OK, all our categorical data are fixed now. **Let's convert them to ordinal data using Pandas' `get_dummies` function ([documentation](https://pandas.pydata.org/pandas-docs/stable/generated/pandas.get_dummies.html)).** Make sure you drop the categorical columns by passing `drop_first=True` to `get_dummies` as we don't need them any more. **Also, assign the data with dummy values to a new variable `website_dummy`.**"
   ]
  },
  {
   "cell_type": "code",
   "execution_count": 48,
   "metadata": {},
   "outputs": [],
   "source": [
    "# Your code here\n",
    "website_dummy = pd.get_dummies(websites_clean, drop_first=True)"
   ]
  },
  {
   "cell_type": "markdown",
   "metadata": {},
   "source": [
    "Now, inspect `website_dummy` to make sure the data and types are intended - there shouldn't be any categorical columns at this point."
   ]
  },
  {
   "cell_type": "code",
   "execution_count": 49,
   "metadata": {},
   "outputs": [
    {
     "data": {
      "text/plain": [
       "URL_LENGTH                     int64\n",
       "TCP_CONVERSATION_EXCHANGE      int64\n",
       "DIST_REMOTE_TCP_PORT           int64\n",
       "REMOTE_IPS                     int64\n",
       "APP_BYTES                      int64\n",
       "SOURCE_APP_BYTES               int64\n",
       "DNS_QUERY_TIMES              float64\n",
       "Type                           int64\n",
       "CHARSET_ISO-8859-1             uint8\n",
       "CHARSET_None                   uint8\n",
       "CHARSET_UTF-8                  uint8\n",
       "CHARSET_iso-8859-1             uint8\n",
       "CHARSET_us-ascii               uint8\n",
       "CHARSET_utf-8                  uint8\n",
       "CHARSET_windows-1251           uint8\n",
       "CHARSET_windows-1252           uint8\n",
       "SERVER_Microsoft               uint8\n",
       "SERVER_Other                   uint8\n",
       "SERVER_nginx                   uint8\n",
       "WHOIS_COUNTRY_CA               uint8\n",
       "WHOIS_COUNTRY_CN               uint8\n",
       "WHOIS_COUNTRY_ES               uint8\n",
       "WHOIS_COUNTRY_GB               uint8\n",
       "WHOIS_COUNTRY_IN               uint8\n",
       "WHOIS_COUNTRY_JP               uint8\n",
       "WHOIS_COUNTRY_OTHER            uint8\n",
       "WHOIS_COUNTRY_PA               uint8\n",
       "WHOIS_COUNTRY_UK               uint8\n",
       "WHOIS_COUNTRY_US               uint8\n",
       "dtype: object"
      ]
     },
     "execution_count": 49,
     "metadata": {},
     "output_type": "execute_result"
    }
   ],
   "source": [
    "# Your code here\n",
    "website_dummy.dtypes"
   ]
  },
  {
   "cell_type": "markdown",
   "metadata": {},
   "source": [
    "# Challenge 6 - Modeling, Prediction, and Evaluation\n",
    "\n",
    "We'll start off this section by splitting the data to train and test. **Name your 4 variables `X_train`, `X_test`, `y_train`, and `y_test`. Select 80% of the data for training and 20% for testing.**"
   ]
  },
  {
   "cell_type": "code",
   "execution_count": 50,
   "metadata": {},
   "outputs": [
    {
     "data": {
      "text/plain": [
       "Index(['URL_LENGTH', 'TCP_CONVERSATION_EXCHANGE', 'DIST_REMOTE_TCP_PORT',\n",
       "       'REMOTE_IPS', 'APP_BYTES', 'SOURCE_APP_BYTES', 'DNS_QUERY_TIMES',\n",
       "       'Type', 'CHARSET_ISO-8859-1', 'CHARSET_None', 'CHARSET_UTF-8',\n",
       "       'CHARSET_iso-8859-1', 'CHARSET_us-ascii', 'CHARSET_utf-8',\n",
       "       'CHARSET_windows-1251', 'CHARSET_windows-1252', 'SERVER_Microsoft',\n",
       "       'SERVER_Other', 'SERVER_nginx', 'WHOIS_COUNTRY_CA', 'WHOIS_COUNTRY_CN',\n",
       "       'WHOIS_COUNTRY_ES', 'WHOIS_COUNTRY_GB', 'WHOIS_COUNTRY_IN',\n",
       "       'WHOIS_COUNTRY_JP', 'WHOIS_COUNTRY_OTHER', 'WHOIS_COUNTRY_PA',\n",
       "       'WHOIS_COUNTRY_UK', 'WHOIS_COUNTRY_US'],\n",
       "      dtype='object')"
      ]
     },
     "execution_count": 50,
     "metadata": {},
     "output_type": "execute_result"
    }
   ],
   "source": [
    "website_dummy.columns"
   ]
  },
  {
   "cell_type": "code",
   "execution_count": 51,
   "metadata": {},
   "outputs": [],
   "source": [
    "website_dummy_x = website_dummy[['URL_LENGTH', 'TCP_CONVERSATION_EXCHANGE', 'DIST_REMOTE_TCP_PORT',\n",
    "       'REMOTE_IPS', 'APP_BYTES', 'SOURCE_APP_BYTES', 'DNS_QUERY_TIMES',\n",
    "       'CHARSET_ISO-8859-1', 'CHARSET_None', 'CHARSET_UTF-8',\n",
    "       'CHARSET_iso-8859-1', 'CHARSET_us-ascii', 'CHARSET_utf-8',\n",
    "       'CHARSET_windows-1251', 'CHARSET_windows-1252', 'SERVER_Microsoft',\n",
    "       'SERVER_Other', 'SERVER_nginx', 'WHOIS_COUNTRY_CA', 'WHOIS_COUNTRY_CN',\n",
    "       'WHOIS_COUNTRY_ES', 'WHOIS_COUNTRY_GB', 'WHOIS_COUNTRY_IN',\n",
    "       'WHOIS_COUNTRY_JP', 'WHOIS_COUNTRY_OTHER', 'WHOIS_COUNTRY_PA',\n",
    "       'WHOIS_COUNTRY_UK', 'WHOIS_COUNTRY_US']]\n",
    "website_dummy_y = website_dummy['Type']"
   ]
  },
  {
   "cell_type": "code",
   "execution_count": 52,
   "metadata": {},
   "outputs": [],
   "source": [
    "from sklearn.model_selection import train_test_split\n",
    "# Your code here:\n",
    "X_train, X_test, y_train, y_test = train_test_split(website_dummy_x, website_dummy_y.values, test_size=0.2)"
   ]
  },
  {
   "cell_type": "markdown",
   "metadata": {},
   "source": [
    "#### In this lab, we will try two different models and compare our results.\n",
    "\n",
    "The first model we will use in this lab is logistic regression. We have previously learned about logistic regression as a classification algorithm. In the cell below, load `LogisticRegression` from scikit-learn and initialize the model."
   ]
  },
  {
   "cell_type": "code",
   "execution_count": 53,
   "metadata": {},
   "outputs": [],
   "source": [
    "# Your code here:\n",
    "from sklearn.linear_model import LogisticRegression\n"
   ]
  },
  {
   "cell_type": "markdown",
   "metadata": {},
   "source": [
    "Next, fit the model to our training data. We have already separated our data into 4 parts. Use those in your model."
   ]
  },
  {
   "cell_type": "code",
   "execution_count": 54,
   "metadata": {},
   "outputs": [],
   "source": [
    "# Your code here:\n",
    "y_train=y_train.reshape(len(y_train),)\n",
    "\n",
    "ks_model = LogisticRegression(solver='lbfgs', max_iter=200).fit(X_train, y_train)\n"
   ]
  },
  {
   "cell_type": "markdown",
   "metadata": {},
   "source": [
    "finally, import `confusion_matrix` and `accuracy_score` from `sklearn.metrics` and fit our testing data. Assign the fitted data to `y_pred` and print the confusion matrix as well as the accuracy score"
   ]
  },
  {
   "cell_type": "code",
   "execution_count": 55,
   "metadata": {},
   "outputs": [
    {
     "data": {
      "text/plain": [
       "array([[300,   7],\n",
       "       [ 24,  25]])"
      ]
     },
     "execution_count": 55,
     "metadata": {},
     "output_type": "execute_result"
    }
   ],
   "source": [
    "# Your code here:\n",
    "from sklearn.metrics import confusion_matrix\n",
    "from sklearn.metrics import accuracy_score, confusion_matrix, f1_score, classification_report\n",
    "\n",
    "y_pred_test = ks_model.predict(X_test)\n",
    "confusion_matrix(y_test, y_pred_test)"
   ]
  },
  {
   "cell_type": "code",
   "execution_count": 56,
   "metadata": {},
   "outputs": [
    {
     "data": {
      "text/plain": [
       "0.9129213483146067"
      ]
     },
     "execution_count": 56,
     "metadata": {},
     "output_type": "execute_result"
    }
   ],
   "source": [
    "accuracy_score(y_test, y_pred_test)"
   ]
  },
  {
   "cell_type": "code",
   "execution_count": 57,
   "metadata": {},
   "outputs": [
    {
     "data": {
      "text/plain": [
       "0.617283950617284"
      ]
     },
     "execution_count": 57,
     "metadata": {},
     "output_type": "execute_result"
    }
   ],
   "source": [
    "f1_score(y_test, y_pred_test)"
   ]
  },
  {
   "cell_type": "code",
   "execution_count": 58,
   "metadata": {},
   "outputs": [
    {
     "name": "stdout",
     "output_type": "stream",
     "text": [
      "              precision    recall  f1-score   support\n",
      "\n",
      "           0       0.93      0.98      0.95       307\n",
      "           1       0.78      0.51      0.62        49\n",
      "\n",
      "    accuracy                           0.91       356\n",
      "   macro avg       0.85      0.74      0.78       356\n",
      "weighted avg       0.91      0.91      0.90       356\n",
      "\n"
     ]
    }
   ],
   "source": [
    "print(classification_report(y_test, y_pred_test))"
   ]
  },
  {
   "cell_type": "markdown",
   "metadata": {},
   "source": [
    "What are your thoughts on the performance of the model? Write your conclusions below."
   ]
  },
  {
   "cell_type": "code",
   "execution_count": 59,
   "metadata": {},
   "outputs": [
    {
     "data": {
      "text/plain": [
       "[<matplotlib.lines.Line2D at 0x127cdee10>]"
      ]
     },
     "execution_count": 59,
     "metadata": {},
     "output_type": "execute_result"
    },
    {
     "data": {
      "image/png": "[encoded data removed]",
      "text/plain": [
       "<Figure size 432x288 with 1 Axes>"
      ]
     },
     "metadata": {
      "needs_background": "light"
     },
     "output_type": "display_data"
    }
   ],
   "source": [
    "import warnings\n",
    "warnings.filterwarnings(\"ignore\", category=RuntimeWarning) \n",
    "\n",
    "from sklearn import metrics\n",
    "\n",
    "#Consider a binary classification for labels 0 and 1.\n",
    "\n",
    "#Predict will give either 0 or 1 as output\n",
    "#Predict_proba will give the only probability of 1.\n",
    "\n",
    "y_pred_proba = ks_model.predict_proba(X_test)[::,1]\n",
    "fpr, tpr, _ = metrics.roc_curve(y_test,  y_pred_proba)\n",
    "auc = metrics.roc_auc_score(y_test, y_pred_proba)\n",
    "\n",
    "plt.plot(fpr,tpr)"
   ]
  },
  {
   "cell_type": "code",
   "execution_count": 60,
   "metadata": {},
   "outputs": [
    {
     "data": {
      "text/plain": [
       "0.8985574685900418"
      ]
     },
     "execution_count": 60,
     "metadata": {},
     "output_type": "execute_result"
    }
   ],
   "source": [
    "auc"
   ]
  },
  {
   "cell_type": "markdown",
   "metadata": {},
   "source": [
    "<font color='blue'>**CONCLUSION:**<br></font>\n",
    "<font color='blue'>\n",
    "* The first impression with the accuracy test is that the model is quite good (0,918).<br>\n",
    "* But lloking at the f1 score we see there is something that do sum up.<br>\n",
    "* If we take a look at the classification repport, we can see that the model predicts quite well a 0, when the website is not malicious. But is not as good predicting if the web is malicious (0.58).<br>\n",
    "* In conclusion, the model is not usefull as the inent of the prediction is to know wether or not a wesite is malicious.\n",
    "</font>"
   ]
  },
  {
   "cell_type": "markdown",
   "metadata": {},
   "source": [
    "#### Our second algorithm is is K-Nearest Neighbors. \n",
    "\n",
    "Though is it not required, we will fit a model using the training data and then test the performance of the model using the testing data. Start by loading `KNeighborsClassifier` from scikit-learn and then initializing and fitting the model. We'll start off with a model where k=3."
   ]
  },
  {
   "cell_type": "code",
   "execution_count": 61,
   "metadata": {},
   "outputs": [
    {
     "data": {
      "text/plain": [
       "KNeighborsClassifier(algorithm='auto', leaf_size=30, metric='minkowski',\n",
       "                     metric_params=None, n_jobs=None, n_neighbors=3, p=2,\n",
       "                     weights='uniform')"
      ]
     },
     "execution_count": 61,
     "metadata": {},
     "output_type": "execute_result"
    }
   ],
   "source": [
    "# Your code here:\n",
    "from sklearn.neighbors import KNeighborsClassifier\n",
    "kn_3 = KNeighborsClassifier(n_neighbors=3)\n",
    "kn_3.fit(X_train, y_train) "
   ]
  },
  {
   "cell_type": "markdown",
   "metadata": {},
   "source": [
    "To test your model, compute the predicted values for the testing sample and print the confusion matrix as well as the accuracy score."
   ]
  },
  {
   "cell_type": "code",
   "execution_count": 62,
   "metadata": {},
   "outputs": [],
   "source": [
    "# Your code here:\n",
    "y_pred_kn_3 = kn_3.predict(X_test)"
   ]
  },
  {
   "cell_type": "code",
   "execution_count": 63,
   "metadata": {},
   "outputs": [
    {
     "data": {
      "text/plain": [
       "0.9073033707865169"
      ]
     },
     "execution_count": 63,
     "metadata": {},
     "output_type": "execute_result"
    }
   ],
   "source": [
    "accuracy_score(y_test, y_pred_kn_3)"
   ]
  },
  {
   "cell_type": "code",
   "execution_count": 64,
   "metadata": {},
   "outputs": [
    {
     "data": {
      "text/plain": [
       "array([[287,  20],\n",
       "       [ 13,  36]])"
      ]
     },
     "execution_count": 64,
     "metadata": {},
     "output_type": "execute_result"
    }
   ],
   "source": [
    "confusion_matrix(y_test, y_pred_kn_3)"
   ]
  },
  {
   "cell_type": "code",
   "execution_count": 65,
   "metadata": {},
   "outputs": [
    {
     "data": {
      "text/plain": [
       "0.6857142857142857"
      ]
     },
     "execution_count": 65,
     "metadata": {},
     "output_type": "execute_result"
    }
   ],
   "source": [
    "f1_score(y_test, y_pred_kn_3)"
   ]
  },
  {
   "cell_type": "code",
   "execution_count": 66,
   "metadata": {},
   "outputs": [
    {
     "name": "stdout",
     "output_type": "stream",
     "text": [
      "              precision    recall  f1-score   support\n",
      "\n",
      "           0       0.96      0.93      0.95       307\n",
      "           1       0.64      0.73      0.69        49\n",
      "\n",
      "    accuracy                           0.91       356\n",
      "   macro avg       0.80      0.83      0.82       356\n",
      "weighted avg       0.91      0.91      0.91       356\n",
      "\n"
     ]
    }
   ],
   "source": [
    "print(classification_report(y_test, y_pred_kn_3))"
   ]
  },
  {
   "cell_type": "code",
   "execution_count": 67,
   "metadata": {},
   "outputs": [
    {
     "data": {
      "text/plain": [
       "[<matplotlib.lines.Line2D at 0x11085ce10>]"
      ]
     },
     "execution_count": 67,
     "metadata": {},
     "output_type": "execute_result"
    },
    {
     "data": {
      "image/png": "[encoded data removed]",
      "text/plain": [
       "<Figure size 432x288 with 1 Axes>"
      ]
     },
     "metadata": {
      "needs_background": "light"
     },
     "output_type": "display_data"
    }
   ],
   "source": [
    "import warnings\n",
    "warnings.filterwarnings(\"ignore\", category=RuntimeWarning) \n",
    "\n",
    "from sklearn import metrics\n",
    "\n",
    "#Consider a binary classification for labels 0 and 1.\n",
    "\n",
    "#Predict will give either 0 or 1 as output\n",
    "#Predict_proba will give the only probability of 1.\n",
    "\n",
    "y_pred_proba = kn_3.predict_proba(X_test)[::,1]\n",
    "fpr, tpr, _ = metrics.roc_curve(y_test,  y_pred_proba)\n",
    "auc_kn_3 = metrics.roc_auc_score(y_test, y_pred_proba)\n",
    "\n",
    "plt.plot(fpr,tpr)"
   ]
  },
  {
   "cell_type": "code",
   "execution_count": 68,
   "metadata": {},
   "outputs": [
    {
     "data": {
      "text/plain": [
       "0.8793126371069601"
      ]
     },
     "execution_count": 68,
     "metadata": {},
     "output_type": "execute_result"
    }
   ],
   "source": [
    "auc_kn_3"
   ]
  },
  {
   "cell_type": "markdown",
   "metadata": {},
   "source": [
    "<font color='blue'>**CONCLUSION:**<br></font>\n",
    "<font color='blue'>\n",
    "* The first impression with the accuracy test is that in this the model is slighly better that the LinearRegression (0,927).<br>\n",
    "* But looking at the f1 score we see is much better (0.7).<br>\n",
    "* With the classification repport, we can see that the model predicts quite well a 0 (0.96) and more decently the malicious ones (0.7)\n",
    "* The kneighbours is a better algorothm for this problem than the LinearRegression.\n",
    "</font>"
   ]
  },
  {
   "cell_type": "markdown",
   "metadata": {},
   "source": [
    "#### We'll create another K-Nearest Neighbors model with k=5. \n",
    "\n",
    "Initialize and fit the model below and print the confusion matrix and the accuracy score."
   ]
  },
  {
   "cell_type": "code",
   "execution_count": 69,
   "metadata": {},
   "outputs": [
    {
     "data": {
      "text/plain": [
       "KNeighborsClassifier(algorithm='auto', leaf_size=30, metric='minkowski',\n",
       "                     metric_params=None, n_jobs=None, n_neighbors=5, p=2,\n",
       "                     weights='uniform')"
      ]
     },
     "execution_count": 69,
     "metadata": {},
     "output_type": "execute_result"
    }
   ],
   "source": [
    "# Your code here:\n",
    "kn_5 = KNeighborsClassifier(n_neighbors=5)\n",
    "kn_5.fit(X_train, y_train) "
   ]
  },
  {
   "cell_type": "code",
   "execution_count": 70,
   "metadata": {},
   "outputs": [],
   "source": [
    "y_pred_kn_5 = kn_5.predict(X_test)"
   ]
  },
  {
   "cell_type": "code",
   "execution_count": 71,
   "metadata": {},
   "outputs": [
    {
     "data": {
      "text/plain": [
       "0.9353932584269663"
      ]
     },
     "execution_count": 71,
     "metadata": {},
     "output_type": "execute_result"
    }
   ],
   "source": [
    "accuracy_score(y_test, y_pred_kn_5)"
   ]
  },
  {
   "cell_type": "code",
   "execution_count": 72,
   "metadata": {},
   "outputs": [
    {
     "data": {
      "text/plain": [
       "array([[295,  12],\n",
       "       [ 11,  38]])"
      ]
     },
     "execution_count": 72,
     "metadata": {},
     "output_type": "execute_result"
    }
   ],
   "source": [
    "confusion_matrix(y_test, y_pred_kn_5)"
   ]
  },
  {
   "cell_type": "code",
   "execution_count": 73,
   "metadata": {},
   "outputs": [
    {
     "data": {
      "text/plain": [
       "0.7676767676767676"
      ]
     },
     "execution_count": 73,
     "metadata": {},
     "output_type": "execute_result"
    }
   ],
   "source": [
    "f1_score(y_test, y_pred_kn_5)"
   ]
  },
  {
   "cell_type": "code",
   "execution_count": 74,
   "metadata": {},
   "outputs": [
    {
     "name": "stdout",
     "output_type": "stream",
     "text": [
      "              precision    recall  f1-score   support\n",
      "\n",
      "           0       0.96      0.96      0.96       307\n",
      "           1       0.76      0.78      0.77        49\n",
      "\n",
      "    accuracy                           0.94       356\n",
      "   macro avg       0.86      0.87      0.87       356\n",
      "weighted avg       0.94      0.94      0.94       356\n",
      "\n"
     ]
    }
   ],
   "source": [
    "print(classification_report(y_test, y_pred_kn_5))"
   ]
  },
  {
   "cell_type": "code",
   "execution_count": 75,
   "metadata": {},
   "outputs": [
    {
     "data": {
      "text/plain": [
       "[<matplotlib.lines.Line2D at 0x1114dfe10>]"
      ]
     },
     "execution_count": 75,
     "metadata": {},
     "output_type": "execute_result"
    },
    {
     "data": {
      "image/png": "[encoded data removed]",
      "text/plain": [
       "<Figure size 432x288 with 1 Axes>"
      ]
     },
     "metadata": {
      "needs_background": "light"
     },
     "output_type": "display_data"
    }
   ],
   "source": [
    "y_pred_proba = kn_5.predict_proba(X_test)[::,1]\n",
    "fpr, tpr, _ = metrics.roc_curve(y_test,  y_pred_proba)\n",
    "auc_kn5 = metrics.roc_auc_score(y_test, y_pred_proba)\n",
    "\n",
    "plt.plot(fpr,tpr)"
   ]
  },
  {
   "cell_type": "code",
   "execution_count": 76,
   "metadata": {},
   "outputs": [
    {
     "data": {
      "text/plain": [
       "0.9195971548228412"
      ]
     },
     "execution_count": 76,
     "metadata": {},
     "output_type": "execute_result"
    }
   ],
   "source": [
    "auc_kn5"
   ]
  },
  {
   "cell_type": "markdown",
   "metadata": {},
   "source": [
    "Did you see an improvement in the confusion matrix when increasing k to 5? Did you see an improvement in the accuracy score? Write your conclusions below."
   ]
  },
  {
   "cell_type": "markdown",
   "metadata": {},
   "source": [
    "<font color='blue'>**CONCLUSION:**<br></font>\n",
    "<font color='blue'>\n",
    "* The acuracy improves slightly, but the f1 score, decreases. And the acuracy for the clasifiation of type 1 decreases too. So I do not think k=5 improves the model.\n",
    "</font>"
   ]
  },
  {
   "cell_type": "markdown",
   "metadata": {},
   "source": [
    "# Bonus Challenge - Feature Scaling\n",
    "\n",
    "Problem-solving in machine learning is iterative. You can improve your model prediction with various techniques (there is a sweetspot for the time you spend and the improvement you receive though). Now you've completed only one iteration of ML analysis. There are more iterations you can conduct to make improvements. In order to be able to do that, you will need deeper knowledge in statistics and master more data analysis techniques. In this bootcamp, we don't have time to achieve that advanced goal. But you will make constant efforts after the bootcamp to eventually get there.\n",
    "\n",
    "However, now we do want you to learn one of the advanced techniques which is called *feature scaling*. The idea of feature scaling is to standardize/normalize the range of independent variables or features of the data. This can make the outliers more apparent so that you can remove them. This step needs to happen during Challenge 6 after you split the training and test data because you don't want to split the data again which makes it impossible to compare your results with and without feature scaling. For general concepts about feature scaling, click [here](https://en.wikipedia.org/wiki/Feature_scaling). To read deeper, click [here](https://medium.com/greyatom/why-how-and-when-to-scale-your-features-4b30ab09db5e).\n",
    "\n",
    "In the next cell, attempt to improve your model prediction accuracy by means of feature scaling. A library you can utilize is `sklearn.preprocessing.RobustScaler` ([documentation](https://scikit-learn.org/stable/modules/generated/sklearn.preprocessing.RobustScaler.html)). You'll use the `RobustScaler` to fit and transform your `X_train`, then transform `X_test`. You will use logistic regression to fit and predict your transformed data and obtain the accuracy score in the same way. Compare the accuracy score with your normalized data with the previous accuracy data. Is there an improvement?"
   ]
  },
  {
   "cell_type": "code",
   "execution_count": 77,
   "metadata": {},
   "outputs": [],
   "source": [
    "# Your code here\n",
    "from sklearn.preprocessing import RobustScaler"
   ]
  },
  {
   "cell_type": "code",
   "execution_count": 78,
   "metadata": {},
   "outputs": [],
   "source": [
    "transformer = RobustScaler().fit(X_train)"
   ]
  },
  {
   "cell_type": "code",
   "execution_count": 79,
   "metadata": {},
   "outputs": [],
   "source": [
    "X_train_trans = transformer.transform(X_train)"
   ]
  },
  {
   "cell_type": "code",
   "execution_count": 80,
   "metadata": {},
   "outputs": [],
   "source": [
    "X_test_trans = transformer.transform(X_test)"
   ]
  },
  {
   "cell_type": "markdown",
   "metadata": {},
   "source": [
    "### Logistic Regresion with Feature Scalling"
   ]
  },
  {
   "cell_type": "code",
   "execution_count": 81,
   "metadata": {},
   "outputs": [
    {
     "data": {
      "text/plain": [
       "array([[304,   3],\n",
       "       [ 26,  23]])"
      ]
     },
     "execution_count": 81,
     "metadata": {},
     "output_type": "execute_result"
    }
   ],
   "source": [
    "ks_model_sc = LogisticRegression(solver='lbfgs', max_iter=200).fit(X_train_trans, y_train)\n",
    "y_pred_test_sc = ks_model_sc.predict(X_test_trans)\n",
    "confusion_matrix(y_test, y_pred_test_sc)"
   ]
  },
  {
   "cell_type": "code",
   "execution_count": 82,
   "metadata": {},
   "outputs": [
    {
     "data": {
      "text/plain": [
       "0.9185393258426966"
      ]
     },
     "execution_count": 82,
     "metadata": {},
     "output_type": "execute_result"
    }
   ],
   "source": [
    "accuracy_score(y_test, y_pred_test_sc)"
   ]
  },
  {
   "cell_type": "code",
   "execution_count": 83,
   "metadata": {},
   "outputs": [
    {
     "data": {
      "text/plain": [
       "0.6133333333333333"
      ]
     },
     "execution_count": 83,
     "metadata": {},
     "output_type": "execute_result"
    }
   ],
   "source": [
    "f1_score(y_test, y_pred_test_sc)"
   ]
  },
  {
   "cell_type": "code",
   "execution_count": 84,
   "metadata": {},
   "outputs": [
    {
     "name": "stdout",
     "output_type": "stream",
     "text": [
      "              precision    recall  f1-score   support\n",
      "\n",
      "           0       0.92      0.99      0.95       307\n",
      "           1       0.88      0.47      0.61        49\n",
      "\n",
      "    accuracy                           0.92       356\n",
      "   macro avg       0.90      0.73      0.78       356\n",
      "weighted avg       0.92      0.92      0.91       356\n",
      "\n"
     ]
    }
   ],
   "source": [
    "print(classification_report(y_test, y_pred_test_sc))"
   ]
  },
  {
   "cell_type": "markdown",
   "metadata": {},
   "source": [
    "<font color='blue'>**CONCLUSION**:<br>\n",
    "* The acuracy and f1 scores improve but very little\n",
    "</font>"
   ]
  },
  {
   "cell_type": "markdown",
   "metadata": {},
   "source": [
    "### K neighbours with Feature Scalling"
   ]
  },
  {
   "cell_type": "code",
   "execution_count": 85,
   "metadata": {},
   "outputs": [
    {
     "data": {
      "text/plain": [
       "KNeighborsClassifier(algorithm='auto', leaf_size=30, metric='minkowski',\n",
       "                     metric_params=None, n_jobs=None, n_neighbors=3, p=2,\n",
       "                     weights='uniform')"
      ]
     },
     "execution_count": 85,
     "metadata": {},
     "output_type": "execute_result"
    }
   ],
   "source": [
    "kn_3_sc = KNeighborsClassifier(n_neighbors=3)\n",
    "kn_3_sc.fit(X_train_trans, y_train) "
   ]
  },
  {
   "cell_type": "code",
   "execution_count": 86,
   "metadata": {},
   "outputs": [],
   "source": [
    "y_pred_kn_3_sc = kn_3_sc.predict(X_test_trans)"
   ]
  },
  {
   "cell_type": "code",
   "execution_count": 87,
   "metadata": {},
   "outputs": [
    {
     "data": {
      "text/plain": [
       "0.9157303370786517"
      ]
     },
     "execution_count": 87,
     "metadata": {},
     "output_type": "execute_result"
    }
   ],
   "source": [
    "accuracy_score(y_test, y_pred_kn_3_sc)"
   ]
  },
  {
   "cell_type": "code",
   "execution_count": 88,
   "metadata": {},
   "outputs": [
    {
     "data": {
      "text/plain": [
       "array([[292,  15],\n",
       "       [ 15,  34]])"
      ]
     },
     "execution_count": 88,
     "metadata": {},
     "output_type": "execute_result"
    }
   ],
   "source": [
    "confusion_matrix(y_test, y_pred_kn_3_sc)"
   ]
  },
  {
   "cell_type": "code",
   "execution_count": 89,
   "metadata": {},
   "outputs": [
    {
     "data": {
      "text/plain": [
       "0.6938775510204082"
      ]
     },
     "execution_count": 89,
     "metadata": {},
     "output_type": "execute_result"
    }
   ],
   "source": [
    "f1_score(y_test, y_pred_kn_3_sc)"
   ]
  },
  {
   "cell_type": "code",
   "execution_count": 90,
   "metadata": {},
   "outputs": [
    {
     "name": "stdout",
     "output_type": "stream",
     "text": [
      "              precision    recall  f1-score   support\n",
      "\n",
      "           0       0.95      0.95      0.95       307\n",
      "           1       0.69      0.69      0.69        49\n",
      "\n",
      "    accuracy                           0.92       356\n",
      "   macro avg       0.82      0.82      0.82       356\n",
      "weighted avg       0.92      0.92      0.92       356\n",
      "\n"
     ]
    }
   ],
   "source": [
    "print(classification_report(y_test, y_pred_kn_3_sc))"
   ]
  },
  {
   "cell_type": "markdown",
   "metadata": {},
   "source": [
    "<font color='blue'>**CONCLUSION**:<br>\n",
    "* In the K neighbours with k=3, the acuracy improves a bit.\n",
    "* The f1 score improves from 0.67 to 0.69\n",
    "* The most important for me is that th precision in recognising the malicious websites, has increased from 67% to 69%.\n",
    "</font>"
   ]
  }
 ],
 "metadata": {
  "kernelspec": {
   "display_name": "Python 3",
   "language": "python",
   "name": "python3"
  },
  "language_info": {
   "codemirror_mode": {
    "name": "ipython",
    "version": 3
   },
   "file_extension": ".py",
   "mimetype": "text/x-python",
   "name": "python",
   "nbconvert_exporter": "python",
   "pygments_lexer": "ipython3",
   "version": "3.7.3"
  },
  "toc": {
   "base_numbering": 1,
   "nav_menu": {
    "height": "115px",
    "width": "608px"
   },
   "number_sections": true,
   "sideBar": true,
   "skip_h1_title": false,
   "title_cell": "Table of Contents",
   "title_sidebar": "Contents",
   "toc_cell": false,
   "toc_position": {},
   "toc_section_display": true,
   "toc_window_display": false
  },
  "varInspector": {
   "cols": {
    "lenName": 16,
    "lenType": 16,
    "lenVar": 40
   },
   "kernels_config": {
    "python": {
     "delete_cmd_postfix": "",
     "delete_cmd_prefix": "del ",
     "library": "var_list.py",
     "varRefreshCmd": "print(var_dic_list())"
    },
    "r": {
     "delete_cmd_postfix": ") ",
     "delete_cmd_prefix": "rm(",
     "library": "var_list.r",
     "varRefreshCmd": "cat(var_dic_list()) "
    }
   },
   "types_to_exclude": [
    "module",
    "function",
    "builtin_function_or_method",
    "instance",
    "_Feature"
   ],
   "window_display": false
  }
 },
 "nbformat": 4,
 "nbformat_minor": 2
}
